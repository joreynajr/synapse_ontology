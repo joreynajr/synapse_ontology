{
 "cells": [
  {
   "cell_type": "code",
   "execution_count": 37,
   "metadata": {},
   "outputs": [],
   "source": [
    "import numpy as np\n",
    "from igraph import *\n",
    "import pandas as pd\n",
    "import sys\n",
    "\n",
    "import sys\n",
    "sys.path.append('C:\\\\Users\\\\Anubhav\\\\Documents\\\\GitHub\\\\ddot')\n",
    "\n",
    "import ddot\n",
    "from ddot import Ontology\n",
    "import matplotlib\n",
    "from matplotlib import pyplot as plt\n",
    "import networkx as nx\n",
    "import csv\n",
    "import scipy.stats as ss\n",
    "from scipy.stats import hypergeom\n",
    "from statsmodels.sandbox.stats.multicomp import multipletests\n",
    "\n",
    "from collections import defaultdict\n",
    "os.environ['KMP_DUPLICATE_LIB_OK']='True'\n",
    "\n",
    "import networkx as nx \n",
    "\n",
    "import matplotlib.pyplot as plt \n",
    "%matplotlib inline"
   ]
  },
  {
   "cell_type": "code",
   "execution_count": 38,
   "metadata": {},
   "outputs": [
    {
     "name": "stderr",
     "output_type": "stream",
     "text": [
      "C:\\Users\\Anubhav\\Anaconda3\\lib\\site-packages\\ipykernel_launcher.py:4: FutureWarning: read_table is deprecated, use read_csv instead, passing sep='\\t'.\n",
      "  after removing the cwd from sys.path.\n"
     ]
    }
   ],
   "source": [
    "#Loading clixo data\n",
    "our_ont = 'option2_string_synapse_interactions_combined_score.clixo_alpha0.2_beta0.7.txt'\n",
    "clixo_ont = pd.read_table(our_ont, dtype=str, comment='#', header=None, \n",
    "                          names=['Parent', 'Child', 'EdgeType', 'drop'])\n",
    "clixo_ont.drop('drop', axis=1, inplace=True)\n",
    "clixo_ont.loc[:, 'EdgeType'] = clixo_ont.EdgeType.str.replace('gene', 'Gene-Term').replace('default', 'Child-Parent')\n",
    "\n",
    "\n",
    "clixo_ont.to_csv('finalontology2.txt', header=True, index=False, sep='\\t', mode='a')"
   ]
  },
  {
   "cell_type": "code",
   "execution_count": 40,
   "metadata": {
    "scrolled": true
   },
   "outputs": [
    {
     "name": "stdout",
     "output_type": "stream",
     "text": [
      "20.715384615384615\n",
      "5.0\n",
      "0.25     2.0\n",
      "0.75    15.0\n",
      "Name: Parent, dtype: float64\n"
     ]
    },
    {
     "name": "stderr",
     "output_type": "stream",
     "text": [
      "C:\\Users\\Anubhav\\Anaconda3\\lib\\site-packages\\ipykernel_launcher.py:3: FutureWarning: read_table is deprecated, use read_csv instead, passing sep='\\t'.\n",
      "  This is separate from the ipykernel package so we can avoid doing imports until\n"
     ]
    },
    {
     "data": {
      "text/plain": [
       "Text(0, 0.5, 'Frequency')"
      ]
     },
     "execution_count": 40,
     "metadata": {},
     "output_type": "execute_result"
    },
    {
     "data": {
      "image/png": "[encoded data removed]",
      "text/plain": [
       "<Figure size 432x288 with 1 Axes>"
      ]
     },
     "metadata": {
      "needs_background": "light"
     },
     "output_type": "display_data"
    }
   ],
   "source": [
    "#Mean and median for Synapse ontology\n",
    "\n",
    "data = pd.read_table(\"synapse.txt\")\n",
    "print(data.Parent.value_counts().mean())\n",
    "print(data.Parent.value_counts().median())\n",
    "print(data.Parent.value_counts().quantile([0.25,0.75]))\n",
    "\n",
    "#print(data.Parent.value_counts())\n",
    "\n",
    "plt.hist(data.Parent.value_counts(), bins=range(min(data.Parent.value_counts()), max(data.Parent.value_counts())+10, 10))\n",
    "plt.title('Histogram of number of children (GO Synapse)')\n",
    "plt.xlabel('Number of children')\n",
    "plt.ylabel('Frequency')"
   ]
  },
  {
   "cell_type": "code",
   "execution_count": 57,
   "metadata": {},
   "outputs": [
    {
     "name": "stdout",
     "output_type": "stream",
     "text": [
      "192\n",
      "1177\n"
     ]
    }
   ],
   "source": [
    "print(len(set(data.Child[data.EdgeType==\"Child-Parent\"])))\n",
    "print(len(set(data.Child[data.EdgeType==\"Gene-Term\"])))"
   ]
  },
  {
   "cell_type": "code",
   "execution_count": 5,
   "metadata": {
    "scrolled": true
   },
   "outputs": [
    {
     "name": "stdout",
     "output_type": "stream",
     "text": [
      "21.508064516129032\n",
      "13.0\n",
      "0.25     9.0\n",
      "0.75    19.0\n",
      "Name: Parent, dtype: float64\n"
     ]
    }
   ],
   "source": [
    "#distribution for our calculate ontology\n",
    "data = clixo_ont\n",
    "print(data.Parent.value_counts().mean())\n",
    "print(data.Parent.value_counts().median())\n",
    "print(data.Parent.value_counts().quantile([0.25,0.75]))\n",
    "\n",
    "#print(data.Parent.value_counts())"
   ]
  },
  {
   "cell_type": "code",
   "execution_count": 6,
   "metadata": {},
   "outputs": [
    {
     "data": {
      "text/plain": [
       "Text(0, 0.5, 'Frequency')"
      ]
     },
     "execution_count": 6,
     "metadata": {},
     "output_type": "execute_result"
    },
    {
     "data": {
      "image/png": "[encoded data removed]",
      "text/plain": [
       "<Figure size 432x288 with 1 Axes>"
      ]
     },
     "metadata": {
      "needs_background": "light"
     },
     "output_type": "display_data"
    }
   ],
   "source": [
    "\n",
    "plt.hist(data.Parent.value_counts(), bins=range(min(data.Parent.value_counts()), max(data.Parent.value_counts())+10, 10), color=\"green\")\n",
    "plt.title('Histogram of number of children (Predicted ontology)')\n",
    "plt.xlabel('Number of children')\n",
    "plt.ylabel('Frequency')"
   ]
  },
  {
   "cell_type": "code",
   "execution_count": 56,
   "metadata": {},
   "outputs": [
    {
     "name": "stdout",
     "output_type": "stream",
     "text": [
      "192\n",
      "1177\n"
     ]
    }
   ],
   "source": [
    "print(len(set(data.Child[data.EdgeType==\"Child-Parent\"])))\n",
    "print(len(set(data.Child[data.EdgeType==\"Gene-Term\"])))"
   ]
  },
  {
   "cell_type": "code",
   "execution_count": null,
   "metadata": {},
   "outputs": [],
   "source": [
    "## The appropriate way to calculate the number of modules...\n",
    "\n",
    "print ('num synapse ontology terms', len(Ontology.from_table('finalontology2.txt').terms))\n",
    "print ('num synapse ontology terms', len(Ontology.from_table('synapse.txt').terms))"
   ]
  },
  {
   "cell_type": "code",
   "execution_count": null,
   "metadata": {},
   "outputs": [],
   "source": []
  }
 ],
 "metadata": {
  "kernelspec": {
   "display_name": "Python 3",
   "language": "python",
   "name": "python3"
  },
  "language_info": {
   "codemirror_mode": {
    "name": "ipython",
    "version": 3
   },
   "file_extension": ".py",
   "mimetype": "text/x-python",
   "name": "python",
   "nbconvert_exporter": "python",
   "pygments_lexer": "ipython3",
   "version": "3.7.3"
  }
 },
 "nbformat": 4,
 "nbformat_minor": 2
}
