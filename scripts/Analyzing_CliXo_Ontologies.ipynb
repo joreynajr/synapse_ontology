{
 "cells": [
  {
   "cell_type": "code",
   "execution_count": 1,
   "metadata": {},
   "outputs": [],
   "source": [
    "import sys \n",
    "import os\n",
    "import subprocess\n",
    "import numpy as np \n",
    "import time\n",
    "from itertools import product \n",
    "import glob\n",
    "import re\n",
    "import pandas as pd\n",
    "import pysynapse\n",
    "from ddot import Ontology\n",
    "import multiprocessing as mp\n",
    "from itertools import chain\n",
    "import copy\n",
    "\n",
    "\n",
    "output_dir = '../output/analyzing_clixo_ontologies'; \n",
    "if not os.path.exists(output_dir): os.makedirs(output_dir)"
   ]
  },
  {
   "cell_type": "code",
   "execution_count": 2,
   "metadata": {},
   "outputs": [],
   "source": [
    "def get_alpha_beta(l):\n",
    "    \"\"\"\n",
    "    Yield function to get the correct alpha and beta names.\n",
    "    \n",
    "    \"\"\"\n",
    "    for x in l: \n",
    "        alpha = '{:.1f}'.format(x[0])\n",
    "        beta =  '{:.1f}'.format(x[1])\n",
    "        yield((alpha, beta))\n",
    "        \n",
    "    yield(None, None)\n",
    "\n",
    "def read_clixo_stats(fn):\n",
    "    dic = {'num_valid_clusters': np.nan, 'largest_cluster': np.nan, \n",
    "          'num_edges_in_clustergraph': np.nan, 'num_clusters': np.nan}\n",
    "    with open(fn) as f: \n",
    "        for line in f: \n",
    "            if line.startswith('#'):\n",
    "                if 'Num valid clusters' in line: \n",
    "                    dic['num_valid_clusters'] = int(line.strip().split()[-1])\n",
    "                elif 'Largest cluster' in line:\n",
    "                    dic['largest_cluster'] = int(line.strip().split()[-1])\n",
    "                elif 'Num edges in clusterGraph' in line:\n",
    "                    dic['num_edges_in_clustergraph'] = int(line.strip().split()[-1])\n",
    "                elif 'Num clusters' in line:\n",
    "                    dic['num_clusters'] = int(line.strip().split()[-1])\n",
    "\n",
    "    return(dic)"
   ]
  },
  {
   "cell_type": "markdown",
   "metadata": {},
   "source": [
    "## Clean the CliXo ontology for Enrichment Analysis "
   ]
  },
  {
   "cell_type": "code",
   "execution_count": 3,
   "metadata": {},
   "outputs": [],
   "source": [
    "def generate_clean_ont_file(fn, out_fn): \n",
    "    \n",
    "    with open(fn) as fr, open(out_fn, 'w') as fw: \n",
    "        \n",
    "        fw.write('Parent\\tChild\\tEdgeType\\n')\n",
    "        for line in fr:\n",
    "            if line.startswith('#'):\n",
    "                continue\n",
    "            else:\n",
    "                line = line.strip().split('\\t')\n",
    "                line[2] = line[2].replace('default', 'Child-Parent')\n",
    "                line[2] = line[2].replace('gene', 'Gene-Term')\n",
    "                line = '\\t'.join(line[0:3]) + '\\n'\n",
    "                fw.write(line)\n",
    "    return(clean_fn)"
   ]
  },
  {
   "cell_type": "code",
   "execution_count": 4,
   "metadata": {},
   "outputs": [],
   "source": [
    "pattern = 'option([0-9])'\n",
    "for fn in sorted(glob.glob('../output/run_clixo/option*/*')):\n",
    "    \n",
    "    if 'archive' in fn:\n",
    "        continue \n",
    "        \n",
    "    option = re.search(pattern, fn).groups()[0]\n",
    "    clean_fn = 'option{}_{}'.format(option, os.path.basename(fn))\n",
    "    clean_fn = os.path.join(output_dir, clean_fn)\n",
    "    if not os.path.exists(clean_fn):\n",
    "        clean_fn = generate_clean_ont_file(fn, clean_fn) "
   ]
  },
  {
   "cell_type": "markdown",
   "metadata": {},
   "source": [
    "## Calculate the number of genes "
   ]
  },
  {
   "cell_type": "code",
   "execution_count": 5,
   "metadata": {},
   "outputs": [],
   "source": [
    "def read_number_of_genes(fn):\n",
    "    genes = set() \n",
    "    with open(fn) as f:\n",
    "        for line in f:\n",
    "            line = line.split() \n",
    "            if line[2] == 'Gene-Term':\n",
    "                genes.add(line[1]) \n",
    "    return(len(genes))"
   ]
  },
  {
   "cell_type": "code",
   "execution_count": 6,
   "metadata": {},
   "outputs": [],
   "source": [
    "gene_stats = []\n",
    "pattern = 'option([0-9]).*alpha([0-9]*\\.[0-9]*)_beta([0-9]*\\.[0-9]*)'\n",
    "for fn in sorted(glob.glob(os.path.join(output_dir, '*txt'))):\n",
    "        \n",
    "    params = re.search(pattern, fn)\n",
    "    option, alpha, beta = [float(x) for x in params.groups()]  \n",
    "    \n",
    "    clean_fn = os.path.basename(fn)\n",
    "    clean_fn = os.path.join(output_dir, clean_fn)\n",
    "    \n",
    "    num_genes = read_number_of_genes(clean_fn)\n",
    "    gene_stats.append([option, alpha, beta, num_genes])\n",
    "\n",
    "gene_stats = pd.DataFrame(gene_stats, columns=['option', 'alpha', 'beta', 'num_genes'])\n",
    "option_grps = gene_stats.groupby('option')"
   ]
  },
  {
   "cell_type": "code",
   "execution_count": 7,
   "metadata": {},
   "outputs": [
    {
     "data": {
      "text/html": [
       "<div>\n",
       "<style scoped>\n",
       "    .dataframe tbody tr th:only-of-type {\n",
       "        vertical-align: middle;\n",
       "    }\n",
       "\n",
       "    .dataframe tbody tr th {\n",
       "        vertical-align: top;\n",
       "    }\n",
       "\n",
       "    .dataframe thead th {\n",
       "        text-align: right;\n",
       "    }\n",
       "</style>\n",
       "<table border=\"1\" class=\"dataframe\">\n",
       "  <thead>\n",
       "    <tr style=\"text-align: right;\">\n",
       "      <th></th>\n",
       "      <th>option</th>\n",
       "      <th>alpha</th>\n",
       "      <th>beta</th>\n",
       "      <th>num_genes</th>\n",
       "    </tr>\n",
       "  </thead>\n",
       "  <tbody>\n",
       "    <tr>\n",
       "      <th>287</th>\n",
       "      <td>4.0</td>\n",
       "      <td>0.6</td>\n",
       "      <td>0.5</td>\n",
       "      <td>0</td>\n",
       "    </tr>\n",
       "    <tr>\n",
       "      <th>292</th>\n",
       "      <td>4.0</td>\n",
       "      <td>0.7</td>\n",
       "      <td>0.5</td>\n",
       "      <td>0</td>\n",
       "    </tr>\n",
       "    <tr>\n",
       "      <th>297</th>\n",
       "      <td>4.0</td>\n",
       "      <td>0.8</td>\n",
       "      <td>0.5</td>\n",
       "      <td>0</td>\n",
       "    </tr>\n",
       "    <tr>\n",
       "      <th>302</th>\n",
       "      <td>4.0</td>\n",
       "      <td>0.9</td>\n",
       "      <td>0.5</td>\n",
       "      <td>0</td>\n",
       "    </tr>\n",
       "    <tr>\n",
       "      <th>303</th>\n",
       "      <td>4.0</td>\n",
       "      <td>0.9</td>\n",
       "      <td>0.6</td>\n",
       "      <td>0</td>\n",
       "    </tr>\n",
       "  </tbody>\n",
       "</table>\n",
       "</div>"
      ],
      "text/plain": [
       "     option  alpha  beta  num_genes\n",
       "287     4.0    0.6   0.5          0\n",
       "292     4.0    0.7   0.5          0\n",
       "297     4.0    0.8   0.5          0\n",
       "302     4.0    0.9   0.5          0\n",
       "303     4.0    0.9   0.6          0"
      ]
     },
     "execution_count": 7,
     "metadata": {},
     "output_type": "execute_result"
    }
   ],
   "source": [
    "gene_stats[gene_stats.num_genes == 0 ]"
   ]
  },
  {
   "cell_type": "code",
   "execution_count": 8,
   "metadata": {},
   "outputs": [
    {
     "data": {
      "text/html": [
       "<div>\n",
       "<style scoped>\n",
       "    .dataframe tbody tr th:only-of-type {\n",
       "        vertical-align: middle;\n",
       "    }\n",
       "\n",
       "    .dataframe tbody tr th {\n",
       "        vertical-align: top;\n",
       "    }\n",
       "\n",
       "    .dataframe thead th {\n",
       "        text-align: right;\n",
       "    }\n",
       "</style>\n",
       "<table border=\"1\" class=\"dataframe\">\n",
       "  <thead>\n",
       "    <tr style=\"text-align: right;\">\n",
       "      <th></th>\n",
       "      <th>count</th>\n",
       "      <th>mean</th>\n",
       "      <th>std</th>\n",
       "      <th>min</th>\n",
       "      <th>25%</th>\n",
       "      <th>50%</th>\n",
       "      <th>75%</th>\n",
       "      <th>max</th>\n",
       "    </tr>\n",
       "    <tr>\n",
       "      <th>option</th>\n",
       "      <th></th>\n",
       "      <th></th>\n",
       "      <th></th>\n",
       "      <th></th>\n",
       "      <th></th>\n",
       "      <th></th>\n",
       "      <th></th>\n",
       "      <th></th>\n",
       "    </tr>\n",
       "  </thead>\n",
       "  <tbody>\n",
       "    <tr>\n",
       "      <th>0.0</th>\n",
       "      <td>1.0</td>\n",
       "      <td>1177.000000</td>\n",
       "      <td>NaN</td>\n",
       "      <td>1177.0</td>\n",
       "      <td>1177.0</td>\n",
       "      <td>1177.0</td>\n",
       "      <td>1177.0</td>\n",
       "      <td>1177.0</td>\n",
       "    </tr>\n",
       "    <tr>\n",
       "      <th>2.0</th>\n",
       "      <td>80.0</td>\n",
       "      <td>1283.000000</td>\n",
       "      <td>0.000000</td>\n",
       "      <td>1283.0</td>\n",
       "      <td>1283.0</td>\n",
       "      <td>1283.0</td>\n",
       "      <td>1283.0</td>\n",
       "      <td>1283.0</td>\n",
       "    </tr>\n",
       "    <tr>\n",
       "      <th>4.0</th>\n",
       "      <td>226.0</td>\n",
       "      <td>1642.831858</td>\n",
       "      <td>247.653769</td>\n",
       "      <td>0.0</td>\n",
       "      <td>1680.0</td>\n",
       "      <td>1680.0</td>\n",
       "      <td>1680.0</td>\n",
       "      <td>1680.0</td>\n",
       "    </tr>\n",
       "  </tbody>\n",
       "</table>\n",
       "</div>"
      ],
      "text/plain": [
       "        count         mean         std     min     25%     50%     75%     max\n",
       "option                                                                        \n",
       "0.0       1.0  1177.000000         NaN  1177.0  1177.0  1177.0  1177.0  1177.0\n",
       "2.0      80.0  1283.000000    0.000000  1283.0  1283.0  1283.0  1283.0  1283.0\n",
       "4.0     226.0  1642.831858  247.653769     0.0  1680.0  1680.0  1680.0  1680.0"
      ]
     },
     "execution_count": 8,
     "metadata": {},
     "output_type": "execute_result"
    }
   ],
   "source": [
    "option_grps.num_genes.describe()"
   ]
  },
  {
   "cell_type": "code",
   "execution_count": 9,
   "metadata": {},
   "outputs": [
    {
     "data": {
      "text/plain": [
       "option  num_genes\n",
       "0.0     1177           1\n",
       "2.0     1283          80\n",
       "4.0     1680         221\n",
       "        0              5\n",
       "Name: num_genes, dtype: int64"
      ]
     },
     "execution_count": 9,
     "metadata": {},
     "output_type": "execute_result"
    }
   ],
   "source": [
    "option_grps.num_genes.value_counts()"
   ]
  },
  {
   "cell_type": "code",
   "execution_count": 10,
   "metadata": {},
   "outputs": [
    {
     "data": {
      "text/html": [
       "<div>\n",
       "<style scoped>\n",
       "    .dataframe tbody tr th:only-of-type {\n",
       "        vertical-align: middle;\n",
       "    }\n",
       "\n",
       "    .dataframe tbody tr th {\n",
       "        vertical-align: top;\n",
       "    }\n",
       "\n",
       "    .dataframe thead th {\n",
       "        text-align: right;\n",
       "    }\n",
       "</style>\n",
       "<table border=\"1\" class=\"dataframe\">\n",
       "  <thead>\n",
       "    <tr style=\"text-align: right;\">\n",
       "      <th></th>\n",
       "      <th>option</th>\n",
       "      <th>alpha</th>\n",
       "      <th>beta</th>\n",
       "      <th>num_genes</th>\n",
       "    </tr>\n",
       "  </thead>\n",
       "  <tbody>\n",
       "    <tr>\n",
       "      <th>300</th>\n",
       "      <td>4.0</td>\n",
       "      <td>0.8</td>\n",
       "      <td>0.8</td>\n",
       "      <td>1680</td>\n",
       "    </tr>\n",
       "    <tr>\n",
       "      <th>301</th>\n",
       "      <td>4.0</td>\n",
       "      <td>0.8</td>\n",
       "      <td>0.9</td>\n",
       "      <td>1680</td>\n",
       "    </tr>\n",
       "    <tr>\n",
       "      <th>302</th>\n",
       "      <td>4.0</td>\n",
       "      <td>0.9</td>\n",
       "      <td>0.5</td>\n",
       "      <td>0</td>\n",
       "    </tr>\n",
       "    <tr>\n",
       "      <th>303</th>\n",
       "      <td>4.0</td>\n",
       "      <td>0.9</td>\n",
       "      <td>0.6</td>\n",
       "      <td>0</td>\n",
       "    </tr>\n",
       "    <tr>\n",
       "      <th>304</th>\n",
       "      <td>4.0</td>\n",
       "      <td>0.9</td>\n",
       "      <td>0.7</td>\n",
       "      <td>1680</td>\n",
       "    </tr>\n",
       "    <tr>\n",
       "      <th>305</th>\n",
       "      <td>4.0</td>\n",
       "      <td>0.9</td>\n",
       "      <td>0.8</td>\n",
       "      <td>1680</td>\n",
       "    </tr>\n",
       "    <tr>\n",
       "      <th>306</th>\n",
       "      <td>4.0</td>\n",
       "      <td>0.9</td>\n",
       "      <td>0.9</td>\n",
       "      <td>1680</td>\n",
       "    </tr>\n",
       "  </tbody>\n",
       "</table>\n",
       "</div>"
      ],
      "text/plain": [
       "     option  alpha  beta  num_genes\n",
       "300     4.0    0.8   0.8       1680\n",
       "301     4.0    0.8   0.9       1680\n",
       "302     4.0    0.9   0.5          0\n",
       "303     4.0    0.9   0.6          0\n",
       "304     4.0    0.9   0.7       1680\n",
       "305     4.0    0.9   0.8       1680\n",
       "306     4.0    0.9   0.9       1680"
      ]
     },
     "execution_count": 10,
     "metadata": {},
     "output_type": "execute_result"
    }
   ],
   "source": [
    "option_grps.get_group(4.0).tail(7)"
   ]
  },
  {
   "cell_type": "code",
   "execution_count": 11,
   "metadata": {},
   "outputs": [
    {
     "data": {
      "text/html": [
       "<div>\n",
       "<style scoped>\n",
       "    .dataframe tbody tr th:only-of-type {\n",
       "        vertical-align: middle;\n",
       "    }\n",
       "\n",
       "    .dataframe tbody tr th {\n",
       "        vertical-align: top;\n",
       "    }\n",
       "\n",
       "    .dataframe thead th {\n",
       "        text-align: right;\n",
       "    }\n",
       "</style>\n",
       "<table border=\"1\" class=\"dataframe\">\n",
       "  <thead>\n",
       "    <tr style=\"text-align: right;\">\n",
       "      <th></th>\n",
       "      <th>option</th>\n",
       "      <th>alpha</th>\n",
       "      <th>beta</th>\n",
       "      <th>num_genes</th>\n",
       "    </tr>\n",
       "  </thead>\n",
       "  <tbody>\n",
       "    <tr>\n",
       "      <th>74</th>\n",
       "      <td>2.0</td>\n",
       "      <td>0.04</td>\n",
       "      <td>0.43</td>\n",
       "      <td>1283</td>\n",
       "    </tr>\n",
       "    <tr>\n",
       "      <th>75</th>\n",
       "      <td>2.0</td>\n",
       "      <td>0.04</td>\n",
       "      <td>0.44</td>\n",
       "      <td>1283</td>\n",
       "    </tr>\n",
       "    <tr>\n",
       "      <th>76</th>\n",
       "      <td>2.0</td>\n",
       "      <td>0.04</td>\n",
       "      <td>0.45</td>\n",
       "      <td>1283</td>\n",
       "    </tr>\n",
       "    <tr>\n",
       "      <th>77</th>\n",
       "      <td>2.0</td>\n",
       "      <td>0.04</td>\n",
       "      <td>0.46</td>\n",
       "      <td>1283</td>\n",
       "    </tr>\n",
       "    <tr>\n",
       "      <th>78</th>\n",
       "      <td>2.0</td>\n",
       "      <td>0.04</td>\n",
       "      <td>0.47</td>\n",
       "      <td>1283</td>\n",
       "    </tr>\n",
       "    <tr>\n",
       "      <th>79</th>\n",
       "      <td>2.0</td>\n",
       "      <td>0.04</td>\n",
       "      <td>0.48</td>\n",
       "      <td>1283</td>\n",
       "    </tr>\n",
       "    <tr>\n",
       "      <th>80</th>\n",
       "      <td>2.0</td>\n",
       "      <td>0.04</td>\n",
       "      <td>0.49</td>\n",
       "      <td>1283</td>\n",
       "    </tr>\n",
       "  </tbody>\n",
       "</table>\n",
       "</div>"
      ],
      "text/plain": [
       "    option  alpha  beta  num_genes\n",
       "74     2.0   0.04  0.43       1283\n",
       "75     2.0   0.04  0.44       1283\n",
       "76     2.0   0.04  0.45       1283\n",
       "77     2.0   0.04  0.46       1283\n",
       "78     2.0   0.04  0.47       1283\n",
       "79     2.0   0.04  0.48       1283\n",
       "80     2.0   0.04  0.49       1283"
      ]
     },
     "execution_count": 11,
     "metadata": {},
     "output_type": "execute_result"
    }
   ],
   "source": [
    "option_grps.get_group(2.0).tail(7)"
   ]
  },
  {
   "cell_type": "markdown",
   "metadata": {},
   "source": [
    "## Calculate CliXo statistics "
   ]
  },
  {
   "cell_type": "code",
   "execution_count": 14,
   "metadata": {},
   "outputs": [],
   "source": [
    "clixo_stats = {}\n",
    "pattern = 'option([0-9]).*alpha([0-9]*\\.[0-9]*)_beta([0-9]*\\.[0-9]*)'\n",
    "for fn in sorted(glob.glob('../output/run_clixo/option*/*')):\n",
    "        \n",
    "    if 'archive' in fn:\n",
    "        continue \n",
    "        \n",
    "    params = re.search(pattern, fn)\n",
    "    option, alpha, beta = [float(x) for x in params.groups()] \n",
    "    option = int(option)\n",
    "    if alpha == None:\n",
    "        break\n",
    "\n",
    "    # Getting CliXo stats \n",
    "    stats = read_clixo_stats(fn) \n",
    "    \n",
    "    clean_fn = 'option{}_{}'.format(option, os.path.basename(fn))\n",
    "    clean_fn = os.path.join(output_dir, clean_fn)\n",
    "    \n",
    "    # Getting GO enrichment stats\n",
    "    with open(clean_fn) as f: \n",
    "        file_len = len(f.readlines())\n",
    "    if file_len > 1: \n",
    "        go_enrichment = pysynapse.compare_to_go(clean_fn)\n",
    "    else:\n",
    "        go_enrichment = np.nan\n",
    "    stats['go_enrichment'] = go_enrichment    \n",
    "    key = tuple([option, alpha, beta]) \n",
    "    clixo_stats[key] = stats"
   ]
  },
  {
   "cell_type": "code",
   "execution_count": 15,
   "metadata": {},
   "outputs": [],
   "source": [
    "clixo_stats_df = pd.DataFrame.from_dict(clixo_stats, orient='index')\n",
    "clixo_stats_df.reset_index(inplace=True)\n",
    "clixo_stats_df.rename(columns={'level_0': 'option', \n",
    "                               'level_1': 'alpha',\n",
    "                               'level_2': 'beta'}, inplace=True)"
   ]
  },
  {
   "cell_type": "code",
   "execution_count": 16,
   "metadata": {},
   "outputs": [
    {
     "data": {
      "text/plain": [
       "count    301.000000\n",
       "mean      44.245847\n",
       "std       25.613526\n",
       "min        0.000000\n",
       "25%       23.000000\n",
       "50%       47.000000\n",
       "75%       64.000000\n",
       "max      100.000000\n",
       "Name: go_enrichment, dtype: float64"
      ]
     },
     "execution_count": 16,
     "metadata": {},
     "output_type": "execute_result"
    }
   ],
   "source": [
    "clixo_stats_df.go_enrichment.describe()"
   ]
  },
  {
   "cell_type": "markdown",
   "metadata": {},
   "source": [
    "## Analyze disease enrichment with Multiprocessing "
   ]
  },
  {
   "cell_type": "code",
   "execution_count": 17,
   "metadata": {},
   "outputs": [],
   "source": [
    "def analyze_gene_enrichment_test(ont_fn, disease_gene_fn, alpha):\n",
    "\n",
    "    ## We read in our ontology\n",
    "    #Generate custom ontology from Chromatin branch from human GO\n",
    "    #ontology_file=Generate_Ontology_File('GO:0000785')\n",
    "    ont = Ontology.from_table(ont_fn)\n",
    "    translated = pysynapse.Find_GO_Focus_GeneDict(ont)\n",
    "\n",
    "    ont = Ontology.from_table(ont_fn)\n",
    "\n",
    "    #Test genes: autism\n",
    "    text_file = open(disease_gene_fn, \"r\")\n",
    "    test_gene_list = text_file.read().splitlines()\n",
    "    text_file.close()\n",
    "\n",
    "    #print(\"Number of autism genes in our ontology:\" ,  len(set(ont.genes).intersection(set(test_gene_list))))\n",
    "    num_ont_disease_genes = len(set(ont.genes).intersection(set(test_gene_list)))\n",
    "\n",
    "    #Find number of test genes in enriched modules:\n",
    "    num_enriched_disease_genes = \\\n",
    "        pysynapse.Find_num_genes_in_enriched(ont, translated, test_gene_list, alpha=0.3)\n",
    "\n",
    "    return((num_ont_disease_genes, num_enriched_disease_genes))\n"
   ]
  },
  {
   "cell_type": "code",
   "execution_count": 18,
   "metadata": {},
   "outputs": [],
   "source": [
    "diseases = ['adhd', 'autism', 'bipolar', 'mdd', 'schizophrenia']"
   ]
  },
  {
   "cell_type": "code",
   "execution_count": 20,
   "metadata": {},
   "outputs": [],
   "source": [
    "disease_stats = {}\n",
    "\n",
    "# Define an output queue\n",
    "output = mp.Queue()\n",
    "\n",
    "pattern = 'option([0-9]).*alpha([0-9]*\\.[0-9]*)_beta([0-9]*\\.[0-9]*)'\n",
    "clean_fns = glob.glob(os.path.join(output_dir + '/*.txt'))\n",
    "\n",
    "for clean_fn in sorted(clean_fns):\n",
    "          \n",
    "    params = re.search(pattern, clean_fn)\n",
    "    option, alpha, beta = [float(x) for x in params.groups()]    \n",
    "    \n",
    "    with open(clean_fn) as f: \n",
    "        file_len = len(f.readlines())\n",
    "    if file_len > 1: \n",
    "        # Setup a list of processes that we want to run\n",
    "        processes = []\n",
    "        results = []\n",
    "        for disease in diseases: \n",
    "            disease_gene_fn = '../output/omim_psychiatric_disease_genes/{}.txt'.format(disease)\n",
    "            result = analyze_gene_enrichment_test(clean_fn, disease_gene_fn, alpha=0.3)\n",
    "            results.append(result) \n",
    "        disease_stats[(option, alpha, beta)] = results "
   ]
  },
  {
   "cell_type": "code",
   "execution_count": 21,
   "metadata": {},
   "outputs": [],
   "source": [
    "disease_cols = [('{}_genes'.format(disease), \n",
    "                 '{}_enriched_genes'.format(disease)) for disease in diseases]\n",
    "disease_cols = list(chain(*disease_cols))\n",
    "disease_cols = ['option', 'alpha', 'beta'] + disease_cols\n",
    "disease_stats_tmp = [list(k) + list(chain(*v)) for k, v in disease_stats.items()]\n",
    "disease_stats_df = pd.DataFrame(disease_stats_tmp, columns=disease_cols)"
   ]
  },
  {
   "cell_type": "markdown",
   "metadata": {},
   "source": [
    "## Network metrics "
   ]
  },
  {
   "cell_type": "code",
   "execution_count": 22,
   "metadata": {},
   "outputs": [],
   "source": [
    "#distribution for the breadth of child-parent edges\n",
    "#Loading clixo data\n",
    "pattern = 'option([0-9]).*alpha([0-9]*\\.[0-9]*)_beta([0-9]*\\.[0-9]*)'\n",
    "\n",
    "network_results = {}\n",
    "for clean_fn in sorted(clean_fns):\n",
    "          \n",
    "    params = re.search(pattern, clean_fn)\n",
    "    option, alpha, beta = [float(x) for x in params.groups()] \n",
    "\n",
    "    clixo_ont = pd.read_table(clean_fn, dtype=str)\n",
    "    child_dist = clixo_ont[clixo_ont.EdgeType == 'Child-Parent']\n",
    "    parent_groups = child_dist.groupby('Parent')\n",
    "    gene_dist = parent_groups.Child.count()\n",
    "    gene_info = gene_dist.describe()[['mean', 'min', '25%', '50%', '75%', 'max']].tolist()\n",
    "\n",
    "    #distribution for the breadth of child-parent edges\n",
    "    module_dist = clixo_ont[clixo_ont.EdgeType == 'Gene-Term']\n",
    "    parent_groups = module_dist.groupby('Parent')\n",
    "    module_dist = parent_groups.Child.count()\n",
    "    module_info = module_dist.describe()[['mean', 'min', '25%', '50%', '75%', 'max']].tolist()\n",
    "    \n",
    "    results = gene_info + module_info \n",
    "    network_results[(option, alpha, beta)] = results \n",
    "\n",
    "network_cols = ['option', 'alpha', 'beta']\n",
    "network_cols += ['gd_{}'.format(x) for x in ['mean', 'min', '25%',  '50%', '75%', 'max']]\n",
    "network_cols += ['md_{}'.format(x) for x in ['mean', 'min', '25%',  '50%', '75%', 'max']]\n",
    "network_results = [list(k) + list(v) for k, v in network_results.items()]\n",
    "network_df = pd.DataFrame(network_results, columns=network_cols)"
   ]
  },
  {
   "cell_type": "markdown",
   "metadata": {},
   "source": [
    "## Merge the dataframes together "
   ]
  },
  {
   "cell_type": "code",
   "execution_count": 23,
   "metadata": {},
   "outputs": [],
   "source": [
    "merged_df = pd.merge(clixo_stats_df, disease_stats_df, \n",
    "                     on=['option', 'alpha', 'beta'], how='left')\n",
    "merged_df = pd.merge(merged_df, network_df, on=['option', 'alpha', 'beta'])\n",
    "fn = os.path.join(output_dir, 'ontology_stats.tsv')\n",
    "merged_df.to_csv(fn, sep='\\t', index=False)"
   ]
  },
  {
   "cell_type": "markdown",
   "metadata": {},
   "source": [
    "## Counting the number of dieased genes in ont"
   ]
  },
  {
   "cell_type": "code",
   "execution_count": 24,
   "metadata": {},
   "outputs": [
    {
     "name": "stdout",
     "output_type": "stream",
     "text": [
      "adhd 14\n",
      "autism 12\n",
      "bipolar 1\n",
      "mdd 3\n",
      "schizophrenia 16\n"
     ]
    }
   ],
   "source": [
    "clean_fn = clean_fns[0]\n",
    "for disease in diseases:\n",
    "\n",
    "    fn = '../output/omim_psychiatric_disease_genes/{}.txt'.format(disease)\n",
    "    with open(fn) as f: \n",
    "        disease_genes = [x.strip() for x in f.readlines()]\n",
    "    \n",
    "    ## We read in our ontology\n",
    "    #Generate custom ontology from Chromatin branch from human GO\n",
    "    #ontology_file=Generate_Ontology_File('GO:0000785')\n",
    "    ont = Ontology.from_table(clean_fn)\n",
    "    inter = len(set(ont.genes).intersection(set(disease_genes)))\n",
    "    \n",
    "    print(disease, inter)"
   ]
  },
  {
   "cell_type": "code",
   "execution_count": null,
   "metadata": {},
   "outputs": [],
   "source": []
  },
  {
   "cell_type": "code",
   "execution_count": null,
   "metadata": {},
   "outputs": [],
   "source": []
  },
  {
   "cell_type": "code",
   "execution_count": null,
   "metadata": {},
   "outputs": [],
   "source": []
  },
  {
   "cell_type": "code",
   "execution_count": null,
   "metadata": {},
   "outputs": [],
   "source": []
  },
  {
   "cell_type": "code",
   "execution_count": null,
   "metadata": {},
   "outputs": [],
   "source": []
  },
  {
   "cell_type": "code",
   "execution_count": null,
   "metadata": {},
   "outputs": [],
   "source": []
  },
  {
   "cell_type": "code",
   "execution_count": null,
   "metadata": {},
   "outputs": [],
   "source": []
  },
  {
   "cell_type": "code",
   "execution_count": null,
   "metadata": {},
   "outputs": [],
   "source": []
  },
  {
   "cell_type": "code",
   "execution_count": null,
   "metadata": {},
   "outputs": [],
   "source": []
  },
  {
   "cell_type": "code",
   "execution_count": null,
   "metadata": {},
   "outputs": [],
   "source": []
  },
  {
   "cell_type": "code",
   "execution_count": null,
   "metadata": {},
   "outputs": [],
   "source": []
  },
  {
   "cell_type": "code",
   "execution_count": null,
   "metadata": {},
   "outputs": [],
   "source": []
  },
  {
   "cell_type": "code",
   "execution_count": null,
   "metadata": {},
   "outputs": [],
   "source": []
  },
  {
   "cell_type": "code",
   "execution_count": null,
   "metadata": {},
   "outputs": [],
   "source": []
  },
  {
   "cell_type": "code",
   "execution_count": null,
   "metadata": {},
   "outputs": [],
   "source": []
  }
 ],
 "metadata": {
  "kernelspec": {
   "display_name": "Python (DNA Shape)",
   "language": "python",
   "name": "dna_shape"
  },
  "language_info": {
   "codemirror_mode": {
    "name": "ipython",
    "version": 3
   },
   "file_extension": ".py",
   "mimetype": "text/x-python",
   "name": "python",
   "nbconvert_exporter": "python",
   "pygments_lexer": "ipython3",
   "version": "3.7.1"
  }
 },
 "nbformat": 4,
 "nbformat_minor": 2
}
