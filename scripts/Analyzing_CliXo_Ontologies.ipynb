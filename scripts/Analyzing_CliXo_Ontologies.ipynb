{
 "cells": [
  {
   "cell_type": "code",
   "execution_count": 47,
   "metadata": {},
   "outputs": [],
   "source": [
    "import sys \n",
    "import os\n",
    "import subprocess\n",
    "import numpy as np \n",
    "import time\n",
    "from itertools import product \n",
    "import glob\n",
    "import re\n",
    "import pandas as pd\n",
    "import pysynapse\n",
    "from ddot import Ontology\n",
    "import multiprocessing as mp\n",
    "from itertools import chain\n",
    "\n",
    "\n",
    "output_dir = '../output/analyzing_clixo_ontologies'; \n",
    "if not os.path.exists(output_dir): os.makedirs(output_dir)"
   ]
  },
  {
   "cell_type": "code",
   "execution_count": 48,
   "metadata": {},
   "outputs": [],
   "source": [
    "def get_alpha_beta(l):\n",
    "    \"\"\"\n",
    "    Yield function to get the correct alpha and beta names.\n",
    "    \n",
    "    \"\"\"\n",
    "    for x in l: \n",
    "        alpha = '{:.1f}'.format(x[0])\n",
    "        beta =  '{:.1f}'.format(x[1])\n",
    "        yield((alpha, beta))\n",
    "        \n",
    "    yield(None, None)\n",
    "\n",
    "def read_clixo_stats(fn):\n",
    "    dic = {'num_valid_clusters': np.nan, 'largest_cluster': np.nan, \n",
    "          'num_edges_in_clustergraph': np.nan, 'num_clusters': np.nan}\n",
    "    with open(fn) as f: \n",
    "        for line in f: \n",
    "            if line.startswith('#'):\n",
    "                if 'Num valid clusters' in line: \n",
    "                    dic['num_valid_clusters'] = int(line.strip().split()[-1])\n",
    "                elif 'Largest cluster' in line:\n",
    "                    dic['largest_cluster'] = int(line.strip().split()[-1])\n",
    "                elif 'Num edges in clusterGraph' in line:\n",
    "                    dic['num_edges_in_clustergraph'] = int(line.strip().split()[-1])\n",
    "                elif 'Num clusters' in line:\n",
    "                    dic['num_clusters'] = int(line.strip().split()[-1])\n",
    "\n",
    "    return(dic)"
   ]
  },
  {
   "cell_type": "markdown",
   "metadata": {},
   "source": [
    "## Clean the CliXo ontology for Enrichment Analysis "
   ]
  },
  {
   "cell_type": "code",
   "execution_count": 49,
   "metadata": {},
   "outputs": [],
   "source": [
    "def generate_clean_ont_file(fn, out_fn): \n",
    "    \n",
    "    with open(fn) as fr, open(out_fn, 'w') as fw: \n",
    "        \n",
    "        fw.write('Parent\\tChild\\tEdgeType\\n')\n",
    "        for line in fr:\n",
    "            if line.startswith('#'):\n",
    "                continue\n",
    "            else:\n",
    "                line = line.strip().split('\\t')\n",
    "                line[2] = line[2].replace('default', 'Child-Parent')\n",
    "                line[2] = line[2].replace('gene', 'Gene-Term')\n",
    "                line = '\\t'.join(line[0:3]) + '\\n'\n",
    "                fw.write(line)\n",
    "    return(clean_fn)"
   ]
  },
  {
   "cell_type": "code",
   "execution_count": 64,
   "metadata": {},
   "outputs": [],
   "source": [
    "pattern = 'option([0-9])'\n",
    "for fn in sorted(glob.glob('../output/run_clixo/option*/*')):\n",
    "    option = re.search(pattern, fn).groups()[0]\n",
    "    clean_fn = 'option{}_{}'.format(option, os.path.basename(fn))\n",
    "    clean_fn = os.path.join(output_dir, clean_fn)\n",
    "    if not os.path.exists(clean_fn):\n",
    "        clean_fn = generate_clean_ont_file(fn, clean_fn) "
   ]
  },
  {
   "cell_type": "markdown",
   "metadata": {},
   "source": [
    "## Calculate the number of genes "
   ]
  },
  {
   "cell_type": "code",
   "execution_count": 51,
   "metadata": {},
   "outputs": [],
   "source": [
    "def read_number_of_genes(fn):\n",
    "    genes = set() \n",
    "    with open(fn) as f:\n",
    "        for line in f:\n",
    "            line = line.split() \n",
    "            if line[2] == 'Gene-Term':\n",
    "                genes.add(line[1]) \n",
    "    return(len(genes))"
   ]
  },
  {
   "cell_type": "code",
   "execution_count": 52,
   "metadata": {},
   "outputs": [],
   "source": [
    "gene_stats = []\n",
    "pattern = 'option([0-9]).*alpha([0-9]*\\.[0-9]*)_beta([0-9]*\\.[0-9]*)'\n",
    "for fn in sorted(glob.glob(os.path.join(output_dir, '*txt'))):\n",
    "        \n",
    "    params = re.search(pattern, fn)\n",
    "    option, alpha, beta = [float(x) for x in params.groups()]  \n",
    "    \n",
    "    clean_fn = os.path.basename(fn)\n",
    "    clean_fn = os.path.join(output_dir, clean_fn)\n",
    "    \n",
    "    num_genes = read_number_of_genes(clean_fn)\n",
    "    gene_stats.append([option, alpha, beta, num_genes])"
   ]
  },
  {
   "cell_type": "code",
   "execution_count": 53,
   "metadata": {},
   "outputs": [],
   "source": [
    "gene_stats = pd.DataFrame(gene_stats, columns=['option', 'alpha', 'beta', 'num_genes'])\n",
    "option_grps = gene_stats.groupby('option')"
   ]
  },
  {
   "cell_type": "code",
   "execution_count": 59,
   "metadata": {},
   "outputs": [
    {
     "data": {
      "text/html": [
       "<div>\n",
       "<style scoped>\n",
       "    .dataframe tbody tr th:only-of-type {\n",
       "        vertical-align: middle;\n",
       "    }\n",
       "\n",
       "    .dataframe tbody tr th {\n",
       "        vertical-align: top;\n",
       "    }\n",
       "\n",
       "    .dataframe thead th {\n",
       "        text-align: right;\n",
       "    }\n",
       "</style>\n",
       "<table border=\"1\" class=\"dataframe\">\n",
       "  <thead>\n",
       "    <tr style=\"text-align: right;\">\n",
       "      <th></th>\n",
       "      <th>option</th>\n",
       "      <th>alpha</th>\n",
       "      <th>beta</th>\n",
       "      <th>num_genes</th>\n",
       "    </tr>\n",
       "  </thead>\n",
       "  <tbody>\n",
       "    <tr>\n",
       "      <th>70</th>\n",
       "      <td>4.0</td>\n",
       "      <td>0.6</td>\n",
       "      <td>0.5</td>\n",
       "      <td>0</td>\n",
       "    </tr>\n",
       "    <tr>\n",
       "      <th>75</th>\n",
       "      <td>4.0</td>\n",
       "      <td>0.7</td>\n",
       "      <td>0.5</td>\n",
       "      <td>0</td>\n",
       "    </tr>\n",
       "    <tr>\n",
       "      <th>80</th>\n",
       "      <td>4.0</td>\n",
       "      <td>0.8</td>\n",
       "      <td>0.5</td>\n",
       "      <td>0</td>\n",
       "    </tr>\n",
       "    <tr>\n",
       "      <th>85</th>\n",
       "      <td>4.0</td>\n",
       "      <td>0.9</td>\n",
       "      <td>0.5</td>\n",
       "      <td>0</td>\n",
       "    </tr>\n",
       "    <tr>\n",
       "      <th>86</th>\n",
       "      <td>4.0</td>\n",
       "      <td>0.9</td>\n",
       "      <td>0.6</td>\n",
       "      <td>0</td>\n",
       "    </tr>\n",
       "  </tbody>\n",
       "</table>\n",
       "</div>"
      ],
      "text/plain": [
       "    option  alpha  beta  num_genes\n",
       "70     4.0    0.6   0.5          0\n",
       "75     4.0    0.7   0.5          0\n",
       "80     4.0    0.8   0.5          0\n",
       "85     4.0    0.9   0.5          0\n",
       "86     4.0    0.9   0.6          0"
      ]
     },
     "execution_count": 59,
     "metadata": {},
     "output_type": "execute_result"
    }
   ],
   "source": [
    "gene_stats[gene_stats.num_genes == 0 ]"
   ]
  },
  {
   "cell_type": "code",
   "execution_count": 54,
   "metadata": {},
   "outputs": [
    {
     "data": {
      "text/html": [
       "<div>\n",
       "<style scoped>\n",
       "    .dataframe tbody tr th:only-of-type {\n",
       "        vertical-align: middle;\n",
       "    }\n",
       "\n",
       "    .dataframe tbody tr th {\n",
       "        vertical-align: top;\n",
       "    }\n",
       "\n",
       "    .dataframe thead th {\n",
       "        text-align: right;\n",
       "    }\n",
       "</style>\n",
       "<table border=\"1\" class=\"dataframe\">\n",
       "  <thead>\n",
       "    <tr style=\"text-align: right;\">\n",
       "      <th></th>\n",
       "      <th>count</th>\n",
       "      <th>mean</th>\n",
       "      <th>std</th>\n",
       "      <th>min</th>\n",
       "      <th>25%</th>\n",
       "      <th>50%</th>\n",
       "      <th>75%</th>\n",
       "      <th>max</th>\n",
       "    </tr>\n",
       "    <tr>\n",
       "      <th>option</th>\n",
       "      <th></th>\n",
       "      <th></th>\n",
       "      <th></th>\n",
       "      <th></th>\n",
       "      <th></th>\n",
       "      <th></th>\n",
       "      <th></th>\n",
       "      <th></th>\n",
       "    </tr>\n",
       "  </thead>\n",
       "  <tbody>\n",
       "    <tr>\n",
       "      <th>2.0</th>\n",
       "      <td>45.0</td>\n",
       "      <td>1283.000000</td>\n",
       "      <td>0.00000</td>\n",
       "      <td>1283.0</td>\n",
       "      <td>1283.0</td>\n",
       "      <td>1283.0</td>\n",
       "      <td>1283.0</td>\n",
       "      <td>1283.0</td>\n",
       "    </tr>\n",
       "    <tr>\n",
       "      <th>4.0</th>\n",
       "      <td>45.0</td>\n",
       "      <td>1493.333333</td>\n",
       "      <td>533.93905</td>\n",
       "      <td>0.0</td>\n",
       "      <td>1680.0</td>\n",
       "      <td>1680.0</td>\n",
       "      <td>1680.0</td>\n",
       "      <td>1680.0</td>\n",
       "    </tr>\n",
       "  </tbody>\n",
       "</table>\n",
       "</div>"
      ],
      "text/plain": [
       "        count         mean        std     min     25%     50%     75%     max\n",
       "option                                                                       \n",
       "2.0      45.0  1283.000000    0.00000  1283.0  1283.0  1283.0  1283.0  1283.0\n",
       "4.0      45.0  1493.333333  533.93905     0.0  1680.0  1680.0  1680.0  1680.0"
      ]
     },
     "execution_count": 54,
     "metadata": {},
     "output_type": "execute_result"
    }
   ],
   "source": [
    "option_grps.num_genes.describe()"
   ]
  },
  {
   "cell_type": "code",
   "execution_count": 55,
   "metadata": {},
   "outputs": [
    {
     "data": {
      "text/plain": [
       "option  num_genes\n",
       "2.0     1283         45\n",
       "4.0     1680         40\n",
       "        0             5\n",
       "Name: num_genes, dtype: int64"
      ]
     },
     "execution_count": 55,
     "metadata": {},
     "output_type": "execute_result"
    }
   ],
   "source": [
    "option_grps.num_genes.value_counts()"
   ]
  },
  {
   "cell_type": "code",
   "execution_count": 56,
   "metadata": {},
   "outputs": [
    {
     "data": {
      "text/html": [
       "<div>\n",
       "<style scoped>\n",
       "    .dataframe tbody tr th:only-of-type {\n",
       "        vertical-align: middle;\n",
       "    }\n",
       "\n",
       "    .dataframe tbody tr th {\n",
       "        vertical-align: top;\n",
       "    }\n",
       "\n",
       "    .dataframe thead th {\n",
       "        text-align: right;\n",
       "    }\n",
       "</style>\n",
       "<table border=\"1\" class=\"dataframe\">\n",
       "  <thead>\n",
       "    <tr style=\"text-align: right;\">\n",
       "      <th></th>\n",
       "      <th>option</th>\n",
       "      <th>alpha</th>\n",
       "      <th>beta</th>\n",
       "      <th>num_genes</th>\n",
       "    </tr>\n",
       "  </thead>\n",
       "  <tbody>\n",
       "    <tr>\n",
       "      <th>83</th>\n",
       "      <td>4.0</td>\n",
       "      <td>0.8</td>\n",
       "      <td>0.8</td>\n",
       "      <td>1680</td>\n",
       "    </tr>\n",
       "    <tr>\n",
       "      <th>84</th>\n",
       "      <td>4.0</td>\n",
       "      <td>0.8</td>\n",
       "      <td>0.9</td>\n",
       "      <td>1680</td>\n",
       "    </tr>\n",
       "    <tr>\n",
       "      <th>85</th>\n",
       "      <td>4.0</td>\n",
       "      <td>0.9</td>\n",
       "      <td>0.5</td>\n",
       "      <td>0</td>\n",
       "    </tr>\n",
       "    <tr>\n",
       "      <th>86</th>\n",
       "      <td>4.0</td>\n",
       "      <td>0.9</td>\n",
       "      <td>0.6</td>\n",
       "      <td>0</td>\n",
       "    </tr>\n",
       "    <tr>\n",
       "      <th>87</th>\n",
       "      <td>4.0</td>\n",
       "      <td>0.9</td>\n",
       "      <td>0.7</td>\n",
       "      <td>1680</td>\n",
       "    </tr>\n",
       "    <tr>\n",
       "      <th>88</th>\n",
       "      <td>4.0</td>\n",
       "      <td>0.9</td>\n",
       "      <td>0.8</td>\n",
       "      <td>1680</td>\n",
       "    </tr>\n",
       "    <tr>\n",
       "      <th>89</th>\n",
       "      <td>4.0</td>\n",
       "      <td>0.9</td>\n",
       "      <td>0.9</td>\n",
       "      <td>1680</td>\n",
       "    </tr>\n",
       "  </tbody>\n",
       "</table>\n",
       "</div>"
      ],
      "text/plain": [
       "    option  alpha  beta  num_genes\n",
       "83     4.0    0.8   0.8       1680\n",
       "84     4.0    0.8   0.9       1680\n",
       "85     4.0    0.9   0.5          0\n",
       "86     4.0    0.9   0.6          0\n",
       "87     4.0    0.9   0.7       1680\n",
       "88     4.0    0.9   0.8       1680\n",
       "89     4.0    0.9   0.9       1680"
      ]
     },
     "execution_count": 56,
     "metadata": {},
     "output_type": "execute_result"
    }
   ],
   "source": [
    "option_grps.get_group(4.0).tail(7)"
   ]
  },
  {
   "cell_type": "code",
   "execution_count": 57,
   "metadata": {},
   "outputs": [
    {
     "data": {
      "text/html": [
       "<div>\n",
       "<style scoped>\n",
       "    .dataframe tbody tr th:only-of-type {\n",
       "        vertical-align: middle;\n",
       "    }\n",
       "\n",
       "    .dataframe tbody tr th {\n",
       "        vertical-align: top;\n",
       "    }\n",
       "\n",
       "    .dataframe thead th {\n",
       "        text-align: right;\n",
       "    }\n",
       "</style>\n",
       "<table border=\"1\" class=\"dataframe\">\n",
       "  <thead>\n",
       "    <tr style=\"text-align: right;\">\n",
       "      <th></th>\n",
       "      <th>option</th>\n",
       "      <th>alpha</th>\n",
       "      <th>beta</th>\n",
       "      <th>num_genes</th>\n",
       "    </tr>\n",
       "  </thead>\n",
       "  <tbody>\n",
       "    <tr>\n",
       "      <th>38</th>\n",
       "      <td>2.0</td>\n",
       "      <td>0.8</td>\n",
       "      <td>0.8</td>\n",
       "      <td>1283</td>\n",
       "    </tr>\n",
       "    <tr>\n",
       "      <th>39</th>\n",
       "      <td>2.0</td>\n",
       "      <td>0.8</td>\n",
       "      <td>0.9</td>\n",
       "      <td>1283</td>\n",
       "    </tr>\n",
       "    <tr>\n",
       "      <th>40</th>\n",
       "      <td>2.0</td>\n",
       "      <td>0.9</td>\n",
       "      <td>0.5</td>\n",
       "      <td>1283</td>\n",
       "    </tr>\n",
       "    <tr>\n",
       "      <th>41</th>\n",
       "      <td>2.0</td>\n",
       "      <td>0.9</td>\n",
       "      <td>0.6</td>\n",
       "      <td>1283</td>\n",
       "    </tr>\n",
       "    <tr>\n",
       "      <th>42</th>\n",
       "      <td>2.0</td>\n",
       "      <td>0.9</td>\n",
       "      <td>0.7</td>\n",
       "      <td>1283</td>\n",
       "    </tr>\n",
       "    <tr>\n",
       "      <th>43</th>\n",
       "      <td>2.0</td>\n",
       "      <td>0.9</td>\n",
       "      <td>0.8</td>\n",
       "      <td>1283</td>\n",
       "    </tr>\n",
       "    <tr>\n",
       "      <th>44</th>\n",
       "      <td>2.0</td>\n",
       "      <td>0.9</td>\n",
       "      <td>0.9</td>\n",
       "      <td>1283</td>\n",
       "    </tr>\n",
       "  </tbody>\n",
       "</table>\n",
       "</div>"
      ],
      "text/plain": [
       "    option  alpha  beta  num_genes\n",
       "38     2.0    0.8   0.8       1283\n",
       "39     2.0    0.8   0.9       1283\n",
       "40     2.0    0.9   0.5       1283\n",
       "41     2.0    0.9   0.6       1283\n",
       "42     2.0    0.9   0.7       1283\n",
       "43     2.0    0.9   0.8       1283\n",
       "44     2.0    0.9   0.9       1283"
      ]
     },
     "execution_count": 57,
     "metadata": {},
     "output_type": "execute_result"
    }
   ],
   "source": [
    "option_grps.get_group(2.0).tail(7)"
   ]
  },
  {
   "cell_type": "markdown",
   "metadata": {},
   "source": [
    "## Calculate CliXo statistics "
   ]
  },
  {
   "cell_type": "code",
   "execution_count": 72,
   "metadata": {},
   "outputs": [],
   "source": [
    "clixo_stats = {}\n",
    "pattern = 'option([0-9]).*alpha([0-9]*\\.[0-9]*)_beta([0-9]*\\.[0-9]*)'\n",
    "for fn in sorted(glob.glob('../output/run_clixo/option*/*')):\n",
    "        \n",
    "    params = re.search(pattern, fn)\n",
    "    option, alpha, beta = [float(x) for x in params.groups()] \n",
    "    option = int(option)\n",
    "    if alpha == None:\n",
    "        break\n",
    "\n",
    "    # Getting CliXo stats \n",
    "    stats = read_clixo_stats(fn) \n",
    "    \n",
    "    clean_fn = 'option{}_{}'.format(option, os.path.basename(fn))\n",
    "    clean_fn = os.path.join(output_dir, clean_fn)\n",
    "    \n",
    "    # Getting GO enrichment stats\n",
    "    with open(clean_fn) as f: \n",
    "        file_len = len(f.readlines())\n",
    "    if file_len > 1: \n",
    "        go_enrichment = pysynapse.compare_to_go(clean_fn)\n",
    "    else:\n",
    "        go_enrichment = np.nan\n",
    "    stats['go_enrichment'] = go_enrichment    \n",
    "    key = tuple([option, alpha, beta]) \n",
    "    clixo_stats[key] = stats"
   ]
  },
  {
   "cell_type": "code",
   "execution_count": 73,
   "metadata": {},
   "outputs": [],
   "source": [
    "clixo_stats_df = pd.DataFrame.from_dict(clixo_stats, orient='index')\n",
    "clixo_stats_df.reset_index(inplace=True)\n",
    "clixo_stats_df.rename(columns={'level_0': 'option', \n",
    "                               'level_1': 'alpha',\n",
    "                               'level_2': 'beta'}, inplace=True)"
   ]
  },
  {
   "cell_type": "code",
   "execution_count": 74,
   "metadata": {},
   "outputs": [
    {
     "data": {
      "text/plain": [
       "count    85.000000\n",
       "mean     43.000000\n",
       "std      19.396244\n",
       "min      10.000000\n",
       "25%      28.000000\n",
       "50%      41.000000\n",
       "75%      52.000000\n",
       "max      86.000000\n",
       "Name: go_enrichment, dtype: float64"
      ]
     },
     "execution_count": 74,
     "metadata": {},
     "output_type": "execute_result"
    }
   ],
   "source": [
    "clixo_stats_df.go_enrichment.describe()"
   ]
  },
  {
   "cell_type": "markdown",
   "metadata": {},
   "source": [
    "## Analyze disease enrichment with Multiprocessing "
   ]
  },
  {
   "cell_type": "code",
   "execution_count": 75,
   "metadata": {},
   "outputs": [],
   "source": [
    "def analyze_gene_enrichment_test(ont_fn, disease_gene_fn, output):\n",
    "\n",
    "    ## We read in our ontology\n",
    "    #Generate custom ontology from Chromatin branch from human GO\n",
    "    #ontology_file=Generate_Ontology_File('GO:0000785')\n",
    "    ont = Ontology.from_table(ont_fn)\n",
    "    translated = pysynapse.Find_GO_Focus_GeneDict(ont)\n",
    "\n",
    "    #Test genes: autism\n",
    "    text_file = open(disease_gene_fn, \"r\")\n",
    "    test_gene_list = text_file.read().splitlines()\n",
    "    text_file.close()\n",
    "\n",
    "    #print(\"Number of autism genes in our ontology:\" ,  len(set(ont.genes).intersection(set(test_gene_list))))\n",
    "    num_ont_disease_genes = len(set(ont.genes).intersection(set(test_gene_list)))\n",
    "\n",
    "    #Find number of test genes in enriched modules:\n",
    "    num_enriched_disease_genes = pysynapse.Find_num_genes_in_enriched(ont, translated, test_gene_list)\n",
    "\n",
    "    output.put((num_ont_disease_genes, num_enriched_disease_genes))"
   ]
  },
  {
   "cell_type": "code",
   "execution_count": 76,
   "metadata": {},
   "outputs": [],
   "source": [
    "diseases = ['adhd', 'autism', 'bipolar', 'mdd', 'schizophrenia']"
   ]
  },
  {
   "cell_type": "code",
   "execution_count": 90,
   "metadata": {
    "collapsed": true
   },
   "outputs": [
    {
     "name": "stdout",
     "output_type": "stream",
     "text": [
      "2.0 0.1 0.5\n",
      "2.0 0.1 0.6\n",
      "2.0 0.1 0.7\n",
      "2.0 0.1 0.8\n",
      "2.0 0.1 0.9\n",
      "2.0 0.2 0.5\n",
      "2.0 0.2 0.6\n",
      "2.0 0.2 0.7\n",
      "2.0 0.2 0.8\n",
      "2.0 0.2 0.9\n",
      "2.0 0.3 0.5\n",
      "2.0 0.3 0.6\n",
      "2.0 0.3 0.7\n",
      "2.0 0.3 0.8\n",
      "2.0 0.3 0.9\n",
      "2.0 0.4 0.5\n",
      "2.0 0.4 0.6\n",
      "2.0 0.4 0.7\n",
      "2.0 0.4 0.8\n",
      "2.0 0.4 0.9\n",
      "2.0 0.5 0.5\n",
      "2.0 0.5 0.6\n",
      "2.0 0.5 0.7\n",
      "2.0 0.5 0.8\n",
      "2.0 0.5 0.9\n",
      "2.0 0.6 0.5\n",
      "2.0 0.6 0.6\n",
      "2.0 0.6 0.7\n",
      "2.0 0.6 0.8\n",
      "2.0 0.6 0.9\n",
      "2.0 0.7 0.5\n",
      "2.0 0.7 0.6\n",
      "2.0 0.7 0.7\n",
      "2.0 0.7 0.8\n",
      "2.0 0.7 0.9\n",
      "2.0 0.8 0.5\n",
      "2.0 0.8 0.6\n",
      "2.0 0.8 0.7\n",
      "2.0 0.8 0.8\n",
      "2.0 0.8 0.9\n",
      "2.0 0.9 0.5\n",
      "2.0 0.9 0.6\n",
      "2.0 0.9 0.7\n",
      "2.0 0.9 0.8\n",
      "2.0 0.9 0.9\n",
      "4.0 0.1 0.5\n",
      "4.0 0.1 0.6\n",
      "4.0 0.1 0.7\n",
      "4.0 0.1 0.8\n",
      "4.0 0.1 0.9\n",
      "4.0 0.2 0.5\n",
      "4.0 0.2 0.6\n",
      "4.0 0.2 0.7\n",
      "4.0 0.2 0.8\n",
      "4.0 0.2 0.9\n",
      "4.0 0.3 0.5\n",
      "4.0 0.3 0.6\n",
      "4.0 0.3 0.7\n",
      "4.0 0.3 0.8\n",
      "4.0 0.3 0.9\n",
      "4.0 0.4 0.5\n",
      "4.0 0.4 0.6\n",
      "4.0 0.4 0.7\n",
      "4.0 0.4 0.8\n",
      "4.0 0.4 0.9\n",
      "4.0 0.5 0.5\n",
      "4.0 0.5 0.6\n",
      "4.0 0.5 0.7\n",
      "4.0 0.5 0.8\n",
      "4.0 0.5 0.9\n",
      "4.0 0.6 0.6\n",
      "4.0 0.6 0.7\n",
      "4.0 0.6 0.8\n",
      "4.0 0.6 0.9\n",
      "4.0 0.7 0.6\n",
      "4.0 0.7 0.7\n",
      "4.0 0.7 0.8\n",
      "4.0 0.7 0.9\n",
      "4.0 0.8 0.6\n",
      "4.0 0.8 0.7\n",
      "4.0 0.8 0.8\n",
      "4.0 0.8 0.9\n",
      "4.0 0.9 0.7\n",
      "4.0 0.9 0.8\n",
      "4.0 0.9 0.9\n"
     ]
    }
   ],
   "source": [
    "disease_stats = {}\n",
    "\n",
    "# Define an output queue\n",
    "output = mp.Queue()\n",
    "\n",
    "pattern = 'option([0-9]).*alpha([0-9]*\\.[0-9]*)_beta([0-9]*\\.[0-9]*)'\n",
    "clean_fns = glob.glob(os.path.join(output_dir + '/*.txt'))\n",
    "for clean_fn in sorted(clean_fns):\n",
    "          \n",
    "    params = re.search(pattern, clean_fn)\n",
    "    option, alpha, beta = [float(x) for x in params.groups()]    \n",
    "    \n",
    "    with open(clean_fn) as f: \n",
    "        file_len = len(f.readlines())\n",
    "        \n",
    "    if file_len > 1: \n",
    "        # Setup a list of processes that we want to run\n",
    "        processes = []\n",
    "        for disease in diseases: \n",
    "            disease_gene_fn = '../output/omim_psychiatric_disease_genes/{}.txt'.format(disease)\n",
    "            p = mp.Process(target=analyze_gene_enrichment_test, \n",
    "                           args=(clean_fn, disease_gene_fn, output))\n",
    "            processes.append(p)\n",
    "\n",
    "        # Run processes\n",
    "        for p in processes:\n",
    "            p.start()\n",
    "\n",
    "        # Exit the completed processes\n",
    "        for p in processes:\n",
    "            p.join()\n",
    "\n",
    "        # Get process results from the output queue\n",
    "        results = [output.get() for p in processes]\n",
    "\n",
    "        disease_stats[(option, alpha, beta)] = results \n",
    "        time.sleep(0.1)"
   ]
  },
  {
   "cell_type": "code",
   "execution_count": 92,
   "metadata": {},
   "outputs": [],
   "source": [
    "disease_cols = [('{}_genes'.format(disease), \n",
    "                 '{}_enriched_genes'.format(disease)) for disease in diseases]\n",
    "disease_cols = list(chain(*disease_cols))\n",
    "disease_cols = ['option', 'alpha', 'beta'] + disease_cols\n",
    "disease_stats_tmp = [list(k) + list(chain(*v)) for k, v in disease_stats.items()]\n",
    "disease_stats_df = pd.DataFrame(disease_stats_tmp, columns=disease_cols)"
   ]
  },
  {
   "cell_type": "markdown",
   "metadata": {},
   "source": [
    "## Merge the dataframes together "
   ]
  },
  {
   "cell_type": "code",
   "execution_count": 99,
   "metadata": {},
   "outputs": [],
   "source": [
    "merged_df = pd.merge(clixo_stats_df, disease_stats_df, \n",
    "                     on=['option', 'alpha', 'beta'], how='left')\n",
    "fn = os.path.join(output_dir, 'ontology_stats.tsv')\n",
    "merged_df.to_csv(fn, sep='\\t', index=False)"
   ]
  },
  {
   "cell_type": "code",
   "execution_count": null,
   "metadata": {},
   "outputs": [],
   "source": []
  },
  {
   "cell_type": "code",
   "execution_count": null,
   "metadata": {},
   "outputs": [],
   "source": []
  },
  {
   "cell_type": "code",
   "execution_count": null,
   "metadata": {},
   "outputs": [],
   "source": []
  },
  {
   "cell_type": "code",
   "execution_count": null,
   "metadata": {},
   "outputs": [],
   "source": []
  },
  {
   "cell_type": "code",
   "execution_count": null,
   "metadata": {},
   "outputs": [],
   "source": []
  }
 ],
 "metadata": {
  "kernelspec": {
   "display_name": "Python (DNA Shape)",
   "language": "python",
   "name": "dna_shape"
  },
  "language_info": {
   "codemirror_mode": {
    "name": "ipython",
    "version": 3
   },
   "file_extension": ".py",
   "mimetype": "text/x-python",
   "name": "python",
   "nbconvert_exporter": "python",
   "pygments_lexer": "ipython3",
   "version": "3.7.1"
  }
 },
 "nbformat": 4,
 "nbformat_minor": 2
}
