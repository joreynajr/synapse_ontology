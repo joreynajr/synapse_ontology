{
 "cells": [
  {
   "cell_type": "code",
   "execution_count": 11,
   "metadata": {},
   "outputs": [
    {
     "name": "stdout",
     "output_type": "stream",
     "text": [
      "\n"
     ]
    }
   ],
   "source": [
    "import sys \n",
    "import os\n",
    "import subprocess\n",
    "\n",
    "output_dir = '../output/clixo/'; \n",
    "stringdb_dir = '../output/stringdb/'\n",
    "\n",
    "sp = subprocess.check_output('mkdir -p {}'.format(output_dir), shell=True)\n",
    "print(sp.decode())"
   ]
  },
  {
   "cell_type": "code",
   "execution_count": 17,
   "metadata": {},
   "outputs": [
    {
     "name": "stdout",
     "output_type": "stream",
     "text": [
      "Running: /gpfs/data01/glasslab/home/joreyna/projects/BNFO286/clixo_0.3/clixo ../output/stringdb/string_synapse_interactions_combined_score.tsv 0.75 0.75 > ../output/clixo/string_synapse_interactions_combined_score.clixo_alpha0.75_beta0.75.txt\n",
      "\n",
      "\n"
     ]
    }
   ],
   "source": [
    "alpha = 0.75\n",
    "beta = 0.75\n",
    "\n",
    "# Obtaining the clixo program \n",
    "#clixo_script='/mnt/c/Users/Anubhav/Desktop/mhk7-clixo_0.3-0362bea/mhk7-clixo_0.3-0362bea/clixo'\n",
    "clixo_script = '/gpfs/data01/glasslab/home/joreyna/projects/BNFO286/clixo_0.3/clixo'\n",
    "\n",
    "# Listing the string interactions file \n",
    "interactions_fn = os.path.join(stringdb_dir, 'string_synapse_interactions_combined_score.tsv')\n",
    "\n",
    "# Naming the clixo output (can change if you need)\n",
    "clixo_fn = os.path.join(output_dir, \n",
    "    'string_synapse_interactions_combined_score.clixo_alpha{}_beta{}.txt'.format(alpha, beta))\n",
    "cmd = '{} {} {} {} > {}'.format(clixo_script, interactions_fn, alpha, beta, clixo_fn)\n",
    "print('Running: {}'.format(cmd))\n",
    "\n",
    "sp = subprocess.Popen(cmd, stderr=subprocess.PIPE, stdout=subprocess.PIPE, shell=True)\n",
    "msgs = sp.communicate()\n",
    "print('\\n'.join([x.decode() for x in msgs]))"
   ]
  },
  {
   "cell_type": "markdown",
   "metadata": {},
   "source": [
    "### Testing different values of alpha and beta"
   ]
  },
  {
   "cell_type": "code",
   "execution_count": 18,
   "metadata": {},
   "outputs": [],
   "source": [
    "import numpy as np "
   ]
  },
  {
   "cell_type": "code",
   "execution_count": 22,
   "metadata": {},
   "outputs": [
    {
     "name": "stdout",
     "output_type": "stream",
     "text": [
      "Running: /gpfs/data01/glasslab/home/joreyna/projects/BNFO286/clixo_0.3/clixo ../output/stringdb/string_synapse_interactions_combined_score.tsv 0.0 0.0 > ../output/clixo/string_synapse_interactions_combined_score.clixo_alpha0.75_beta0.75.txt\n"
     ]
    }
   ],
   "source": [
    "for alpha in np.arange(0, 0.9, 0.1): \n",
    "    for beta in np.arange(0, 0.9, 0.1): \n",
    "    \n",
    "        cmd = '{} {} {} {} > {}'.format(clixo_script, interactions_fn, alpha, beta, clixo_fn)\n",
    "        print('Running: {}'.format(cmd))\n",
    "\n",
    "#         sp = subprocess.Popen(cmd, stderr=subprocess.PIPE, stdout=subprocess.PIPE, shell=True)\n",
    "#         msgs = sp.communicate()\n",
    "#         print('\\n'.join([x.decode() for x in msgs]))\n",
    "        break\n",
    "    break"
   ]
  },
  {
   "cell_type": "code",
   "execution_count": null,
   "metadata": {},
   "outputs": [],
   "source": []
  },
  {
   "cell_type": "code",
   "execution_count": null,
   "metadata": {},
   "outputs": [],
   "source": []
  },
  {
   "cell_type": "code",
   "execution_count": null,
   "metadata": {},
   "outputs": [],
   "source": []
  },
  {
   "cell_type": "code",
   "execution_count": null,
   "metadata": {},
   "outputs": [],
   "source": []
  }
 ],
 "metadata": {
  "kernelspec": {
   "display_name": "Python (DNA Shape)",
   "language": "python",
   "name": "dna_shape"
  },
  "language_info": {
   "codemirror_mode": {
    "name": "ipython",
    "version": 3
   },
   "file_extension": ".py",
   "mimetype": "text/x-python",
   "name": "python",
   "nbconvert_exporter": "python",
   "pygments_lexer": "ipython3",
   "version": "3.7.1"
  }
 },
 "nbformat": 4,
 "nbformat_minor": 2
}
