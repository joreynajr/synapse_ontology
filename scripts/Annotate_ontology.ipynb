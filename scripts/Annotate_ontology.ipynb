{
 "cells": [
  {
   "cell_type": "code",
   "execution_count": 1,
   "metadata": {},
   "outputs": [],
   "source": [
    "#for questions: karenmei@ucsd.edu\n",
    "\n",
    "#Goal: To evaluate the custom hierarchy: #Metric 1\n",
    "#\t   Metric #1: How well does the model capture novel synapse proteins? (some of which have been recently uncovered by our collaborators using AP/MS/MS)\n",
    "\n",
    "#\t   code for customizing ontologies: DDOT: https://github.com/michaelkyu/ddot/blob/master/examples/Tutorial.ipynb\n",
    "import numpy as np\n",
    "from igraph import *\n",
    "import pandas as pd\n",
    "import sys\n",
    "\n",
    "import sys\n",
    "sys.path.append('C:\\\\Users\\\\Anubhav\\\\Documents\\\\GitHub\\\\ddot')\n",
    "\n",
    "import ddot\n",
    "from ddot import Ontology\n",
    "import matplotlib\n",
    "#matplotlib.use(\"TKAgg\")\n",
    "#print(matplotlib.get_backend())\n",
    "from matplotlib import pyplot as plt\n",
    "import networkx as nx\n",
    "import csv\n",
    "import scipy.stats as ss\n",
    "from scipy.stats import hypergeom\n",
    "from statsmodels.sandbox.stats.multicomp import multipletests\n",
    "\n",
    "from collections import defaultdict\n",
    "os.environ['KMP_DUPLICATE_LIB_OK']='True'\n",
    "\n",
    "import networkx as nx \n",
    "\n",
    "import matplotlib.pyplot as plt \n",
    "%matplotlib inline"
   ]
  },
  {
   "cell_type": "code",
   "execution_count": 2,
   "metadata": {},
   "outputs": [],
   "source": [
    "def jaccard(a, b):\n",
    "\ts1=set(a)\n",
    "\ts2=set(b)\n",
    "\treturn len(s1.intersection(s2)) / len(s1.union(s2))\n",
    "\n",
    "def metric_1(ont_file, test_gene_list):\n",
    "\tont1=Ontology.from_table(ont_file)\n",
    "\tont1_genes=ont1.genes\n",
    "\ttest_recovery=jaccard(ont1_genes, test_gene_list)\n",
    "\tprint ('recovery of test genes:', test_recovery)\n",
    "\treturn test_recovery"
   ]
  },
  {
   "cell_type": "code",
   "execution_count": 3,
   "metadata": {},
   "outputs": [],
   "source": [
    "def ontology_recursion(node, ontology, dic): \n",
    "    \n",
    "    # Get children of node \n",
    "    children_df = ontology[ontology.Parent == node]\n",
    "\n",
    "    # Recursion portion \n",
    "    for idx, child_sr in children_df.iterrows(): \n",
    "\n",
    "        if child_sr.EdgeType == 'Gene-Term':\n",
    "            dic[node].add(child_sr.Child)\n",
    "            \n",
    "        elif child_sr.EdgeType == 'Child-Parent': \n",
    "            \n",
    "            child_genes = ontology_recursion(child_sr.Child, ontology, dic)\n",
    "            dic[node].update(child_genes)\n",
    "        \n",
    "    return(dic[node])\n",
    "\n",
    "# Start at root \n",
    "global dic\n",
    "root = 'GO:0045202'\n",
    "synapse_ont = pd.read_table(\"synapse.txt\")\n",
    "dic = defaultdict(set)\n",
    "x = ontology_recursion(root, synapse_ont, dic)"
   ]
  },
  {
   "cell_type": "code",
   "execution_count": null,
   "metadata": {},
   "outputs": [],
   "source": []
  },
  {
   "cell_type": "code",
   "execution_count": null,
   "metadata": {},
   "outputs": [],
   "source": []
  },
  {
   "cell_type": "code",
   "execution_count": null,
   "metadata": {},
   "outputs": [],
   "source": []
  },
  {
   "cell_type": "code",
   "execution_count": null,
   "metadata": {},
   "outputs": [],
   "source": []
  },
  {
   "cell_type": "code",
   "execution_count": null,
   "metadata": {},
   "outputs": [],
   "source": []
  },
  {
   "cell_type": "code",
   "execution_count": null,
   "metadata": {},
   "outputs": [],
   "source": []
  },
  {
   "cell_type": "code",
   "execution_count": null,
   "metadata": {},
   "outputs": [],
   "source": []
  }
 ],
 "metadata": {
  "kernelspec": {
   "display_name": "tf_binding_model",
   "language": "python",
   "name": "tf_binding_model"
  },
  "language_info": {
   "codemirror_mode": {
    "name": "ipython",
    "version": 3
   },
   "file_extension": ".py",
   "mimetype": "text/x-python",
   "name": "python",
   "nbconvert_exporter": "python",
   "pygments_lexer": "ipython3",
   "version": "3.7.1"
  }
 },
 "nbformat": 4,
 "nbformat_minor": 2
}
