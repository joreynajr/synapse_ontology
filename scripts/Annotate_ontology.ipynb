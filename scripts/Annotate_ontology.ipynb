{
 "cells": [
  {
   "cell_type": "markdown",
   "metadata": {},
   "source": [
    "# Annotate Ontology"
   ]
  },
  {
   "cell_type": "code",
   "execution_count": 44,
   "metadata": {},
   "outputs": [],
   "source": [
    "import numpy as np\n",
    "from igraph import *\n",
    "import pandas as pd\n",
    "import sys\n",
    "\n",
    "import sys\n",
    "sys.path.append('C:\\\\Users\\\\Anubhav\\\\Documents\\\\GitHub\\\\ddot')\n",
    "\n",
    "import ddot\n",
    "from ddot import Ontology\n",
    "import matplotlib\n",
    "from matplotlib import pyplot as plt\n",
    "import networkx as nx\n",
    "import csv\n",
    "import scipy.stats as ss\n",
    "from scipy.stats import hypergeom\n",
    "from statsmodels.sandbox.stats.multicomp import multipletests\n",
    "\n",
    "from collections import defaultdict\n",
    "os.environ['KMP_DUPLICATE_LIB_OK']='True'\n",
    "\n",
    "import networkx as nx \n",
    "\n",
    "import matplotlib.pyplot as plt \n",
    "%matplotlib inline"
   ]
  },
  {
   "cell_type": "code",
   "execution_count": 45,
   "metadata": {},
   "outputs": [],
   "source": [
    "def jaccard(a, b):\n",
    "    s1=set(a)\n",
    "    s2=set(b)\n",
    "    return len(s1.intersection(s2)) / len(s1.union(s2))\n",
    "\n",
    "def metric_1(ont_file, test_gene_list):\n",
    "    ont1=Ontology.from_table(ont_file)\n",
    "    ont1_genes=ont1.genes\n",
    "    test_recovery=jaccard(ont1_genes, test_gene_list)\n",
    "    print ('recovery of test genes:', test_recovery)\n",
    "    return test_recovery"
   ]
  },
  {
   "cell_type": "markdown",
   "metadata": {},
   "source": [
    "### Analyzing synpase ontology"
   ]
  },
  {
   "cell_type": "code",
   "execution_count": 46,
   "metadata": {},
   "outputs": [],
   "source": [
    "def ontology_recursion(node, ontology, dic): \n",
    "    \n",
    "    # Get children of node \n",
    "    children_df = ontology[ontology.Parent == node]\n",
    "\n",
    "    # Recursion portion \n",
    "    for idx, child_sr in children_df.iterrows(): \n",
    "\n",
    "        if child_sr.EdgeType == 'Gene-Term':\n",
    "            dic[node].add(child_sr.Child)\n",
    "            \n",
    "        elif child_sr.EdgeType == 'Child-Parent': \n",
    "            \n",
    "            child_genes = ontology_recursion(child_sr.Child, ontology, dic)\n",
    "            dic[node].update(child_genes)\n",
    "        \n",
    "    return(dic[node])"
   ]
  },
  {
   "cell_type": "code",
   "execution_count": 47,
   "metadata": {},
   "outputs": [],
   "source": [
    "global synapse_dic\n",
    "root = 'GO:0045202'\n",
    "synapse_ont = pd.read_table(\"synapse.txt\", comment='#')\n",
    "synapse_dic = defaultdict(set)\n",
    "x = ontology_recursion(root, synapse_ont, synapse_dic)\n",
    "synapse_dic = {key: value for key, value in synapse_dic.items() if len(value)>0}"
   ]
  },
  {
   "cell_type": "markdown",
   "metadata": {},
   "source": [
    "### Analyzing CliXo ontology"
   ]
  },
  {
   "cell_type": "code",
   "execution_count": 92,
   "metadata": {},
   "outputs": [],
   "source": [
    "#Loading clixo data\n",
    "our_ont = '../output/StringDB/string_synapse_interactions_combined_score.clixo_alpha0.2_beta0.6.txt'\n",
    "clixo_ont = pd.read_table(our_ont, dtype=str, comment='#', header=None, \n",
    "                          names=['Parent', 'Child', 'EdgeType', 'drop'])\n",
    "clixo_ont.drop('drop', axis=1, inplace=True)"
   ]
  },
  {
   "cell_type": "code",
   "execution_count": 93,
   "metadata": {},
   "outputs": [],
   "source": [
    "clixo_ont.loc[:, 'EdgeType'] = clixo_ont.EdgeType.str.replace('gene', 'Gene-Term').replace('default', 'Child-Parent')\n",
    "\n",
    "# Adding an artificial root \n",
    "root = 'root'\n",
    "Parents = set(clixo_ont.Parent) \n",
    "data = [[root]*len(Parents), list(Parents), [\"Child-Parent\"]*len(Parents)]\n",
    "data = pd.DataFrame(data, index=[\"Parent\", \"Child\", \"EdgeType\"], dtype=str).T\n",
    "clixo_ont = clixo_ont.append(data)"
   ]
  },
  {
   "cell_type": "code",
   "execution_count": 94,
   "metadata": {},
   "outputs": [],
   "source": [
    "global clixo_dic\n",
    "clixo_dic = defaultdict(set)\n",
    "x = ontology_recursion(root, clixo_ont, clixo_dic)"
   ]
  },
  {
   "cell_type": "code",
   "execution_count": 95,
   "metadata": {},
   "outputs": [],
   "source": [
    "# Adding gene ontology terms to CliXo\n",
    "new_labels = {}\n",
    "for module in clixo_dic.keys():\n",
    "    label = \"GO:0045202\"\n",
    "    max_score = 0\n",
    "    for synapse_module in synapse_dic.keys():\n",
    "        jscore = jaccard(clixo_dic[module], synapse_dic[synapse_module])\n",
    "        if jscore>max_score:\n",
    "            max_score = jscore\n",
    "            label = synapse_module\n",
    "    new_labels[module] = label\n",
    "\n",
    "def replace(x):\n",
    "    if x in new_labels:\n",
    "        return(new_labels[x])\n",
    "    else:\n",
    "        return(x)\n",
    "\n",
    "clixo_ont.loc[:, 'Parent'] = clixo_ont.Parent.map(replace)\n",
    "clixo_ont.loc[:, 'Child'] = clixo_ont.Child.map(replace)\n",
    "clixo_ont.drop_duplicates(['Parent', 'Child'], inplace=True)\n",
    "clixo_ont = clixo_ont[(clixo_ont.Parent != clixo_ont.Child)]\n",
    "fn = '../output/StringDB/final_clixo_ontology.txt'\n",
    "clixo_ont.to_csv(fn, sep='\\t', index=None)"
   ]
  },
  {
   "cell_type": "code",
   "execution_count": 96,
   "metadata": {},
   "outputs": [],
   "source": [
    "with open(fn) as f: \n",
    "    \n",
    "    for line in f: \n",
    "        line = line.split()\n",
    "        \n",
    "        if line[0] == line[1]: \n",
    "            print(line)\n",
    "            break"
   ]
  },
  {
   "cell_type": "code",
   "execution_count": null,
   "metadata": {},
   "outputs": [],
   "source": []
  },
  {
   "cell_type": "code",
   "execution_count": null,
   "metadata": {},
   "outputs": [],
   "source": []
  },
  {
   "cell_type": "code",
   "execution_count": null,
   "metadata": {},
   "outputs": [],
   "source": []
  },
  {
   "cell_type": "code",
   "execution_count": null,
   "metadata": {},
   "outputs": [],
   "source": []
  },
  {
   "cell_type": "code",
   "execution_count": null,
   "metadata": {},
   "outputs": [],
   "source": []
  },
  {
   "cell_type": "code",
   "execution_count": null,
   "metadata": {},
   "outputs": [],
   "source": []
  }
 ],
 "metadata": {
  "kernelspec": {
   "display_name": "tf_binding_model",
   "language": "python",
   "name": "tf_binding_model"
  },
  "language_info": {
   "codemirror_mode": {
    "name": "ipython",
    "version": 3
   },
   "file_extension": ".py",
   "mimetype": "text/x-python",
   "name": "python",
   "nbconvert_exporter": "python",
   "pygments_lexer": "ipython3",
   "version": "3.7.1"
  }
 },
 "nbformat": 4,
 "nbformat_minor": 2
}
