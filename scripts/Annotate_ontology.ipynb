{
 "cells": [
  {
   "cell_type": "code",
   "execution_count": 1,
   "metadata": {},
   "outputs": [],
   "source": [
    "#for questions: karenmei@ucsd.edu\n",
    "\n",
    "#Goal: To evaluate the custom hierarchy: #Metric 1\n",
    "#\t   Metric #1: How well does the model capture novel synapse proteins? (some of which have been recently uncovered by our collaborators using AP/MS/MS)\n",
    "\n",
    "#\t   code for customizing ontologies: DDOT: https://github.com/michaelkyu/ddot/blob/master/examples/Tutorial.ipynb\n",
    "import numpy as np\n",
    "from igraph import *\n",
    "import pandas as pd\n",
    "import sys\n",
    "\n",
    "import sys\n",
    "sys.path.append('C:\\\\Users\\\\Anubhav\\\\Documents\\\\GitHub\\\\ddot')\n",
    "\n",
    "import ddot\n",
    "from ddot import Ontology\n",
    "import matplotlib\n",
    "#matplotlib.use(\"TKAgg\")\n",
    "#print(matplotlib.get_backend())\n",
    "from matplotlib import pyplot as plt\n",
    "import networkx as nx\n",
    "import csv\n",
    "import scipy.stats as ss\n",
    "from scipy.stats import hypergeom\n",
    "from statsmodels.sandbox.stats.multicomp import multipletests\n",
    "\n",
    "from collections import defaultdict\n",
    "os.environ['KMP_DUPLICATE_LIB_OK']='True'\n",
    "\n",
    "import networkx as nx \n",
    "\n",
    "import matplotlib.pyplot as plt \n",
    "%matplotlib inline"
   ]
  },
  {
   "cell_type": "code",
   "execution_count": 2,
   "metadata": {},
   "outputs": [],
   "source": [
    "def jaccard(a, b):\n",
    "\ts1=set(a)\n",
    "\ts2=set(b)\n",
    "\treturn len(s1.intersection(s2)) / len(s1.union(s2))\n",
    "\n",
    "def metric_1(ont_file, test_gene_list):\n",
    "\tont1=Ontology.from_table(ont_file)\n",
    "\tont1_genes=ont1.genes\n",
    "\ttest_recovery=jaccard(ont1_genes, test_gene_list)\n",
    "\tprint ('recovery of test genes:', test_recovery)\n",
    "\treturn test_recovery"
   ]
  },
  {
   "cell_type": "markdown",
   "metadata": {},
   "source": [
    "### Analyzing synpase ontology"
   ]
  },
  {
   "cell_type": "code",
   "execution_count": 3,
   "metadata": {},
   "outputs": [],
   "source": [
    "def ontology_recursion(node, ontology, dic): \n",
    "    \n",
    "    # Get children of node \n",
    "    children_df = ontology[ontology.Parent == node]\n",
    "\n",
    "    # Recursion portion \n",
    "    for idx, child_sr in children_df.iterrows(): \n",
    "\n",
    "        if child_sr.EdgeType == 'Gene-Term':\n",
    "            dic[node].add(child_sr.Child)\n",
    "            \n",
    "        elif child_sr.EdgeType == 'Child-Parent': \n",
    "            \n",
    "            child_genes = ontology_recursion(child_sr.Child, ontology, dic)\n",
    "            dic[node].update(child_genes)\n",
    "        \n",
    "    return(dic[node])"
   ]
  },
  {
   "cell_type": "code",
   "execution_count": 4,
   "metadata": {},
   "outputs": [
    {
     "name": "stderr",
     "output_type": "stream",
     "text": [
      "C:\\Users\\Anubhav\\Anaconda3\\lib\\site-packages\\ipykernel_launcher.py:3: FutureWarning: read_table is deprecated, use read_csv instead, passing sep='\\t'.\n",
      "  This is separate from the ipykernel package so we can avoid doing imports until\n"
     ]
    }
   ],
   "source": [
    "global synapse_dic\n",
    "root = 'GO:0045202'\n",
    "synapse_ont = pd.read_table(\"synapse.txt\")\n",
    "synapse_dic = defaultdict(set)\n",
    "x = ontology_recursion(root, synapse_ont, synapse_dic)\n",
    "synapse_dic = {key: value for key, value in synapse_dic.items() if len(value)>0}"
   ]
  },
  {
   "cell_type": "markdown",
   "metadata": {},
   "source": [
    "### Analyzing CliXo ontology"
   ]
  },
  {
   "cell_type": "code",
   "execution_count": 5,
   "metadata": {},
   "outputs": [
    {
     "name": "stderr",
     "output_type": "stream",
     "text": [
      "C:\\Users\\Anubhav\\Anaconda3\\lib\\site-packages\\ipykernel_launcher.py:2: FutureWarning: read_table is deprecated, use read_csv instead, passing sep='\\t'.\n",
      "  \n"
     ]
    }
   ],
   "source": [
    "#Loading clixo data\n",
    "clixo_ont = pd.read_table(\"onttest.txt\", dtype=str)\n",
    "clixo_ont.loc[:, 'EdgeType'] = clixo_ont.EdgeType.str.replace('gene', 'Gene-Term').replace('default', 'Child-Parent')\n",
    "\n",
    "# Adding an artificial root \n",
    "root = 'root'\n",
    "Parents = set(clixo_ont.Parent) \n",
    "data = [[root]*len(Parents), list(Parents), [\"Child-Parent\"]*len(Parents)]\n",
    "data = pd.DataFrame(data, index=[\"Parent\", \"Child\", \"EdgeType\"], dtype=str).T\n",
    "# data.loc[:, 'Parent'] = data.Parent.astype(int)\n",
    "# data.loc[:, 'Child'] = data.Child.astype(int)\n",
    "\n",
    "clixo_ont = clixo_ont.append(data)"
   ]
  },
  {
   "cell_type": "code",
   "execution_count": 6,
   "metadata": {},
   "outputs": [],
   "source": [
    "global clixo_dic\n",
    "clixo_dic = defaultdict(set)\n",
    "x = ontology_recursion(root, clixo_ont, clixo_dic)"
   ]
  },
  {
   "cell_type": "code",
   "execution_count": 7,
   "metadata": {},
   "outputs": [
    {
     "data": {
      "text/plain": [
       "59"
      ]
     },
     "execution_count": 7,
     "metadata": {},
     "output_type": "execute_result"
    }
   ],
   "source": [
    "len(clixo_dic)"
   ]
  },
  {
   "cell_type": "code",
   "execution_count": 8,
   "metadata": {},
   "outputs": [
    {
     "data": {
      "text/plain": [
       "59"
      ]
     },
     "execution_count": 8,
     "metadata": {},
     "output_type": "execute_result"
    }
   ],
   "source": [
    "len(clixo_ont.Parent.unique())"
   ]
  },
  {
   "cell_type": "code",
   "execution_count": 9,
   "metadata": {},
   "outputs": [],
   "source": [
    "new_labels = {}"
   ]
  },
  {
   "cell_type": "code",
   "execution_count": 10,
   "metadata": {},
   "outputs": [],
   "source": [
    "for module in clixo_dic.keys():\n",
    "    label = \"GO:0045202\"\n",
    "    max_score = 0\n",
    "    for synapse_module in synapse_dic.keys():\n",
    "        jscore = jaccard(clixo_dic[module], synapse_dic[synapse_module])\n",
    "        if jscore>max_score:\n",
    "            max_score = jscore\n",
    "            label = synapse_module\n",
    "    new_labels[module] = label\n",
    "    "
   ]
  },
  {
   "cell_type": "code",
   "execution_count": 11,
   "metadata": {},
   "outputs": [
    {
     "data": {
      "text/plain": [
       "{'825': 'GO:0098999',\n",
       " 'root': 'GO:0045202',\n",
       " '809': 'GO:0060076',\n",
       " '804': 'GO:0099092',\n",
       " '811': 'GO:0099092',\n",
       " '813': 'GO:0031594',\n",
       " '842': 'GO:0045202',\n",
       " '806': 'GO:0044327',\n",
       " '840': 'GO:0098978',\n",
       " '841': 'GO:0045202',\n",
       " '838': 'GO:0099056',\n",
       " '839': 'GO:0098833',\n",
       " '814': 'GO:0098691',\n",
       " '831': 'GO:0098850',\n",
       " '787': 'GO:0043679',\n",
       " '820': 'GO:0030672',\n",
       " '798': 'GO:0030285',\n",
       " '789': 'GO:0042734',\n",
       " '812': 'GO:0098688',\n",
       " '792': 'GO:0099092',\n",
       " '815': 'GO:0098897',\n",
       " '810': 'GO:0098982',\n",
       " '791': 'GO:0045202',\n",
       " '819': 'GO:0098563',\n",
       " '796': 'GO:0043197',\n",
       " '830': 'GO:0044326',\n",
       " '790': 'GO:0008021',\n",
       " '808': 'GO:0031594',\n",
       " '805': 'GO:0045202',\n",
       " '800': 'GO:0099524',\n",
       " '823': 'GO:0098837',\n",
       " '822': 'GO:0098691',\n",
       " '836': 'GO:0043197',\n",
       " '794': 'GO:0044305',\n",
       " '802': 'GO:0098844',\n",
       " '801': 'GO:0098982',\n",
       " '835': 'GO:0098843',\n",
       " '799': 'GO:0098794',\n",
       " '795': 'GO:0099524',\n",
       " '816': 'GO:0044305',\n",
       " '807': 'GO:0060077',\n",
       " '837': 'GO:0099059',\n",
       " '797': 'GO:0098981',\n",
       " '828': 'GO:0098891',\n",
       " '824': 'GO:1990026',\n",
       " '834': 'GO:0099160',\n",
       " '818': 'GO:0098892',\n",
       " '843': 'GO:0045202',\n",
       " '832': 'GO:0099059',\n",
       " '826': 'GO:0044326',\n",
       " '827': 'GO:0044326',\n",
       " '788': 'GO:0045211',\n",
       " '833': 'GO:0098843',\n",
       " '844': 'GO:0045202',\n",
       " '793': 'GO:0044327',\n",
       " '803': 'GO:0099059',\n",
       " '817': 'GO:0099033',\n",
       " '821': 'GO:0098850',\n",
       " '829': 'GO:0048788'}"
      ]
     },
     "execution_count": 11,
     "metadata": {},
     "output_type": "execute_result"
    }
   ],
   "source": [
    "new_labels"
   ]
  },
  {
   "cell_type": "code",
   "execution_count": 12,
   "metadata": {},
   "outputs": [],
   "source": [
    "def replace(x):\n",
    "    if x in new_labels:\n",
    "        return(new_labels[x])\n",
    "    else:\n",
    "        return(x)\n",
    "\n",
    "clixo_ont.loc[:, 'Parent'] = clixo_ont.Parent.map(replace)\n",
    "clixo_ont.loc[:, 'Child'] = clixo_ont.Child.map(replace)"
   ]
  },
  {
   "cell_type": "code",
   "execution_count": 15,
   "metadata": {},
   "outputs": [],
   "source": [
    "fn = '../output/final_clixo_ontology.txt'\n",
    "clixo_ont.to_csv(fn, sep='\\t', index=None)"
   ]
  },
  {
   "cell_type": "code",
   "execution_count": null,
   "metadata": {},
   "outputs": [],
   "source": []
  },
  {
   "cell_type": "code",
   "execution_count": null,
   "metadata": {},
   "outputs": [],
   "source": []
  },
  {
   "cell_type": "code",
   "execution_count": null,
   "metadata": {},
   "outputs": [],
   "source": []
  }
 ],
 "metadata": {
  "kernelspec": {
   "display_name": "Python 3",
   "language": "python",
   "name": "python3"
  },
  "language_info": {
   "codemirror_mode": {
    "name": "ipython",
    "version": 3
   },
   "file_extension": ".py",
   "mimetype": "text/x-python",
   "name": "python",
   "nbconvert_exporter": "python",
   "pygments_lexer": "ipython3",
   "version": "3.7.3"
  }
 },
 "nbformat": 4,
 "nbformat_minor": 2
}
