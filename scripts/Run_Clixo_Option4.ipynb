{
 "cells": [
  {
   "cell_type": "code",
   "execution_count": 1,
   "metadata": {},
   "outputs": [],
   "source": [
    "import sys \n",
    "import os\n",
    "import subprocess\n",
    "import numpy as np \n",
    "import time\n",
    "from itertools import product \n",
    "\n",
    "option = 4\n",
    "output_dir = '../output/run_clixo/option{}'.format(option); \n",
    "if not os.path.exists(output_dir): os.makedirs(output_dir)\n",
    "stringdb_dir = '../output/extracting_string_interactions_subnetworks/'"
   ]
  },
  {
   "cell_type": "code",
   "execution_count": 2,
   "metadata": {},
   "outputs": [
    {
     "data": {
      "text/plain": [
       "'../output/extracting_string_interactions_subnetworks/synapse_inters_option_4.tsv'"
      ]
     },
     "execution_count": 2,
     "metadata": {},
     "output_type": "execute_result"
    }
   ],
   "source": [
    "# Obtaining the clixo program \n",
    "clixo_script = '/gpfs/data01/glasslab/home/joreyna/projects/BNFO286/clixo_0.3/clixo'\n",
    "\n",
    "# Listing the string interactions file\n",
    "interactions_fn = os.path.join(stringdb_dir, 'synapse_inters_option_{}.tsv')\n",
    "interactions_fn = interactions_fn.format(option)\n",
    "interactions_fn "
   ]
  },
  {
   "cell_type": "markdown",
   "metadata": {},
   "source": [
    "## Code to run a single parameter set \n"
   ]
  },
  {
   "cell_type": "raw",
   "metadata": {},
   "source": [
    "alpha = 0.21\n",
    "beta = 0.71\n",
    "\n",
    "# Naming the clixo output (can change if you need)\n",
    "clixo_fn = os.path.join(output_dir, \n",
    "    'string_synapse_interactions_combined_score.clixo_alpha{}_beta{}.txt'.format(alpha, beta))\n",
    "cmd = '{} {} {} {} > {}'.format(clixo_script, interactions_fn, alpha, beta, clixo_fn)\n",
    "print('Running: {}'.format(cmd))\n",
    "\n",
    "if not os.path.exists(clixo_fn): \n",
    "    sp = subprocess.Popen(cmd, stderr=subprocess.PIPE, stdout=subprocess.PIPE, shell=True)\n",
    "    msgs = sp.communicate()\n",
    "    print('\\n'.join([x.decode() for x in msgs]))"
   ]
  },
  {
   "cell_type": "markdown",
   "metadata": {},
   "source": [
    "### Testing different values of alpha and beta"
   ]
  },
  {
   "cell_type": "code",
   "execution_count": 3,
   "metadata": {},
   "outputs": [],
   "source": [
    "def get_alpha_beta(l):\n",
    "    \"\"\"\n",
    "    Yield function to get the correct alpha and beta names.\n",
    "    \n",
    "    \"\"\"\n",
    "    for x in l: \n",
    "        alpha = '{:.2f}'.format(x[0])\n",
    "        beta =  '{:.2f}'.format(x[1])\n",
    "        yield((alpha, beta))\n",
    "        \n",
    "    yield(None, None)"
   ]
  },
  {
   "cell_type": "code",
   "execution_count": 4,
   "metadata": {},
   "outputs": [],
   "source": [
    "# Gathering all the \n",
    "parameters = product(np.arange(0.1, 1, 0.1), np.arange(0.5, 1, 0.1))\n",
    "parameters = get_alpha_beta(parameters)\n",
    "jobs = {}"
   ]
  },
  {
   "cell_type": "code",
   "execution_count": 5,
   "metadata": {
    "scrolled": false
   },
   "outputs": [
    {
     "name": "stdout",
     "output_type": "stream",
     "text": [
      "Iteraction number: 0, number of jobs running: 0\n",
      "Running: /gpfs/data01/glasslab/home/joreyna/projects/BNFO286/clixo_0.3/clixo ../output/extracting_string_interactions_subnetworks/synapse_inters_option_4.tsv 0.1 0.5 > ../output/run_clixo/option4/string_synapse_interactions_combined_score.clixo_alpha0.1_beta0.5.txt\n",
      "Running: /gpfs/data01/glasslab/home/joreyna/projects/BNFO286/clixo_0.3/clixo ../output/extracting_string_interactions_subnetworks/synapse_inters_option_4.tsv 0.1 0.6 > ../output/run_clixo/option4/string_synapse_interactions_combined_score.clixo_alpha0.1_beta0.6.txt\n",
      "Running: /gpfs/data01/glasslab/home/joreyna/projects/BNFO286/clixo_0.3/clixo ../output/extracting_string_interactions_subnetworks/synapse_inters_option_4.tsv 0.1 0.7 > ../output/run_clixo/option4/string_synapse_interactions_combined_score.clixo_alpha0.1_beta0.7.txt\n",
      "Running: /gpfs/data01/glasslab/home/joreyna/projects/BNFO286/clixo_0.3/clixo ../output/extracting_string_interactions_subnetworks/synapse_inters_option_4.tsv 0.1 0.8 > ../output/run_clixo/option4/string_synapse_interactions_combined_score.clixo_alpha0.1_beta0.8.txt\n",
      "Running: /gpfs/data01/glasslab/home/joreyna/projects/BNFO286/clixo_0.3/clixo ../output/extracting_string_interactions_subnetworks/synapse_inters_option_4.tsv 0.1 0.9 > ../output/run_clixo/option4/string_synapse_interactions_combined_score.clixo_alpha0.1_beta0.9.txt\n",
      "Running: /gpfs/data01/glasslab/home/joreyna/projects/BNFO286/clixo_0.3/clixo ../output/extracting_string_interactions_subnetworks/synapse_inters_option_4.tsv 0.2 0.5 > ../output/run_clixo/option4/string_synapse_interactions_combined_score.clixo_alpha0.2_beta0.5.txt\n",
      "Running: /gpfs/data01/glasslab/home/joreyna/projects/BNFO286/clixo_0.3/clixo ../output/extracting_string_interactions_subnetworks/synapse_inters_option_4.tsv 0.2 0.6 > ../output/run_clixo/option4/string_synapse_interactions_combined_score.clixo_alpha0.2_beta0.6.txt\n",
      "Running: /gpfs/data01/glasslab/home/joreyna/projects/BNFO286/clixo_0.3/clixo ../output/extracting_string_interactions_subnetworks/synapse_inters_option_4.tsv 0.2 0.7 > ../output/run_clixo/option4/string_synapse_interactions_combined_score.clixo_alpha0.2_beta0.7.txt\n",
      "Running: /gpfs/data01/glasslab/home/joreyna/projects/BNFO286/clixo_0.3/clixo ../output/extracting_string_interactions_subnetworks/synapse_inters_option_4.tsv 0.2 0.8 > ../output/run_clixo/option4/string_synapse_interactions_combined_score.clixo_alpha0.2_beta0.8.txt\n",
      "Running: /gpfs/data01/glasslab/home/joreyna/projects/BNFO286/clixo_0.3/clixo ../output/extracting_string_interactions_subnetworks/synapse_inters_option_4.tsv 0.2 0.9 > ../output/run_clixo/option4/string_synapse_interactions_combined_score.clixo_alpha0.2_beta0.9.txt\n",
      "Running: /gpfs/data01/glasslab/home/joreyna/projects/BNFO286/clixo_0.3/clixo ../output/extracting_string_interactions_subnetworks/synapse_inters_option_4.tsv 0.3 0.5 > ../output/run_clixo/option4/string_synapse_interactions_combined_score.clixo_alpha0.3_beta0.5.txt\n",
      "Running: /gpfs/data01/glasslab/home/joreyna/projects/BNFO286/clixo_0.3/clixo ../output/extracting_string_interactions_subnetworks/synapse_inters_option_4.tsv 0.3 0.6 > ../output/run_clixo/option4/string_synapse_interactions_combined_score.clixo_alpha0.3_beta0.6.txt\n",
      "Iteraction number: 1, number of jobs running: 12\n",
      "Running: /gpfs/data01/glasslab/home/joreyna/projects/BNFO286/clixo_0.3/clixo ../output/extracting_string_interactions_subnetworks/synapse_inters_option_4.tsv 0.3 0.7 > ../output/run_clixo/option4/string_synapse_interactions_combined_score.clixo_alpha0.3_beta0.7.txt\n",
      "Running: /gpfs/data01/glasslab/home/joreyna/projects/BNFO286/clixo_0.3/clixo ../output/extracting_string_interactions_subnetworks/synapse_inters_option_4.tsv 0.3 0.8 > ../output/run_clixo/option4/string_synapse_interactions_combined_score.clixo_alpha0.3_beta0.8.txt\n",
      "Running: /gpfs/data01/glasslab/home/joreyna/projects/BNFO286/clixo_0.3/clixo ../output/extracting_string_interactions_subnetworks/synapse_inters_option_4.tsv 0.3 0.9 > ../output/run_clixo/option4/string_synapse_interactions_combined_score.clixo_alpha0.3_beta0.9.txt\n",
      "Running: /gpfs/data01/glasslab/home/joreyna/projects/BNFO286/clixo_0.3/clixo ../output/extracting_string_interactions_subnetworks/synapse_inters_option_4.tsv 0.4 0.5 > ../output/run_clixo/option4/string_synapse_interactions_combined_score.clixo_alpha0.4_beta0.5.txt\n",
      "Iteraction number: 2, number of jobs running: 12\n",
      "Running: /gpfs/data01/glasslab/home/joreyna/projects/BNFO286/clixo_0.3/clixo ../output/extracting_string_interactions_subnetworks/synapse_inters_option_4.tsv 0.4 0.6 > ../output/run_clixo/option4/string_synapse_interactions_combined_score.clixo_alpha0.4_beta0.6.txt\n",
      "Running: /gpfs/data01/glasslab/home/joreyna/projects/BNFO286/clixo_0.3/clixo ../output/extracting_string_interactions_subnetworks/synapse_inters_option_4.tsv 0.4 0.7 > ../output/run_clixo/option4/string_synapse_interactions_combined_score.clixo_alpha0.4_beta0.7.txt\n",
      "Iteraction number: 3, number of jobs running: 12\n",
      "Running: /gpfs/data01/glasslab/home/joreyna/projects/BNFO286/clixo_0.3/clixo ../output/extracting_string_interactions_subnetworks/synapse_inters_option_4.tsv 0.4 0.8 > ../output/run_clixo/option4/string_synapse_interactions_combined_score.clixo_alpha0.4_beta0.8.txt\n",
      "Iteraction number: 4, number of jobs running: 12\n",
      "Running: /gpfs/data01/glasslab/home/joreyna/projects/BNFO286/clixo_0.3/clixo ../output/extracting_string_interactions_subnetworks/synapse_inters_option_4.tsv 0.4 0.9 > ../output/run_clixo/option4/string_synapse_interactions_combined_score.clixo_alpha0.4_beta0.9.txt\n",
      "Running: /gpfs/data01/glasslab/home/joreyna/projects/BNFO286/clixo_0.3/clixo ../output/extracting_string_interactions_subnetworks/synapse_inters_option_4.tsv 0.5 0.5 > ../output/run_clixo/option4/string_synapse_interactions_combined_score.clixo_alpha0.5_beta0.5.txt\n",
      "Running: /gpfs/data01/glasslab/home/joreyna/projects/BNFO286/clixo_0.3/clixo ../output/extracting_string_interactions_subnetworks/synapse_inters_option_4.tsv 0.5 0.6 > ../output/run_clixo/option4/string_synapse_interactions_combined_score.clixo_alpha0.5_beta0.6.txt\n",
      "Iteraction number: 5, number of jobs running: 12\n",
      "Running: /gpfs/data01/glasslab/home/joreyna/projects/BNFO286/clixo_0.3/clixo ../output/extracting_string_interactions_subnetworks/synapse_inters_option_4.tsv 0.5 0.7 > ../output/run_clixo/option4/string_synapse_interactions_combined_score.clixo_alpha0.5_beta0.7.txt\n",
      "Running: /gpfs/data01/glasslab/home/joreyna/projects/BNFO286/clixo_0.3/clixo ../output/extracting_string_interactions_subnetworks/synapse_inters_option_4.tsv 0.5 0.8 > ../output/run_clixo/option4/string_synapse_interactions_combined_score.clixo_alpha0.5_beta0.8.txt\n",
      "Iteraction number: 6, number of jobs running: 12\n",
      "Running: /gpfs/data01/glasslab/home/joreyna/projects/BNFO286/clixo_0.3/clixo ../output/extracting_string_interactions_subnetworks/synapse_inters_option_4.tsv 0.5 0.9 > ../output/run_clixo/option4/string_synapse_interactions_combined_score.clixo_alpha0.5_beta0.9.txt\n",
      "Running: /gpfs/data01/glasslab/home/joreyna/projects/BNFO286/clixo_0.3/clixo ../output/extracting_string_interactions_subnetworks/synapse_inters_option_4.tsv 0.6 0.5 > ../output/run_clixo/option4/string_synapse_interactions_combined_score.clixo_alpha0.6_beta0.5.txt\n",
      "Iteraction number: 7, number of jobs running: 12\n",
      "Running: /gpfs/data01/glasslab/home/joreyna/projects/BNFO286/clixo_0.3/clixo ../output/extracting_string_interactions_subnetworks/synapse_inters_option_4.tsv 0.6 0.6 > ../output/run_clixo/option4/string_synapse_interactions_combined_score.clixo_alpha0.6_beta0.6.txt\n",
      "Running: /gpfs/data01/glasslab/home/joreyna/projects/BNFO286/clixo_0.3/clixo ../output/extracting_string_interactions_subnetworks/synapse_inters_option_4.tsv 0.6 0.7 > ../output/run_clixo/option4/string_synapse_interactions_combined_score.clixo_alpha0.6_beta0.7.txt\n",
      "Iteraction number: 8, number of jobs running: 12\n",
      "Running: /gpfs/data01/glasslab/home/joreyna/projects/BNFO286/clixo_0.3/clixo ../output/extracting_string_interactions_subnetworks/synapse_inters_option_4.tsv 0.6 0.8 > ../output/run_clixo/option4/string_synapse_interactions_combined_score.clixo_alpha0.6_beta0.8.txt\n",
      "Running: /gpfs/data01/glasslab/home/joreyna/projects/BNFO286/clixo_0.3/clixo ../output/extracting_string_interactions_subnetworks/synapse_inters_option_4.tsv 0.6 0.9 > ../output/run_clixo/option4/string_synapse_interactions_combined_score.clixo_alpha0.6_beta0.9.txt\n",
      "Running: /gpfs/data01/glasslab/home/joreyna/projects/BNFO286/clixo_0.3/clixo ../output/extracting_string_interactions_subnetworks/synapse_inters_option_4.tsv 0.7 0.5 > ../output/run_clixo/option4/string_synapse_interactions_combined_score.clixo_alpha0.7_beta0.5.txt\n"
     ]
    },
    {
     "name": "stdout",
     "output_type": "stream",
     "text": [
      "Iteraction number: 9, number of jobs running: 12\n",
      "Running: /gpfs/data01/glasslab/home/joreyna/projects/BNFO286/clixo_0.3/clixo ../output/extracting_string_interactions_subnetworks/synapse_inters_option_4.tsv 0.7 0.6 > ../output/run_clixo/option4/string_synapse_interactions_combined_score.clixo_alpha0.7_beta0.6.txt\n",
      "Running: /gpfs/data01/glasslab/home/joreyna/projects/BNFO286/clixo_0.3/clixo ../output/extracting_string_interactions_subnetworks/synapse_inters_option_4.tsv 0.7 0.7 > ../output/run_clixo/option4/string_synapse_interactions_combined_score.clixo_alpha0.7_beta0.7.txt\n",
      "Iteraction number: 10, number of jobs running: 12\n",
      "Iteraction number: 11, number of jobs running: 12\n",
      "Running: /gpfs/data01/glasslab/home/joreyna/projects/BNFO286/clixo_0.3/clixo ../output/extracting_string_interactions_subnetworks/synapse_inters_option_4.tsv 0.7 0.8 > ../output/run_clixo/option4/string_synapse_interactions_combined_score.clixo_alpha0.7_beta0.8.txt\n",
      "Iteraction number: 12, number of jobs running: 12\n",
      "Running: /gpfs/data01/glasslab/home/joreyna/projects/BNFO286/clixo_0.3/clixo ../output/extracting_string_interactions_subnetworks/synapse_inters_option_4.tsv 0.7 0.9 > ../output/run_clixo/option4/string_synapse_interactions_combined_score.clixo_alpha0.7_beta0.9.txt\n",
      "Iteraction number: 13, number of jobs running: 12\n",
      "Running: /gpfs/data01/glasslab/home/joreyna/projects/BNFO286/clixo_0.3/clixo ../output/extracting_string_interactions_subnetworks/synapse_inters_option_4.tsv 0.8 0.5 > ../output/run_clixo/option4/string_synapse_interactions_combined_score.clixo_alpha0.8_beta0.5.txt\n",
      "Iteraction number: 16, number of jobs running: 12\n",
      "Iteraction number: 17, number of jobs running: 12\n",
      "Running: /gpfs/data01/glasslab/home/joreyna/projects/BNFO286/clixo_0.3/clixo ../output/extracting_string_interactions_subnetworks/synapse_inters_option_4.tsv 0.8 0.7 > ../output/run_clixo/option4/string_synapse_interactions_combined_score.clixo_alpha0.8_beta0.7.txt\n",
      "Iteraction number: 18, number of jobs running: 12\n",
      "Running: /gpfs/data01/glasslab/home/joreyna/projects/BNFO286/clixo_0.3/clixo ../output/extracting_string_interactions_subnetworks/synapse_inters_option_4.tsv 0.8 0.8 > ../output/run_clixo/option4/string_synapse_interactions_combined_score.clixo_alpha0.8_beta0.8.txt\n",
      "Iteraction number: 19, number of jobs running: 12\n",
      "Running: /gpfs/data01/glasslab/home/joreyna/projects/BNFO286/clixo_0.3/clixo ../output/extracting_string_interactions_subnetworks/synapse_inters_option_4.tsv 0.8 0.9 > ../output/run_clixo/option4/string_synapse_interactions_combined_score.clixo_alpha0.8_beta0.9.txt\n",
      "Iteraction number: 20, number of jobs running: 12\n",
      "Running: /gpfs/data01/glasslab/home/joreyna/projects/BNFO286/clixo_0.3/clixo ../output/extracting_string_interactions_subnetworks/synapse_inters_option_4.tsv 0.9 0.5 > ../output/run_clixo/option4/string_synapse_interactions_combined_score.clixo_alpha0.9_beta0.5.txt\n",
      "Running: /gpfs/data01/glasslab/home/joreyna/projects/BNFO286/clixo_0.3/clixo ../output/extracting_string_interactions_subnetworks/synapse_inters_option_4.tsv 0.9 0.6 > ../output/run_clixo/option4/string_synapse_interactions_combined_score.clixo_alpha0.9_beta0.6.txt\n",
      "Iteraction number: 21, number of jobs running: 12\n",
      "Running: /gpfs/data01/glasslab/home/joreyna/projects/BNFO286/clixo_0.3/clixo ../output/extracting_string_interactions_subnetworks/synapse_inters_option_4.tsv 0.9 0.7 > ../output/run_clixo/option4/string_synapse_interactions_combined_score.clixo_alpha0.9_beta0.7.txt\n",
      "Iteraction number: 22, number of jobs running: 12\n",
      "Running: /gpfs/data01/glasslab/home/joreyna/projects/BNFO286/clixo_0.3/clixo ../output/extracting_string_interactions_subnetworks/synapse_inters_option_4.tsv 0.9 0.8 > ../output/run_clixo/option4/string_synapse_interactions_combined_score.clixo_alpha0.9_beta0.8.txt\n",
      "Running: /gpfs/data01/glasslab/home/joreyna/projects/BNFO286/clixo_0.3/clixo ../output/extracting_string_interactions_subnetworks/synapse_inters_option_4.tsv 0.9 0.9 > ../output/run_clixo/option4/string_synapse_interactions_combined_score.clixo_alpha0.9_beta0.9.txt\n",
      "Iteraction number: 23, number of jobs running: 12\n",
      "Iteraction number: 24, number of jobs running: 10\n"
     ]
    },
    {
     "ename": "StopIteration",
     "evalue": "",
     "output_type": "error",
     "traceback": [
      "\u001b[0;31m---------------------------------------------------------------------------\u001b[0m",
      "\u001b[0;31mStopIteration\u001b[0m                             Traceback (most recent call last)",
      "\u001b[0;32m<ipython-input-5-84a9febaea66>\u001b[0m in \u001b[0;36m<module>\u001b[0;34m\u001b[0m\n\u001b[1;32m     25\u001b[0m \u001b[0;34m\u001b[0m\u001b[0m\n\u001b[1;32m     26\u001b[0m         \u001b[0;31m# Pulling the alpha and beta values\u001b[0m\u001b[0;34m\u001b[0m\u001b[0;34m\u001b[0m\u001b[0;34m\u001b[0m\u001b[0m\n\u001b[0;32m---> 27\u001b[0;31m         \u001b[0malpha\u001b[0m\u001b[0;34m,\u001b[0m \u001b[0mbeta\u001b[0m \u001b[0;34m=\u001b[0m \u001b[0mnext\u001b[0m\u001b[0;34m(\u001b[0m\u001b[0mparameters\u001b[0m\u001b[0;34m)\u001b[0m\u001b[0;34m\u001b[0m\u001b[0;34m\u001b[0m\u001b[0m\n\u001b[0m\u001b[1;32m     28\u001b[0m         \u001b[0;31m#print('alpha, beta', alpha, beta)\u001b[0m\u001b[0;34m\u001b[0m\u001b[0;34m\u001b[0m\u001b[0;34m\u001b[0m\u001b[0m\n\u001b[1;32m     29\u001b[0m \u001b[0;34m\u001b[0m\u001b[0m\n",
      "\u001b[0;31mStopIteration\u001b[0m: "
     ]
    }
   ],
   "source": [
    "concurrent_jobs = 12\n",
    "num_loops = 0 \n",
    "while True: \n",
    "    \n",
    "    # Get the status of jobs  \n",
    "    jobs = {job: job.poll() for job in jobs}\n",
    "      \n",
    "    print('Iteraction number: {}, number of jobs running: {}'.\\\n",
    "          format(num_loops, len(jobs)))\n",
    "    \n",
    "    # Remove jobs\n",
    "    job_keys = jobs.keys()\n",
    "    for job_key in list(job_keys):  \n",
    "        status = jobs[job_key]  \n",
    "        # Job is no longer running, remove it \n",
    "        if status != None: \n",
    "            jobs.pop(job_key)      \n",
    "            \n",
    "    # Start new jobs \n",
    "    num_new_jobs = concurrent_jobs - len(jobs)  \n",
    "    \n",
    "    #print('num_new_jobs', num_new_jobs)\n",
    "    \n",
    "    for i in range(num_new_jobs):\n",
    "            \n",
    "        # Pulling the alpha and beta values \n",
    "        alpha, beta = next(parameters)\n",
    "        #print('alpha, beta', alpha, beta)\n",
    "            \n",
    "        # Checking whether there are more parameters to run  \n",
    "        if alpha == None: \n",
    "            break \n",
    "            \n",
    "        # Running CliXo jobs with a new set of parameters\n",
    "        clixo_fn = 'string_synapse_interactions_combined_score'\n",
    "        clixo_fn += '.clixo_alpha{}_beta{}.txt'\n",
    "        clixo_fn = clixo_fn.format(alpha, beta)\n",
    "        clixo_fn = os.path.join(output_dir, clixo_fn)\n",
    "\n",
    "        if not os.path.exists(clixo_fn):\n",
    "            cmd = '{} {} {} {} > {}'.format(clixo_script, \n",
    "                                            interactions_fn, \n",
    "                                            alpha, \n",
    "                                            beta, \n",
    "                                            clixo_fn)\n",
    "            print('Running: {}'.format(cmd))\n",
    "            job = subprocess.Popen(cmd, \n",
    "                                   stderr=subprocess.PIPE, \n",
    "                                   stdout=subprocess.PIPE, \n",
    "                                   shell=True)\n",
    "\n",
    "            # Add the status of the job as running (=None)\n",
    "            jobs[job] = None \n",
    "            \n",
    "    if len(jobs) == concurrent_jobs: \n",
    "        time.sleep(60)\n",
    "    else:\n",
    "        time.sleep(5)\n",
    "        \n",
    "\n",
    "    num_loops+= 1"
   ]
  },
  {
   "cell_type": "code",
   "execution_count": null,
   "metadata": {},
   "outputs": [],
   "source": [
    "2 + 2 "
   ]
  },
  {
   "cell_type": "code",
   "execution_count": null,
   "metadata": {},
   "outputs": [],
   "source": []
  },
  {
   "cell_type": "code",
   "execution_count": null,
   "metadata": {},
   "outputs": [],
   "source": []
  },
  {
   "cell_type": "code",
   "execution_count": null,
   "metadata": {},
   "outputs": [],
   "source": []
  },
  {
   "cell_type": "code",
   "execution_count": null,
   "metadata": {},
   "outputs": [],
   "source": []
  },
  {
   "cell_type": "code",
   "execution_count": null,
   "metadata": {},
   "outputs": [],
   "source": []
  },
  {
   "cell_type": "code",
   "execution_count": 4,
   "metadata": {},
   "outputs": [],
   "source": [
    "# Gathering all the \n",
    "parameters = product(np.arange(0.17, 0.23, 0.01), np.arange(0.67, 0.73, 0.01))\n",
    "parameters = get_alpha_beta(parameters)\n",
    "jobs = {}"
   ]
  },
  {
   "cell_type": "code",
   "execution_count": 5,
   "metadata": {},
   "outputs": [
    {
     "name": "stdout",
     "output_type": "stream",
     "text": [
      "Running: /gpfs/data01/glasslab/home/joreyna/projects/BNFO286/clixo_0.3/clixo ../output/extracting_string_interactions_subnetworks/synapse_inters_option_4.tsv 0.17 0.67 > ../output/run_clixo/option4/string_synapse_interactions_combined_score.clixo_alpha0.17_beta0.67.txt\n",
      "Running: /gpfs/data01/glasslab/home/joreyna/projects/BNFO286/clixo_0.3/clixo ../output/extracting_string_interactions_subnetworks/synapse_inters_option_4.tsv 0.17 0.68 > ../output/run_clixo/option4/string_synapse_interactions_combined_score.clixo_alpha0.17_beta0.68.txt\n",
      "Running: /gpfs/data01/glasslab/home/joreyna/projects/BNFO286/clixo_0.3/clixo ../output/extracting_string_interactions_subnetworks/synapse_inters_option_4.tsv 0.17 0.69 > ../output/run_clixo/option4/string_synapse_interactions_combined_score.clixo_alpha0.17_beta0.69.txt\n",
      "Running: /gpfs/data01/glasslab/home/joreyna/projects/BNFO286/clixo_0.3/clixo ../output/extracting_string_interactions_subnetworks/synapse_inters_option_4.tsv 0.17 0.70 > ../output/run_clixo/option4/string_synapse_interactions_combined_score.clixo_alpha0.17_beta0.70.txt\n",
      "Running: /gpfs/data01/glasslab/home/joreyna/projects/BNFO286/clixo_0.3/clixo ../output/extracting_string_interactions_subnetworks/synapse_inters_option_4.tsv 0.17 0.71 > ../output/run_clixo/option4/string_synapse_interactions_combined_score.clixo_alpha0.17_beta0.71.txt\n",
      "Running: /gpfs/data01/glasslab/home/joreyna/projects/BNFO286/clixo_0.3/clixo ../output/extracting_string_interactions_subnetworks/synapse_inters_option_4.tsv 0.17 0.72 > ../output/run_clixo/option4/string_synapse_interactions_combined_score.clixo_alpha0.17_beta0.72.txt\n",
      "Running: /gpfs/data01/glasslab/home/joreyna/projects/BNFO286/clixo_0.3/clixo ../output/extracting_string_interactions_subnetworks/synapse_inters_option_4.tsv 0.18 0.67 > ../output/run_clixo/option4/string_synapse_interactions_combined_score.clixo_alpha0.18_beta0.67.txt\n",
      "Running: /gpfs/data01/glasslab/home/joreyna/projects/BNFO286/clixo_0.3/clixo ../output/extracting_string_interactions_subnetworks/synapse_inters_option_4.tsv 0.18 0.68 > ../output/run_clixo/option4/string_synapse_interactions_combined_score.clixo_alpha0.18_beta0.68.txt\n",
      "Running: /gpfs/data01/glasslab/home/joreyna/projects/BNFO286/clixo_0.3/clixo ../output/extracting_string_interactions_subnetworks/synapse_inters_option_4.tsv 0.18 0.69 > ../output/run_clixo/option4/string_synapse_interactions_combined_score.clixo_alpha0.18_beta0.69.txt\n",
      "Running: /gpfs/data01/glasslab/home/joreyna/projects/BNFO286/clixo_0.3/clixo ../output/extracting_string_interactions_subnetworks/synapse_inters_option_4.tsv 0.18 0.70 > ../output/run_clixo/option4/string_synapse_interactions_combined_score.clixo_alpha0.18_beta0.70.txt\n",
      "Running: /gpfs/data01/glasslab/home/joreyna/projects/BNFO286/clixo_0.3/clixo ../output/extracting_string_interactions_subnetworks/synapse_inters_option_4.tsv 0.18 0.71 > ../output/run_clixo/option4/string_synapse_interactions_combined_score.clixo_alpha0.18_beta0.71.txt\n",
      "Running: /gpfs/data01/glasslab/home/joreyna/projects/BNFO286/clixo_0.3/clixo ../output/extracting_string_interactions_subnetworks/synapse_inters_option_4.tsv 0.18 0.72 > ../output/run_clixo/option4/string_synapse_interactions_combined_score.clixo_alpha0.18_beta0.72.txt\n",
      "Running: /gpfs/data01/glasslab/home/joreyna/projects/BNFO286/clixo_0.3/clixo ../output/extracting_string_interactions_subnetworks/synapse_inters_option_4.tsv 0.19 0.67 > ../output/run_clixo/option4/string_synapse_interactions_combined_score.clixo_alpha0.19_beta0.67.txt\n",
      "Running: /gpfs/data01/glasslab/home/joreyna/projects/BNFO286/clixo_0.3/clixo ../output/extracting_string_interactions_subnetworks/synapse_inters_option_4.tsv 0.19 0.68 > ../output/run_clixo/option4/string_synapse_interactions_combined_score.clixo_alpha0.19_beta0.68.txt\n",
      "Running: /gpfs/data01/glasslab/home/joreyna/projects/BNFO286/clixo_0.3/clixo ../output/extracting_string_interactions_subnetworks/synapse_inters_option_4.tsv 0.19 0.69 > ../output/run_clixo/option4/string_synapse_interactions_combined_score.clixo_alpha0.19_beta0.69.txt\n",
      "Running: /gpfs/data01/glasslab/home/joreyna/projects/BNFO286/clixo_0.3/clixo ../output/extracting_string_interactions_subnetworks/synapse_inters_option_4.tsv 0.19 0.70 > ../output/run_clixo/option4/string_synapse_interactions_combined_score.clixo_alpha0.19_beta0.70.txt\n",
      "Running: /gpfs/data01/glasslab/home/joreyna/projects/BNFO286/clixo_0.3/clixo ../output/extracting_string_interactions_subnetworks/synapse_inters_option_4.tsv 0.19 0.71 > ../output/run_clixo/option4/string_synapse_interactions_combined_score.clixo_alpha0.19_beta0.71.txt\n",
      "Running: /gpfs/data01/glasslab/home/joreyna/projects/BNFO286/clixo_0.3/clixo ../output/extracting_string_interactions_subnetworks/synapse_inters_option_4.tsv 0.19 0.72 > ../output/run_clixo/option4/string_synapse_interactions_combined_score.clixo_alpha0.19_beta0.72.txt\n",
      "Running: /gpfs/data01/glasslab/home/joreyna/projects/BNFO286/clixo_0.3/clixo ../output/extracting_string_interactions_subnetworks/synapse_inters_option_4.tsv 0.20 0.67 > ../output/run_clixo/option4/string_synapse_interactions_combined_score.clixo_alpha0.20_beta0.67.txt\n",
      "Running: /gpfs/data01/glasslab/home/joreyna/projects/BNFO286/clixo_0.3/clixo ../output/extracting_string_interactions_subnetworks/synapse_inters_option_4.tsv 0.20 0.68 > ../output/run_clixo/option4/string_synapse_interactions_combined_score.clixo_alpha0.20_beta0.68.txt\n",
      "Iteraction number: 0, number of jobs running: 20\n",
      "Running: /gpfs/data01/glasslab/home/joreyna/projects/BNFO286/clixo_0.3/clixo ../output/extracting_string_interactions_subnetworks/synapse_inters_option_4.tsv 0.20 0.69 > ../output/run_clixo/option4/string_synapse_interactions_combined_score.clixo_alpha0.20_beta0.69.txt\n",
      "Running: /gpfs/data01/glasslab/home/joreyna/projects/BNFO286/clixo_0.3/clixo ../output/extracting_string_interactions_subnetworks/synapse_inters_option_4.tsv 0.20 0.70 > ../output/run_clixo/option4/string_synapse_interactions_combined_score.clixo_alpha0.20_beta0.70.txt\n",
      "Running: /gpfs/data01/glasslab/home/joreyna/projects/BNFO286/clixo_0.3/clixo ../output/extracting_string_interactions_subnetworks/synapse_inters_option_4.tsv 0.20 0.71 > ../output/run_clixo/option4/string_synapse_interactions_combined_score.clixo_alpha0.20_beta0.71.txt\n",
      "Running: /gpfs/data01/glasslab/home/joreyna/projects/BNFO286/clixo_0.3/clixo ../output/extracting_string_interactions_subnetworks/synapse_inters_option_4.tsv 0.20 0.72 > ../output/run_clixo/option4/string_synapse_interactions_combined_score.clixo_alpha0.20_beta0.72.txt\n",
      "Running: /gpfs/data01/glasslab/home/joreyna/projects/BNFO286/clixo_0.3/clixo ../output/extracting_string_interactions_subnetworks/synapse_inters_option_4.tsv 0.21 0.67 > ../output/run_clixo/option4/string_synapse_interactions_combined_score.clixo_alpha0.21_beta0.67.txt\n",
      "Running: /gpfs/data01/glasslab/home/joreyna/projects/BNFO286/clixo_0.3/clixo ../output/extracting_string_interactions_subnetworks/synapse_inters_option_4.tsv 0.21 0.68 > ../output/run_clixo/option4/string_synapse_interactions_combined_score.clixo_alpha0.21_beta0.68.txt\n",
      "Running: /gpfs/data01/glasslab/home/joreyna/projects/BNFO286/clixo_0.3/clixo ../output/extracting_string_interactions_subnetworks/synapse_inters_option_4.tsv 0.21 0.69 > ../output/run_clixo/option4/string_synapse_interactions_combined_score.clixo_alpha0.21_beta0.69.txt\n",
      "Running: /gpfs/data01/glasslab/home/joreyna/projects/BNFO286/clixo_0.3/clixo ../output/extracting_string_interactions_subnetworks/synapse_inters_option_4.tsv 0.21 0.70 > ../output/run_clixo/option4/string_synapse_interactions_combined_score.clixo_alpha0.21_beta0.70.txt\n",
      "Iteraction number: 1, number of jobs running: 20\n",
      "Running: /gpfs/data01/glasslab/home/joreyna/projects/BNFO286/clixo_0.3/clixo ../output/extracting_string_interactions_subnetworks/synapse_inters_option_4.tsv 0.21 0.71 > ../output/run_clixo/option4/string_synapse_interactions_combined_score.clixo_alpha0.21_beta0.71.txt\n",
      "Running: /gpfs/data01/glasslab/home/joreyna/projects/BNFO286/clixo_0.3/clixo ../output/extracting_string_interactions_subnetworks/synapse_inters_option_4.tsv 0.21 0.72 > ../output/run_clixo/option4/string_synapse_interactions_combined_score.clixo_alpha0.21_beta0.72.txt\n",
      "Running: /gpfs/data01/glasslab/home/joreyna/projects/BNFO286/clixo_0.3/clixo ../output/extracting_string_interactions_subnetworks/synapse_inters_option_4.tsv 0.22 0.67 > ../output/run_clixo/option4/string_synapse_interactions_combined_score.clixo_alpha0.22_beta0.67.txt\n",
      "Running: /gpfs/data01/glasslab/home/joreyna/projects/BNFO286/clixo_0.3/clixo ../output/extracting_string_interactions_subnetworks/synapse_inters_option_4.tsv 0.22 0.68 > ../output/run_clixo/option4/string_synapse_interactions_combined_score.clixo_alpha0.22_beta0.68.txt\n",
      "Running: /gpfs/data01/glasslab/home/joreyna/projects/BNFO286/clixo_0.3/clixo ../output/extracting_string_interactions_subnetworks/synapse_inters_option_4.tsv 0.22 0.69 > ../output/run_clixo/option4/string_synapse_interactions_combined_score.clixo_alpha0.22_beta0.69.txt\n",
      "Running: /gpfs/data01/glasslab/home/joreyna/projects/BNFO286/clixo_0.3/clixo ../output/extracting_string_interactions_subnetworks/synapse_inters_option_4.tsv 0.22 0.70 > ../output/run_clixo/option4/string_synapse_interactions_combined_score.clixo_alpha0.22_beta0.70.txt\n",
      "Running: /gpfs/data01/glasslab/home/joreyna/projects/BNFO286/clixo_0.3/clixo ../output/extracting_string_interactions_subnetworks/synapse_inters_option_4.tsv 0.22 0.71 > ../output/run_clixo/option4/string_synapse_interactions_combined_score.clixo_alpha0.22_beta0.71.txt\n",
      "Running: /gpfs/data01/glasslab/home/joreyna/projects/BNFO286/clixo_0.3/clixo ../output/extracting_string_interactions_subnetworks/synapse_inters_option_4.tsv 0.22 0.72 > ../output/run_clixo/option4/string_synapse_interactions_combined_score.clixo_alpha0.22_beta0.72.txt\n"
     ]
    },
    {
     "name": "stdout",
     "output_type": "stream",
     "text": [
      "Iteraction number: 2, number of jobs running: 17\n"
     ]
    },
    {
     "ename": "StopIteration",
     "evalue": "",
     "output_type": "error",
     "traceback": [
      "\u001b[0;31m---------------------------------------------------------------------------\u001b[0m",
      "\u001b[0;31mStopIteration\u001b[0m                             Traceback (most recent call last)",
      "\u001b[0;32m<ipython-input-5-b9116f1c21f3>\u001b[0m in \u001b[0;36m<module>\u001b[0;34m\u001b[0m\n\u001b[1;32m     22\u001b[0m \u001b[0;34m\u001b[0m\u001b[0m\n\u001b[1;32m     23\u001b[0m         \u001b[0;31m# Pulling the alpha and beta values\u001b[0m\u001b[0;34m\u001b[0m\u001b[0;34m\u001b[0m\u001b[0;34m\u001b[0m\u001b[0m\n\u001b[0;32m---> 24\u001b[0;31m         \u001b[0malpha\u001b[0m\u001b[0;34m,\u001b[0m \u001b[0mbeta\u001b[0m \u001b[0;34m=\u001b[0m \u001b[0mnext\u001b[0m\u001b[0;34m(\u001b[0m\u001b[0mparameters\u001b[0m\u001b[0;34m)\u001b[0m\u001b[0;34m\u001b[0m\u001b[0;34m\u001b[0m\u001b[0m\n\u001b[0m\u001b[1;32m     25\u001b[0m         \u001b[0;31m#print('alpha, beta', alpha, beta)\u001b[0m\u001b[0;34m\u001b[0m\u001b[0;34m\u001b[0m\u001b[0;34m\u001b[0m\u001b[0m\n\u001b[1;32m     26\u001b[0m \u001b[0;34m\u001b[0m\u001b[0m\n",
      "\u001b[0;31mStopIteration\u001b[0m: "
     ]
    }
   ],
   "source": [
    "concurrent_jobs = 20\n",
    "num_loops = 0 \n",
    "while True: \n",
    "    \n",
    "    # Get the status of jobs  \n",
    "    jobs = {job: job.poll() for job in jobs}\n",
    "            \n",
    "    # Remove jobs\n",
    "    job_keys = jobs.keys()\n",
    "    for job_key in list(job_keys):  \n",
    "        status = jobs[job_key]  \n",
    "        # Job is no longer running, remove it \n",
    "        if status != None: \n",
    "            jobs.pop(job_key)      \n",
    "            \n",
    "    # Start new jobs \n",
    "    num_new_jobs = concurrent_jobs - len(jobs)  \n",
    "    \n",
    "    #print('num_new_jobs', num_new_jobs)\n",
    "    \n",
    "    for i in range(num_new_jobs):\n",
    "            \n",
    "        # Pulling the alpha and beta values \n",
    "        alpha, beta = next(parameters)\n",
    "        #print('alpha, beta', alpha, beta)\n",
    "            \n",
    "        # Checking whether there are more parameters to run  \n",
    "        if alpha == None: \n",
    "            break \n",
    "            \n",
    "        # Running CliXo jobs with a new set of parameters\n",
    "        clixo_fn = 'string_synapse_interactions_combined_score'\n",
    "        clixo_fn += '.clixo_alpha{}_beta{}.txt'\n",
    "        clixo_fn = clixo_fn.format(alpha, beta)\n",
    "        clixo_fn = os.path.join(output_dir, clixo_fn)\n",
    "\n",
    "        if not os.path.exists(clixo_fn):\n",
    "            cmd = '{} {} {} {} > {}'.format(clixo_script, \n",
    "                                            interactions_fn, \n",
    "                                            alpha, \n",
    "                                            beta, \n",
    "                                            clixo_fn)\n",
    "            print('Running: {}'.format(cmd))\n",
    "            job = subprocess.Popen(cmd, \n",
    "                                   stderr=subprocess.PIPE, \n",
    "                                   stdout=subprocess.PIPE, \n",
    "                                   shell=True)\n",
    "\n",
    "            # Add the status of the job as running (=None)\n",
    "            jobs[job] = None \n",
    "            \n",
    "    if len(jobs) == concurrent_jobs: \n",
    "        time.sleep(180)\n",
    "    else:\n",
    "        time.sleep(5)\n",
    "        \n",
    "    print('Iteraction number: {}, number of jobs running: {}'.\\\n",
    "          format(num_loops, len(jobs)))\n",
    "    num_loops+= 1"
   ]
  },
  {
   "cell_type": "code",
   "execution_count": null,
   "metadata": {},
   "outputs": [],
   "source": []
  },
  {
   "cell_type": "code",
   "execution_count": null,
   "metadata": {},
   "outputs": [],
   "source": []
  }
 ],
 "metadata": {
  "kernelspec": {
   "display_name": "Python (DNA Shape)",
   "language": "python",
   "name": "dna_shape"
  },
  "language_info": {
   "codemirror_mode": {
    "name": "ipython",
    "version": 3
   },
   "file_extension": ".py",
   "mimetype": "text/x-python",
   "name": "python",
   "nbconvert_exporter": "python",
   "pygments_lexer": "ipython3",
   "version": "3.7.1"
  }
 },
 "nbformat": 4,
 "nbformat_minor": 2
}
