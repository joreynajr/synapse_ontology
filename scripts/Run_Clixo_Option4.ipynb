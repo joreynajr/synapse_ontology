{
 "cells": [
  {
   "cell_type": "code",
   "execution_count": 1,
   "metadata": {},
   "outputs": [],
   "source": [
    "import sys \n",
    "import os\n",
    "import subprocess\n",
    "import numpy as np \n",
    "import time\n",
    "from itertools import product \n",
    "\n",
    "option = 4\n",
    "output_dir = '../output/run_clixo/option{}'.format(option); \n",
    "if not os.path.exists(output_dir): os.makedirs(output_dir)\n",
    "stringdb_dir = '../output/extracting_string_interactions_subnetworks/'"
   ]
  },
  {
   "cell_type": "code",
   "execution_count": 2,
   "metadata": {},
   "outputs": [
    {
     "data": {
      "text/plain": [
       "'../output/extracting_string_interactions_subnetworks/synapse_inters_option_4.tsv'"
      ]
     },
     "execution_count": 2,
     "metadata": {},
     "output_type": "execute_result"
    }
   ],
   "source": [
    "# Obtaining the clixo program \n",
    "clixo_script = '/gpfs/data01/glasslab/home/joreyna/projects/BNFO286/clixo_0.3/clixo'\n",
    "\n",
    "# Listing the string interactions file\n",
    "interactions_fn = os.path.join(stringdb_dir, 'synapse_inters_option_{}.tsv')\n",
    "interactions_fn = interactions_fn.format(option)\n",
    "interactions_fn "
   ]
  },
  {
   "cell_type": "markdown",
   "metadata": {},
   "source": [
    "## Code to run a single parameter set \n"
   ]
  },
  {
   "cell_type": "code",
   "execution_count": 8,
   "metadata": {},
   "outputs": [
    {
     "name": "stdout",
     "output_type": "stream",
     "text": [
      "Running: /gpfs/data01/glasslab/home/joreyna/projects/BNFO286/clixo_0.3/clixo ../output/extracting_string_interactions_subnetworks/synapse_inters_option_4.tsv 0.2 0.2 > ../output/run_clixo/option4/string_synapse_interactions_combined_score.clixo_alpha0.2_beta0.2.txt\n",
      "\n",
      "\n"
     ]
    }
   ],
   "source": [
    "alpha = 0.2\n",
    "beta = 0.2\n",
    "\n",
    "# Naming the clixo output (can change if you need)\n",
    "clixo_fn = os.path.join(output_dir, \n",
    "    'string_synapse_interactions_combined_score.clixo_alpha{}_beta{}.txt'.format(alpha, beta))\n",
    "cmd = '{} {} {} {} > {}'.format(clixo_script, interactions_fn, alpha, beta, clixo_fn)\n",
    "print('Running: {}'.format(cmd))\n",
    "\n",
    "if not os.path.exists(clixo_fn): \n",
    "    sp = subprocess.Popen(cmd, stderr=subprocess.PIPE, stdout=subprocess.PIPE, shell=True)\n",
    "    msgs = sp.communicate()\n",
    "    print('\\n'.join([x.decode() for x in msgs]))"
   ]
  },
  {
   "cell_type": "markdown",
   "metadata": {},
   "source": [
    "### Testing different values of alpha and beta"
   ]
  },
  {
   "cell_type": "code",
   "execution_count": 3,
   "metadata": {},
   "outputs": [],
   "source": [
    "def get_alpha_beta(l):\n",
    "    \"\"\"\n",
    "    Yield function to get the correct alpha and beta names.\n",
    "    \n",
    "    \"\"\"\n",
    "    for x in l: \n",
    "        alpha = '{:.2f}'.format(x[0])\n",
    "        beta =  '{:.2f}'.format(x[1])\n",
    "        yield((alpha, beta))\n",
    "        \n",
    "    yield(None, None)"
   ]
  },
  {
   "cell_type": "code",
   "execution_count": 10,
   "metadata": {},
   "outputs": [],
   "source": [
    "# Gathering all the \n",
    "parameters = product(np.arange(0.01, 0.05, 0.01), np.arange(0.3, 0.5, 0.01))\n",
    "parameters = get_alpha_beta(parameters)\n",
    "jobs = {}"
   ]
  },
  {
   "cell_type": "code",
   "execution_count": 11,
   "metadata": {
    "scrolled": false
   },
   "outputs": [
    {
     "name": "stdout",
     "output_type": "stream",
     "text": [
      "Iteraction number: 0, number of jobs running: 0\n",
      "Running: /gpfs/data01/glasslab/home/joreyna/projects/BNFO286/clixo_0.3/clixo ../output/extracting_string_interactions_subnetworks/synapse_inters_option_4.tsv 0.01 0.30 > ../output/run_clixo/option4/string_synapse_interactions_combined_score.clixo_alpha0.01_beta0.30.txt\n",
      "Running: /gpfs/data01/glasslab/home/joreyna/projects/BNFO286/clixo_0.3/clixo ../output/extracting_string_interactions_subnetworks/synapse_inters_option_4.tsv 0.01 0.31 > ../output/run_clixo/option4/string_synapse_interactions_combined_score.clixo_alpha0.01_beta0.31.txt\n",
      "Running: /gpfs/data01/glasslab/home/joreyna/projects/BNFO286/clixo_0.3/clixo ../output/extracting_string_interactions_subnetworks/synapse_inters_option_4.tsv 0.01 0.32 > ../output/run_clixo/option4/string_synapse_interactions_combined_score.clixo_alpha0.01_beta0.32.txt\n",
      "Running: /gpfs/data01/glasslab/home/joreyna/projects/BNFO286/clixo_0.3/clixo ../output/extracting_string_interactions_subnetworks/synapse_inters_option_4.tsv 0.01 0.33 > ../output/run_clixo/option4/string_synapse_interactions_combined_score.clixo_alpha0.01_beta0.33.txt\n",
      "Running: /gpfs/data01/glasslab/home/joreyna/projects/BNFO286/clixo_0.3/clixo ../output/extracting_string_interactions_subnetworks/synapse_inters_option_4.tsv 0.01 0.34 > ../output/run_clixo/option4/string_synapse_interactions_combined_score.clixo_alpha0.01_beta0.34.txt\n",
      "Running: /gpfs/data01/glasslab/home/joreyna/projects/BNFO286/clixo_0.3/clixo ../output/extracting_string_interactions_subnetworks/synapse_inters_option_4.tsv 0.01 0.35 > ../output/run_clixo/option4/string_synapse_interactions_combined_score.clixo_alpha0.01_beta0.35.txt\n",
      "Running: /gpfs/data01/glasslab/home/joreyna/projects/BNFO286/clixo_0.3/clixo ../output/extracting_string_interactions_subnetworks/synapse_inters_option_4.tsv 0.01 0.36 > ../output/run_clixo/option4/string_synapse_interactions_combined_score.clixo_alpha0.01_beta0.36.txt\n",
      "Running: /gpfs/data01/glasslab/home/joreyna/projects/BNFO286/clixo_0.3/clixo ../output/extracting_string_interactions_subnetworks/synapse_inters_option_4.tsv 0.01 0.37 > ../output/run_clixo/option4/string_synapse_interactions_combined_score.clixo_alpha0.01_beta0.37.txt\n",
      "Running: /gpfs/data01/glasslab/home/joreyna/projects/BNFO286/clixo_0.3/clixo ../output/extracting_string_interactions_subnetworks/synapse_inters_option_4.tsv 0.01 0.38 > ../output/run_clixo/option4/string_synapse_interactions_combined_score.clixo_alpha0.01_beta0.38.txt\n",
      "Running: /gpfs/data01/glasslab/home/joreyna/projects/BNFO286/clixo_0.3/clixo ../output/extracting_string_interactions_subnetworks/synapse_inters_option_4.tsv 0.01 0.39 > ../output/run_clixo/option4/string_synapse_interactions_combined_score.clixo_alpha0.01_beta0.39.txt\n",
      "Running: /gpfs/data01/glasslab/home/joreyna/projects/BNFO286/clixo_0.3/clixo ../output/extracting_string_interactions_subnetworks/synapse_inters_option_4.tsv 0.01 0.40 > ../output/run_clixo/option4/string_synapse_interactions_combined_score.clixo_alpha0.01_beta0.40.txt\n",
      "Running: /gpfs/data01/glasslab/home/joreyna/projects/BNFO286/clixo_0.3/clixo ../output/extracting_string_interactions_subnetworks/synapse_inters_option_4.tsv 0.01 0.41 > ../output/run_clixo/option4/string_synapse_interactions_combined_score.clixo_alpha0.01_beta0.41.txt\n",
      "Running: /gpfs/data01/glasslab/home/joreyna/projects/BNFO286/clixo_0.3/clixo ../output/extracting_string_interactions_subnetworks/synapse_inters_option_4.tsv 0.01 0.42 > ../output/run_clixo/option4/string_synapse_interactions_combined_score.clixo_alpha0.01_beta0.42.txt\n",
      "Running: /gpfs/data01/glasslab/home/joreyna/projects/BNFO286/clixo_0.3/clixo ../output/extracting_string_interactions_subnetworks/synapse_inters_option_4.tsv 0.01 0.43 > ../output/run_clixo/option4/string_synapse_interactions_combined_score.clixo_alpha0.01_beta0.43.txt\n",
      "Running: /gpfs/data01/glasslab/home/joreyna/projects/BNFO286/clixo_0.3/clixo ../output/extracting_string_interactions_subnetworks/synapse_inters_option_4.tsv 0.01 0.44 > ../output/run_clixo/option4/string_synapse_interactions_combined_score.clixo_alpha0.01_beta0.44.txt\n",
      "Running: /gpfs/data01/glasslab/home/joreyna/projects/BNFO286/clixo_0.3/clixo ../output/extracting_string_interactions_subnetworks/synapse_inters_option_4.tsv 0.01 0.45 > ../output/run_clixo/option4/string_synapse_interactions_combined_score.clixo_alpha0.01_beta0.45.txt\n",
      "Running: /gpfs/data01/glasslab/home/joreyna/projects/BNFO286/clixo_0.3/clixo ../output/extracting_string_interactions_subnetworks/synapse_inters_option_4.tsv 0.01 0.46 > ../output/run_clixo/option4/string_synapse_interactions_combined_score.clixo_alpha0.01_beta0.46.txt\n",
      "Running: /gpfs/data01/glasslab/home/joreyna/projects/BNFO286/clixo_0.3/clixo ../output/extracting_string_interactions_subnetworks/synapse_inters_option_4.tsv 0.01 0.47 > ../output/run_clixo/option4/string_synapse_interactions_combined_score.clixo_alpha0.01_beta0.47.txt\n",
      "Running: /gpfs/data01/glasslab/home/joreyna/projects/BNFO286/clixo_0.3/clixo ../output/extracting_string_interactions_subnetworks/synapse_inters_option_4.tsv 0.01 0.48 > ../output/run_clixo/option4/string_synapse_interactions_combined_score.clixo_alpha0.01_beta0.48.txt\n",
      "Running: /gpfs/data01/glasslab/home/joreyna/projects/BNFO286/clixo_0.3/clixo ../output/extracting_string_interactions_subnetworks/synapse_inters_option_4.tsv 0.01 0.49 > ../output/run_clixo/option4/string_synapse_interactions_combined_score.clixo_alpha0.01_beta0.49.txt\n",
      "Iteraction number: 1, number of jobs running: 20\n",
      "Running: /gpfs/data01/glasslab/home/joreyna/projects/BNFO286/clixo_0.3/clixo ../output/extracting_string_interactions_subnetworks/synapse_inters_option_4.tsv 0.02 0.30 > ../output/run_clixo/option4/string_synapse_interactions_combined_score.clixo_alpha0.02_beta0.30.txt\n",
      "Running: /gpfs/data01/glasslab/home/joreyna/projects/BNFO286/clixo_0.3/clixo ../output/extracting_string_interactions_subnetworks/synapse_inters_option_4.tsv 0.02 0.31 > ../output/run_clixo/option4/string_synapse_interactions_combined_score.clixo_alpha0.02_beta0.31.txt\n",
      "Running: /gpfs/data01/glasslab/home/joreyna/projects/BNFO286/clixo_0.3/clixo ../output/extracting_string_interactions_subnetworks/synapse_inters_option_4.tsv 0.02 0.32 > ../output/run_clixo/option4/string_synapse_interactions_combined_score.clixo_alpha0.02_beta0.32.txt\n",
      "Running: /gpfs/data01/glasslab/home/joreyna/projects/BNFO286/clixo_0.3/clixo ../output/extracting_string_interactions_subnetworks/synapse_inters_option_4.tsv 0.02 0.33 > ../output/run_clixo/option4/string_synapse_interactions_combined_score.clixo_alpha0.02_beta0.33.txt\n",
      "Running: /gpfs/data01/glasslab/home/joreyna/projects/BNFO286/clixo_0.3/clixo ../output/extracting_string_interactions_subnetworks/synapse_inters_option_4.tsv 0.02 0.34 > ../output/run_clixo/option4/string_synapse_interactions_combined_score.clixo_alpha0.02_beta0.34.txt\n",
      "Running: /gpfs/data01/glasslab/home/joreyna/projects/BNFO286/clixo_0.3/clixo ../output/extracting_string_interactions_subnetworks/synapse_inters_option_4.tsv 0.02 0.35 > ../output/run_clixo/option4/string_synapse_interactions_combined_score.clixo_alpha0.02_beta0.35.txt\n",
      "Running: /gpfs/data01/glasslab/home/joreyna/projects/BNFO286/clixo_0.3/clixo ../output/extracting_string_interactions_subnetworks/synapse_inters_option_4.tsv 0.02 0.36 > ../output/run_clixo/option4/string_synapse_interactions_combined_score.clixo_alpha0.02_beta0.36.txt\n",
      "Running: /gpfs/data01/glasslab/home/joreyna/projects/BNFO286/clixo_0.3/clixo ../output/extracting_string_interactions_subnetworks/synapse_inters_option_4.tsv 0.02 0.37 > ../output/run_clixo/option4/string_synapse_interactions_combined_score.clixo_alpha0.02_beta0.37.txt\n",
      "Iteraction number: 2, number of jobs running: 20\n",
      "Running: /gpfs/data01/glasslab/home/joreyna/projects/BNFO286/clixo_0.3/clixo ../output/extracting_string_interactions_subnetworks/synapse_inters_option_4.tsv 0.02 0.38 > ../output/run_clixo/option4/string_synapse_interactions_combined_score.clixo_alpha0.02_beta0.38.txt\n",
      "Running: /gpfs/data01/glasslab/home/joreyna/projects/BNFO286/clixo_0.3/clixo ../output/extracting_string_interactions_subnetworks/synapse_inters_option_4.tsv 0.02 0.39 > ../output/run_clixo/option4/string_synapse_interactions_combined_score.clixo_alpha0.02_beta0.39.txt\n",
      "Running: /gpfs/data01/glasslab/home/joreyna/projects/BNFO286/clixo_0.3/clixo ../output/extracting_string_interactions_subnetworks/synapse_inters_option_4.tsv 0.02 0.40 > ../output/run_clixo/option4/string_synapse_interactions_combined_score.clixo_alpha0.02_beta0.40.txt\n",
      "Running: /gpfs/data01/glasslab/home/joreyna/projects/BNFO286/clixo_0.3/clixo ../output/extracting_string_interactions_subnetworks/synapse_inters_option_4.tsv 0.02 0.41 > ../output/run_clixo/option4/string_synapse_interactions_combined_score.clixo_alpha0.02_beta0.41.txt\n",
      "Running: /gpfs/data01/glasslab/home/joreyna/projects/BNFO286/clixo_0.3/clixo ../output/extracting_string_interactions_subnetworks/synapse_inters_option_4.tsv 0.02 0.42 > ../output/run_clixo/option4/string_synapse_interactions_combined_score.clixo_alpha0.02_beta0.42.txt\n",
      "Running: /gpfs/data01/glasslab/home/joreyna/projects/BNFO286/clixo_0.3/clixo ../output/extracting_string_interactions_subnetworks/synapse_inters_option_4.tsv 0.02 0.43 > ../output/run_clixo/option4/string_synapse_interactions_combined_score.clixo_alpha0.02_beta0.43.txt\n",
      "Running: /gpfs/data01/glasslab/home/joreyna/projects/BNFO286/clixo_0.3/clixo ../output/extracting_string_interactions_subnetworks/synapse_inters_option_4.tsv 0.02 0.44 > ../output/run_clixo/option4/string_synapse_interactions_combined_score.clixo_alpha0.02_beta0.44.txt\n",
      "Running: /gpfs/data01/glasslab/home/joreyna/projects/BNFO286/clixo_0.3/clixo ../output/extracting_string_interactions_subnetworks/synapse_inters_option_4.tsv 0.02 0.45 > ../output/run_clixo/option4/string_synapse_interactions_combined_score.clixo_alpha0.02_beta0.45.txt\n",
      "Running: /gpfs/data01/glasslab/home/joreyna/projects/BNFO286/clixo_0.3/clixo ../output/extracting_string_interactions_subnetworks/synapse_inters_option_4.tsv 0.02 0.46 > ../output/run_clixo/option4/string_synapse_interactions_combined_score.clixo_alpha0.02_beta0.46.txt\n",
      "Running: /gpfs/data01/glasslab/home/joreyna/projects/BNFO286/clixo_0.3/clixo ../output/extracting_string_interactions_subnetworks/synapse_inters_option_4.tsv 0.02 0.47 > ../output/run_clixo/option4/string_synapse_interactions_combined_score.clixo_alpha0.02_beta0.47.txt\n",
      "Running: /gpfs/data01/glasslab/home/joreyna/projects/BNFO286/clixo_0.3/clixo ../output/extracting_string_interactions_subnetworks/synapse_inters_option_4.tsv 0.02 0.48 > ../output/run_clixo/option4/string_synapse_interactions_combined_score.clixo_alpha0.02_beta0.48.txt\n",
      "Running: /gpfs/data01/glasslab/home/joreyna/projects/BNFO286/clixo_0.3/clixo ../output/extracting_string_interactions_subnetworks/synapse_inters_option_4.tsv 0.02 0.49 > ../output/run_clixo/option4/string_synapse_interactions_combined_score.clixo_alpha0.02_beta0.49.txt\n"
     ]
    },
    {
     "name": "stdout",
     "output_type": "stream",
     "text": [
      "Iteraction number: 3, number of jobs running: 20\n",
      "Running: /gpfs/data01/glasslab/home/joreyna/projects/BNFO286/clixo_0.3/clixo ../output/extracting_string_interactions_subnetworks/synapse_inters_option_4.tsv 0.03 0.30 > ../output/run_clixo/option4/string_synapse_interactions_combined_score.clixo_alpha0.03_beta0.30.txt\n",
      "Running: /gpfs/data01/glasslab/home/joreyna/projects/BNFO286/clixo_0.3/clixo ../output/extracting_string_interactions_subnetworks/synapse_inters_option_4.tsv 0.03 0.31 > ../output/run_clixo/option4/string_synapse_interactions_combined_score.clixo_alpha0.03_beta0.31.txt\n",
      "Running: /gpfs/data01/glasslab/home/joreyna/projects/BNFO286/clixo_0.3/clixo ../output/extracting_string_interactions_subnetworks/synapse_inters_option_4.tsv 0.03 0.32 > ../output/run_clixo/option4/string_synapse_interactions_combined_score.clixo_alpha0.03_beta0.32.txt\n",
      "Running: /gpfs/data01/glasslab/home/joreyna/projects/BNFO286/clixo_0.3/clixo ../output/extracting_string_interactions_subnetworks/synapse_inters_option_4.tsv 0.03 0.33 > ../output/run_clixo/option4/string_synapse_interactions_combined_score.clixo_alpha0.03_beta0.33.txt\n",
      "Running: /gpfs/data01/glasslab/home/joreyna/projects/BNFO286/clixo_0.3/clixo ../output/extracting_string_interactions_subnetworks/synapse_inters_option_4.tsv 0.03 0.34 > ../output/run_clixo/option4/string_synapse_interactions_combined_score.clixo_alpha0.03_beta0.34.txt\n",
      "Running: /gpfs/data01/glasslab/home/joreyna/projects/BNFO286/clixo_0.3/clixo ../output/extracting_string_interactions_subnetworks/synapse_inters_option_4.tsv 0.03 0.35 > ../output/run_clixo/option4/string_synapse_interactions_combined_score.clixo_alpha0.03_beta0.35.txt\n",
      "Running: /gpfs/data01/glasslab/home/joreyna/projects/BNFO286/clixo_0.3/clixo ../output/extracting_string_interactions_subnetworks/synapse_inters_option_4.tsv 0.03 0.36 > ../output/run_clixo/option4/string_synapse_interactions_combined_score.clixo_alpha0.03_beta0.36.txt\n",
      "Iteraction number: 4, number of jobs running: 20\n",
      "Running: /gpfs/data01/glasslab/home/joreyna/projects/BNFO286/clixo_0.3/clixo ../output/extracting_string_interactions_subnetworks/synapse_inters_option_4.tsv 0.03 0.37 > ../output/run_clixo/option4/string_synapse_interactions_combined_score.clixo_alpha0.03_beta0.37.txt\n",
      "Running: /gpfs/data01/glasslab/home/joreyna/projects/BNFO286/clixo_0.3/clixo ../output/extracting_string_interactions_subnetworks/synapse_inters_option_4.tsv 0.03 0.38 > ../output/run_clixo/option4/string_synapse_interactions_combined_score.clixo_alpha0.03_beta0.38.txt\n",
      "Running: /gpfs/data01/glasslab/home/joreyna/projects/BNFO286/clixo_0.3/clixo ../output/extracting_string_interactions_subnetworks/synapse_inters_option_4.tsv 0.03 0.39 > ../output/run_clixo/option4/string_synapse_interactions_combined_score.clixo_alpha0.03_beta0.39.txt\n",
      "Running: /gpfs/data01/glasslab/home/joreyna/projects/BNFO286/clixo_0.3/clixo ../output/extracting_string_interactions_subnetworks/synapse_inters_option_4.tsv 0.03 0.40 > ../output/run_clixo/option4/string_synapse_interactions_combined_score.clixo_alpha0.03_beta0.40.txt\n",
      "Running: /gpfs/data01/glasslab/home/joreyna/projects/BNFO286/clixo_0.3/clixo ../output/extracting_string_interactions_subnetworks/synapse_inters_option_4.tsv 0.03 0.41 > ../output/run_clixo/option4/string_synapse_interactions_combined_score.clixo_alpha0.03_beta0.41.txt\n",
      "Iteraction number: 5, number of jobs running: 20\n",
      "Running: /gpfs/data01/glasslab/home/joreyna/projects/BNFO286/clixo_0.3/clixo ../output/extracting_string_interactions_subnetworks/synapse_inters_option_4.tsv 0.03 0.42 > ../output/run_clixo/option4/string_synapse_interactions_combined_score.clixo_alpha0.03_beta0.42.txt\n",
      "Running: /gpfs/data01/glasslab/home/joreyna/projects/BNFO286/clixo_0.3/clixo ../output/extracting_string_interactions_subnetworks/synapse_inters_option_4.tsv 0.03 0.43 > ../output/run_clixo/option4/string_synapse_interactions_combined_score.clixo_alpha0.03_beta0.43.txt\n",
      "Running: /gpfs/data01/glasslab/home/joreyna/projects/BNFO286/clixo_0.3/clixo ../output/extracting_string_interactions_subnetworks/synapse_inters_option_4.tsv 0.03 0.44 > ../output/run_clixo/option4/string_synapse_interactions_combined_score.clixo_alpha0.03_beta0.44.txt\n",
      "Running: /gpfs/data01/glasslab/home/joreyna/projects/BNFO286/clixo_0.3/clixo ../output/extracting_string_interactions_subnetworks/synapse_inters_option_4.tsv 0.03 0.45 > ../output/run_clixo/option4/string_synapse_interactions_combined_score.clixo_alpha0.03_beta0.45.txt\n",
      "Running: /gpfs/data01/glasslab/home/joreyna/projects/BNFO286/clixo_0.3/clixo ../output/extracting_string_interactions_subnetworks/synapse_inters_option_4.tsv 0.03 0.46 > ../output/run_clixo/option4/string_synapse_interactions_combined_score.clixo_alpha0.03_beta0.46.txt\n",
      "Running: /gpfs/data01/glasslab/home/joreyna/projects/BNFO286/clixo_0.3/clixo ../output/extracting_string_interactions_subnetworks/synapse_inters_option_4.tsv 0.03 0.47 > ../output/run_clixo/option4/string_synapse_interactions_combined_score.clixo_alpha0.03_beta0.47.txt\n",
      "Running: /gpfs/data01/glasslab/home/joreyna/projects/BNFO286/clixo_0.3/clixo ../output/extracting_string_interactions_subnetworks/synapse_inters_option_4.tsv 0.03 0.48 > ../output/run_clixo/option4/string_synapse_interactions_combined_score.clixo_alpha0.03_beta0.48.txt\n",
      "Running: /gpfs/data01/glasslab/home/joreyna/projects/BNFO286/clixo_0.3/clixo ../output/extracting_string_interactions_subnetworks/synapse_inters_option_4.tsv 0.03 0.49 > ../output/run_clixo/option4/string_synapse_interactions_combined_score.clixo_alpha0.03_beta0.49.txt\n",
      "Running: /gpfs/data01/glasslab/home/joreyna/projects/BNFO286/clixo_0.3/clixo ../output/extracting_string_interactions_subnetworks/synapse_inters_option_4.tsv 0.04 0.30 > ../output/run_clixo/option4/string_synapse_interactions_combined_score.clixo_alpha0.04_beta0.30.txt\n",
      "Iteraction number: 6, number of jobs running: 20\n",
      "Running: /gpfs/data01/glasslab/home/joreyna/projects/BNFO286/clixo_0.3/clixo ../output/extracting_string_interactions_subnetworks/synapse_inters_option_4.tsv 0.04 0.31 > ../output/run_clixo/option4/string_synapse_interactions_combined_score.clixo_alpha0.04_beta0.31.txt\n",
      "Running: /gpfs/data01/glasslab/home/joreyna/projects/BNFO286/clixo_0.3/clixo ../output/extracting_string_interactions_subnetworks/synapse_inters_option_4.tsv 0.04 0.32 > ../output/run_clixo/option4/string_synapse_interactions_combined_score.clixo_alpha0.04_beta0.32.txt\n",
      "Running: /gpfs/data01/glasslab/home/joreyna/projects/BNFO286/clixo_0.3/clixo ../output/extracting_string_interactions_subnetworks/synapse_inters_option_4.tsv 0.04 0.33 > ../output/run_clixo/option4/string_synapse_interactions_combined_score.clixo_alpha0.04_beta0.33.txt\n",
      "Running: /gpfs/data01/glasslab/home/joreyna/projects/BNFO286/clixo_0.3/clixo ../output/extracting_string_interactions_subnetworks/synapse_inters_option_4.tsv 0.04 0.34 > ../output/run_clixo/option4/string_synapse_interactions_combined_score.clixo_alpha0.04_beta0.34.txt\n",
      "Iteraction number: 7, number of jobs running: 20\n",
      "Running: /gpfs/data01/glasslab/home/joreyna/projects/BNFO286/clixo_0.3/clixo ../output/extracting_string_interactions_subnetworks/synapse_inters_option_4.tsv 0.04 0.35 > ../output/run_clixo/option4/string_synapse_interactions_combined_score.clixo_alpha0.04_beta0.35.txt\n",
      "Running: /gpfs/data01/glasslab/home/joreyna/projects/BNFO286/clixo_0.3/clixo ../output/extracting_string_interactions_subnetworks/synapse_inters_option_4.tsv 0.04 0.36 > ../output/run_clixo/option4/string_synapse_interactions_combined_score.clixo_alpha0.04_beta0.36.txt\n",
      "Running: /gpfs/data01/glasslab/home/joreyna/projects/BNFO286/clixo_0.3/clixo ../output/extracting_string_interactions_subnetworks/synapse_inters_option_4.tsv 0.04 0.37 > ../output/run_clixo/option4/string_synapse_interactions_combined_score.clixo_alpha0.04_beta0.37.txt\n",
      "Running: /gpfs/data01/glasslab/home/joreyna/projects/BNFO286/clixo_0.3/clixo ../output/extracting_string_interactions_subnetworks/synapse_inters_option_4.tsv 0.04 0.38 > ../output/run_clixo/option4/string_synapse_interactions_combined_score.clixo_alpha0.04_beta0.38.txt\n",
      "Running: /gpfs/data01/glasslab/home/joreyna/projects/BNFO286/clixo_0.3/clixo ../output/extracting_string_interactions_subnetworks/synapse_inters_option_4.tsv 0.04 0.39 > ../output/run_clixo/option4/string_synapse_interactions_combined_score.clixo_alpha0.04_beta0.39.txt\n",
      "Running: /gpfs/data01/glasslab/home/joreyna/projects/BNFO286/clixo_0.3/clixo ../output/extracting_string_interactions_subnetworks/synapse_inters_option_4.tsv 0.04 0.40 > ../output/run_clixo/option4/string_synapse_interactions_combined_score.clixo_alpha0.04_beta0.40.txt\n",
      "Running: /gpfs/data01/glasslab/home/joreyna/projects/BNFO286/clixo_0.3/clixo ../output/extracting_string_interactions_subnetworks/synapse_inters_option_4.tsv 0.04 0.41 > ../output/run_clixo/option4/string_synapse_interactions_combined_score.clixo_alpha0.04_beta0.41.txt\n"
     ]
    },
    {
     "name": "stdout",
     "output_type": "stream",
     "text": [
      "Iteraction number: 8, number of jobs running: 20\n",
      "Running: /gpfs/data01/glasslab/home/joreyna/projects/BNFO286/clixo_0.3/clixo ../output/extracting_string_interactions_subnetworks/synapse_inters_option_4.tsv 0.04 0.42 > ../output/run_clixo/option4/string_synapse_interactions_combined_score.clixo_alpha0.04_beta0.42.txt\n",
      "Running: /gpfs/data01/glasslab/home/joreyna/projects/BNFO286/clixo_0.3/clixo ../output/extracting_string_interactions_subnetworks/synapse_inters_option_4.tsv 0.04 0.43 > ../output/run_clixo/option4/string_synapse_interactions_combined_score.clixo_alpha0.04_beta0.43.txt\n",
      "Running: /gpfs/data01/glasslab/home/joreyna/projects/BNFO286/clixo_0.3/clixo ../output/extracting_string_interactions_subnetworks/synapse_inters_option_4.tsv 0.04 0.44 > ../output/run_clixo/option4/string_synapse_interactions_combined_score.clixo_alpha0.04_beta0.44.txt\n",
      "Running: /gpfs/data01/glasslab/home/joreyna/projects/BNFO286/clixo_0.3/clixo ../output/extracting_string_interactions_subnetworks/synapse_inters_option_4.tsv 0.04 0.45 > ../output/run_clixo/option4/string_synapse_interactions_combined_score.clixo_alpha0.04_beta0.45.txt\n",
      "Running: /gpfs/data01/glasslab/home/joreyna/projects/BNFO286/clixo_0.3/clixo ../output/extracting_string_interactions_subnetworks/synapse_inters_option_4.tsv 0.04 0.46 > ../output/run_clixo/option4/string_synapse_interactions_combined_score.clixo_alpha0.04_beta0.46.txt\n",
      "Iteraction number: 9, number of jobs running: 20\n",
      "Running: /gpfs/data01/glasslab/home/joreyna/projects/BNFO286/clixo_0.3/clixo ../output/extracting_string_interactions_subnetworks/synapse_inters_option_4.tsv 0.04 0.47 > ../output/run_clixo/option4/string_synapse_interactions_combined_score.clixo_alpha0.04_beta0.47.txt\n",
      "Running: /gpfs/data01/glasslab/home/joreyna/projects/BNFO286/clixo_0.3/clixo ../output/extracting_string_interactions_subnetworks/synapse_inters_option_4.tsv 0.04 0.48 > ../output/run_clixo/option4/string_synapse_interactions_combined_score.clixo_alpha0.04_beta0.48.txt\n",
      "Running: /gpfs/data01/glasslab/home/joreyna/projects/BNFO286/clixo_0.3/clixo ../output/extracting_string_interactions_subnetworks/synapse_inters_option_4.tsv 0.04 0.49 > ../output/run_clixo/option4/string_synapse_interactions_combined_score.clixo_alpha0.04_beta0.49.txt\n",
      "Iteraction number: 10, number of jobs running: 19\n"
     ]
    },
    {
     "ename": "StopIteration",
     "evalue": "",
     "output_type": "error",
     "traceback": [
      "\u001b[0;31m---------------------------------------------------------------------------\u001b[0m",
      "\u001b[0;31mStopIteration\u001b[0m                             Traceback (most recent call last)",
      "\u001b[0;32m<ipython-input-11-0b812ab64197>\u001b[0m in \u001b[0;36m<module>\u001b[0;34m\u001b[0m\n\u001b[1;32m     25\u001b[0m \u001b[0;34m\u001b[0m\u001b[0m\n\u001b[1;32m     26\u001b[0m         \u001b[0;31m# Pulling the alpha and beta values\u001b[0m\u001b[0;34m\u001b[0m\u001b[0;34m\u001b[0m\u001b[0;34m\u001b[0m\u001b[0m\n\u001b[0;32m---> 27\u001b[0;31m         \u001b[0malpha\u001b[0m\u001b[0;34m,\u001b[0m \u001b[0mbeta\u001b[0m \u001b[0;34m=\u001b[0m \u001b[0mnext\u001b[0m\u001b[0;34m(\u001b[0m\u001b[0mparameters\u001b[0m\u001b[0;34m)\u001b[0m\u001b[0;34m\u001b[0m\u001b[0;34m\u001b[0m\u001b[0m\n\u001b[0m\u001b[1;32m     28\u001b[0m         \u001b[0;31m#print('alpha, beta', alpha, beta)\u001b[0m\u001b[0;34m\u001b[0m\u001b[0;34m\u001b[0m\u001b[0;34m\u001b[0m\u001b[0m\n\u001b[1;32m     29\u001b[0m \u001b[0;34m\u001b[0m\u001b[0m\n",
      "\u001b[0;31mStopIteration\u001b[0m: "
     ]
    }
   ],
   "source": [
    "concurrent_jobs = 20\n",
    "num_loops = 0 \n",
    "while True: \n",
    "    \n",
    "    # Get the status of jobs  \n",
    "    jobs = {job: job.poll() for job in jobs}\n",
    "      \n",
    "    print('Iteraction number: {}, number of jobs running: {}'.\\\n",
    "          format(num_loops, len(jobs)))\n",
    "    \n",
    "    # Remove jobs\n",
    "    job_keys = jobs.keys()\n",
    "    for job_key in list(job_keys):  \n",
    "        status = jobs[job_key]  \n",
    "        # Job is no longer running, remove it \n",
    "        if status != None: \n",
    "            jobs.pop(job_key)      \n",
    "            \n",
    "    # Start new jobs \n",
    "    num_new_jobs = concurrent_jobs - len(jobs)  \n",
    "    \n",
    "    #print('num_new_jobs', num_new_jobs)\n",
    "    \n",
    "    for i in range(num_new_jobs):\n",
    "            \n",
    "        # Pulling the alpha and beta values \n",
    "        alpha, beta = next(parameters)\n",
    "        #print('alpha, beta', alpha, beta)\n",
    "            \n",
    "        # Checking whether there are more parameters to run  \n",
    "        if alpha == None: \n",
    "            break \n",
    "            \n",
    "        # Running CliXo jobs with a new set of parameters\n",
    "        clixo_fn = 'string_synapse_interactions_combined_score'\n",
    "        clixo_fn += '.clixo_alpha{}_beta{}.txt'\n",
    "        clixo_fn = clixo_fn.format(alpha, beta)\n",
    "        clixo_fn = os.path.join(output_dir, clixo_fn)\n",
    "\n",
    "        if not os.path.exists(clixo_fn):\n",
    "            cmd = '{} {} {} {} > {}'.format(clixo_script, \n",
    "                                            interactions_fn, \n",
    "                                            alpha, \n",
    "                                            beta, \n",
    "                                            clixo_fn)\n",
    "            print('Running: {}'.format(cmd))\n",
    "            job = subprocess.Popen(cmd, \n",
    "                                   stderr=subprocess.PIPE, \n",
    "                                   stdout=subprocess.PIPE, \n",
    "                                   shell=True)\n",
    "\n",
    "            # Add the status of the job as running (=None)\n",
    "            jobs[job] = None \n",
    "            \n",
    "    if len(jobs) == concurrent_jobs: \n",
    "        time.sleep(15)\n",
    "    else:\n",
    "        time.sleep(5)\n",
    "        \n",
    "\n",
    "    num_loops+= 1"
   ]
  },
  {
   "cell_type": "code",
   "execution_count": null,
   "metadata": {},
   "outputs": [],
   "source": []
  },
  {
   "cell_type": "code",
   "execution_count": null,
   "metadata": {},
   "outputs": [],
   "source": []
  }
 ],
 "metadata": {
  "kernelspec": {
   "display_name": "Python (DNA Shape)",
   "language": "python",
   "name": "dna_shape"
  },
  "language_info": {
   "codemirror_mode": {
    "name": "ipython",
    "version": 3
   },
   "file_extension": ".py",
   "mimetype": "text/x-python",
   "name": "python",
   "nbconvert_exporter": "python",
   "pygments_lexer": "ipython3",
   "version": "3.7.1"
  }
 },
 "nbformat": 4,
 "nbformat_minor": 2
}
