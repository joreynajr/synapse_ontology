{
 "cells": [
  {
   "cell_type": "code",
   "execution_count": 2,
   "metadata": {},
   "outputs": [],
   "source": [
    "#for questions: karenmei@ucsd.edu\n",
    "\n",
    "#Goal: To evaluate the custom hierarchy: #Metric 1\n",
    "#\t   Metric #1: How well does the model capture novel synapse proteins? (some of which have been recently uncovered by our collaborators using AP/MS/MS)\n",
    "\n",
    "#\t   code for customizing ontologies: DDOT: https://github.com/michaelkyu/ddot/blob/master/examples/Tutorial.ipynb\n",
    "\n",
    "\n",
    "\n",
    "import numpy as np\n",
    "from igraph import *\n",
    "import pandas as pd\n",
    "import sys\n",
    "\n",
    "import sys\n",
    "sys.path.append('C:\\\\Users\\\\Anubhav\\\\Documents\\\\GitHub\\\\ddot')\n",
    "\n",
    "import ddot\n",
    "from ddot import Ontology\n",
    "import matplotlib\n",
    "matplotlib.use(\"TKAgg\")\n",
    "#print(matplotlib.get_backend())\n",
    "from matplotlib import pyplot as plt\n",
    "import networkx as nx\n",
    "import csv\n",
    "import scipy.stats as ss\n",
    "from scipy.stats import hypergeom\n",
    "from statsmodels.sandbox.stats.multicomp import multipletests\n",
    "\n",
    "os.environ['KMP_DUPLICATE_LIB_OK']='True'"
   ]
  },
  {
   "cell_type": "code",
   "execution_count": 3,
   "metadata": {},
   "outputs": [],
   "source": [
    "def jaccard(a, b):\n",
    "\ts1=set(a)\n",
    "\ts2=set(b)\n",
    "\treturn len(s1.intersection(s2)) / len(s1.union(s2))\n",
    "\n",
    "\n",
    "def metric_1(ont_file, test_gene_list):\n",
    "\tont1=Ontology.from_table(ont_file)\n",
    "\tont1_genes=ont1.genes\n",
    "\ttest_recovery=jaccard(ont1_genes, test_gene_list)\n",
    "\tprint ('recovery of test genes:', test_recovery)\n",
    "\treturn test_recovery"
   ]
  },
  {
   "cell_type": "code",
   "execution_count": 4,
   "metadata": {},
   "outputs": [
    {
     "name": "stdout",
     "output_type": "stream",
     "text": [
      "recovery of test genes: 0.625\n",
      "0.625\n"
     ]
    },
    {
     "name": "stderr",
     "output_type": "stream",
     "text": [
      "C:\\Users\\Anubhav\\Documents\\GitHub\\ddot\\ddot\\Ontology.py:1606: FutureWarning: read_table is deprecated, use read_csv instead, passing sep='\\t'.\n",
      "  table = pd.read_table(table, comment='#', header=header)\n"
     ]
    }
   ],
   "source": [
    "#toy example ontology file:\n",
    "ont_file='toy_ontology.txt'\n",
    "\n",
    "#test_gene_list for toy ontology:\n",
    "test_gene_list=['A', 'B', 'C', 'D', 'E']\n",
    "\n",
    "\n",
    "print (metric_1(ont_file, test_gene_list))\n",
    "\n"
   ]
  },
  {
   "cell_type": "code",
   "execution_count": 1,
   "metadata": {},
   "outputs": [
    {
     "ename": "NameError",
     "evalue": "name 'Ontology' is not defined",
     "output_type": "error",
     "traceback": [
      "\u001b[1;31m---------------------------------------------------------------------------\u001b[0m",
      "\u001b[1;31mNameError\u001b[0m                                 Traceback (most recent call last)",
      "\u001b[1;32m<ipython-input-1-3708415982cc>\u001b[0m in \u001b[0;36m<module>\u001b[1;34m\u001b[0m\n\u001b[0;32m      8\u001b[0m \u001b[1;33m\u001b[0m\u001b[0m\n\u001b[0;32m      9\u001b[0m \u001b[1;31m#Generate custom ontology from Chromatin branch from human GO\u001b[0m\u001b[1;33m\u001b[0m\u001b[1;33m\u001b[0m\u001b[1;33m\u001b[0m\u001b[0m\n\u001b[1;32m---> 10\u001b[1;33m \u001b[0mchr_ont\u001b[0m\u001b[1;33m=\u001b[0m\u001b[0mGenerate_Ontology_File\u001b[0m\u001b[1;33m(\u001b[0m\u001b[1;34m'GO:0000785'\u001b[0m\u001b[1;33m,\u001b[0m \u001b[1;34m'ont1.txt'\u001b[0m\u001b[1;33m)\u001b[0m\u001b[1;33m\u001b[0m\u001b[1;33m\u001b[0m\u001b[0m\n\u001b[0m\u001b[0;32m     11\u001b[0m \u001b[0mont_file\u001b[0m\u001b[1;33m=\u001b[0m\u001b[1;34m'ont1.txt'\u001b[0m\u001b[1;33m\u001b[0m\u001b[1;33m\u001b[0m\u001b[0m\n\u001b[0;32m     12\u001b[0m \u001b[1;33m\u001b[0m\u001b[0m\n",
      "\u001b[1;32m<ipython-input-1-3708415982cc>\u001b[0m in \u001b[0;36mGenerate_Ontology_File\u001b[1;34m(Term, file_name)\u001b[0m\n\u001b[0;32m      2\u001b[0m \u001b[1;32mdef\u001b[0m \u001b[0mGenerate_Ontology_File\u001b[0m\u001b[1;33m(\u001b[0m\u001b[0mTerm\u001b[0m\u001b[1;33m,\u001b[0m \u001b[0mfile_name\u001b[0m\u001b[1;33m)\u001b[0m\u001b[1;33m:\u001b[0m\u001b[1;33m\u001b[0m\u001b[1;33m\u001b[0m\u001b[0m\n\u001b[0;32m      3\u001b[0m         \u001b[0mndex_server\u001b[0m \u001b[1;33m=\u001b[0m\u001b[1;34m'http://public.ndexbio.org'\u001b[0m\u001b[1;33m\u001b[0m\u001b[1;33m\u001b[0m\u001b[0m\n\u001b[1;32m----> 4\u001b[1;33m         \u001b[0mgo_human\u001b[0m \u001b[1;33m=\u001b[0m \u001b[0mOntology\u001b[0m\u001b[1;33m.\u001b[0m\u001b[0mfrom_ndex\u001b[0m\u001b[1;33m(\u001b[0m\u001b[1;34m'http://public.ndexbio.org/v2/network/16565851-4bfc-11e9-9f06-0ac135e8bacf'\u001b[0m\u001b[1;33m)\u001b[0m\u001b[1;33m\u001b[0m\u001b[1;33m\u001b[0m\u001b[0m\n\u001b[0m\u001b[0;32m      5\u001b[0m         \u001b[0mont\u001b[0m\u001b[1;33m=\u001b[0m \u001b[0mgo_human\u001b[0m\u001b[1;33m.\u001b[0m\u001b[0mfocus\u001b[0m\u001b[1;33m(\u001b[0m\u001b[0mTerm\u001b[0m\u001b[1;33m)\u001b[0m\u001b[1;33m\u001b[0m\u001b[1;33m\u001b[0m\u001b[0m\n\u001b[0;32m      6\u001b[0m         \u001b[0mont\u001b[0m\u001b[1;33m.\u001b[0m\u001b[0mto_table\u001b[0m\u001b[1;33m(\u001b[0m\u001b[0mfile_name\u001b[0m\u001b[1;33m)\u001b[0m\u001b[1;33m\u001b[0m\u001b[1;33m\u001b[0m\u001b[0m\n",
      "\u001b[1;31mNameError\u001b[0m: name 'Ontology' is not defined"
     ]
    }
   ],
   "source": [
    "#Generate custom ontology file\n",
    "def Generate_Ontology_File(Term, file_name):\n",
    "\tndex_server ='http://public.ndexbio.org' \n",
    "\tgo_human = Ontology.from_ndex('http://public.ndexbio.org/v2/network/16565851-4bfc-11e9-9f06-0ac135e8bacf')\n",
    "\tont= go_human.focus(Term)\n",
    "\tont.to_table(file_name)\n",
    "\treturn ont\n",
    "\n",
    "#Generate custom ontology from Chromatin branch from human GO\n",
    "chr_ont=Generate_Ontology_File('GO:0000785', 'ont1.txt')\n",
    "ont_file='ont1.txt'\n",
    "\n",
    "#test_gene_list for chromatin GO:\n",
    "test_gene_list=['ANKRD17', 'ANKRD2', 'ANP32E', 'APTX', 'AR', 'ARID1A', 'ARID1B', 'ARRB1']\n",
    "\n",
    "\n",
    "print (metric_1(ont_file, test_gene_list))"
   ]
  }
 ],
 "metadata": {
  "kernelspec": {
   "display_name": "Python 3",
   "language": "python",
   "name": "python3"
  },
  "language_info": {
   "codemirror_mode": {
    "name": "ipython",
    "version": 3
   },
   "file_extension": ".py",
   "mimetype": "text/x-python",
   "name": "python",
   "nbconvert_exporter": "python",
   "pygments_lexer": "ipython3",
   "version": "3.7.3"
  }
 },
 "nbformat": 4,
 "nbformat_minor": 2
}
