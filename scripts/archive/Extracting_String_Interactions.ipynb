{
 "cells": [
  {
   "cell_type": "code",
   "execution_count": 3,
   "metadata": {},
   "outputs": [],
   "source": [
    "import pandas as pd \n",
    "from matplotlib import pyplot as plt \n",
    "%matplotlib inline \n",
    "import matplotlib_venn\n",
    "import re \n",
    "import numpy as np \n",
    "import glob\n",
    "import gzip \n",
    "\n",
    "import os \n",
    "output_dir = '../output/extracting_string_interactions/'\n",
    "if not os.path.exists(output_dir): os.makedirs(output_dir)"
   ]
  },
  {
   "cell_type": "markdown",
   "metadata": {},
   "source": [
    "## Loading protein information from StringDB"
   ]
  },
  {
   "cell_type": "code",
   "execution_count": 4,
   "metadata": {},
   "outputs": [],
   "source": [
    "prot_fn = '../data/StringDB/9606.protein.info.v11.0.txt'\n",
    "prot_data = {}\n",
    "stringbd_synapse_genes = set()\n",
    "with open(prot_fn) as f: \n",
    "    next(f)\n",
    "    for line in f: \n",
    "        gene_id, gene_name, prot_size, anno = line.strip().split('\\t') \n",
    "        synapse_anno = True if re.search('[Ss]ynap', anno) else False\n",
    "        if synapse_anno: \n",
    "            stringbd_synapse_genes.add(gene_name)\n",
    "        prot_data[gene_id] = [gene_name, prot_size, anno]"
   ]
  },
  {
   "cell_type": "markdown",
   "metadata": {},
   "source": [
    "## Loading synapse gene data"
   ]
  },
  {
   "cell_type": "code",
   "execution_count": 5,
   "metadata": {},
   "outputs": [],
   "source": [
    "synapse_fn = '../data/synapse_genes.txt'\n",
    "with open(synapse_fn) as f:\n",
    "    synapse_genes = set([x.strip() for x in f])"
   ]
  },
  {
   "cell_type": "code",
   "execution_count": 62,
   "metadata": {},
   "outputs": [
    {
     "data": {
      "text/plain": [
       "1296"
      ]
     },
     "execution_count": 62,
     "metadata": {},
     "output_type": "execute_result"
    }
   ],
   "source": [
    "len(synapse_genes)"
   ]
  },
  {
   "cell_type": "markdown",
   "metadata": {},
   "source": [
    "## Loading OMIM gene data "
   ]
  },
  {
   "cell_type": "code",
   "execution_count": 6,
   "metadata": {},
   "outputs": [],
   "source": [
    "omim_fns = glob.glob('../output/omim_psychiatric_disease_genes/*')\n",
    "omim_diease_genes = []\n",
    "for fn in omim_fns:\n",
    "    with open(fn) as f:\n",
    "        genes = [x.strip() for x in f.readlines()]\n",
    "        omim_diease_genes.extend(genes)"
   ]
  },
  {
   "cell_type": "code",
   "execution_count": 61,
   "metadata": {},
   "outputs": [
    {
     "data": {
      "text/plain": [
       "193"
      ]
     },
     "execution_count": 61,
     "metadata": {},
     "output_type": "execute_result"
    }
   ],
   "source": [
    "len(omim_diease_genes)"
   ]
  },
  {
   "cell_type": "code",
   "execution_count": 7,
   "metadata": {},
   "outputs": [],
   "source": [
    "synapse_genes = synapse_genes.union(set(omim_diease_genes))"
   ]
  },
  {
   "cell_type": "markdown",
   "metadata": {},
   "source": [
    "## Analyzing the difference between the synapse gene sets "
   ]
  },
  {
   "cell_type": "code",
   "execution_count": 8,
   "metadata": {},
   "outputs": [],
   "source": [
    "def transform(x, size=18):\n",
    "    text.set_fontsize(size)"
   ]
  },
  {
   "cell_type": "code",
   "execution_count": 83,
   "metadata": {},
   "outputs": [
    {
     "data": {
      "image/png": "[encoded data removed]",
      "text/plain": [
       "<Figure size 648x504 with 1 Axes>"
      ]
     },
     "metadata": {},
     "output_type": "display_data"
    }
   ],
   "source": [
    "#### shared = stringbd_synapse_genes.intersection(synapse_genes)\n",
    "num_shared = len(shared)\n",
    "a = len(synapse_genes) - num_shared\n",
    "b = len(stringbd_synapse_genes) - num_shared\n",
    "ab = len(shared)\n",
    "\n",
    "fig, ax = plt.subplots(figsize=(9,7))\n",
    "v = matplotlib_venn.venn2(subsets=(a, b, ab), \n",
    "          set_labels=['Our class list + OMIM', 'Genes annotated in \\nStringDB with synpase'])\n",
    "\n",
    "text = v.get_label_by_id('01'); transform(text)\n",
    "text = v.get_label_by_id('11'); transform(text)\n",
    "text = v.get_label_by_id('10'); transform(text)\n",
    "text = v.get_label_by_id('A'); transform(text, 24)\n",
    "text = v.get_label_by_id('B'); transform(text, 24)\n",
    "\n",
    "fn = os.path.join(output_dir, 'venn_diagram')\n",
    "fig.savefig(fn, dpi=200)\n"
   ]
  },
  {
   "cell_type": "code",
   "execution_count": 85,
   "metadata": {},
   "outputs": [
    {
     "data": {
      "text/plain": [
       "1460"
      ]
     },
     "execution_count": 85,
     "metadata": {},
     "output_type": "execute_result"
    }
   ],
   "source": [
    "1033 + 263 + 164"
   ]
  },
  {
   "cell_type": "markdown",
   "metadata": {},
   "source": [
    "## Filtering StringDB interactions for synapse genes "
   ]
  },
  {
   "cell_type": "code",
   "execution_count": 10,
   "metadata": {},
   "outputs": [],
   "source": [
    "stringdb_fn = '../data/StringDB/9606.protein.links.full.v11.0.txt.gz'\n",
    "combined_synapse_genes = synapse_genes.union(stringbd_synapse_genes)"
   ]
  },
  {
   "cell_type": "code",
   "execution_count": 65,
   "metadata": {},
   "outputs": [],
   "source": [
    "confidence_score = 0.7\n",
    "synapse_interactions_fn = os.path.join(output_dir, 'string_synapse_interactions_{}.tsv')\n",
    "synapse_interactions_fn = synapse_interactions_fn.format(confidence_score)\n",
    "with gzip.open(stringdb_fn) as fr, open(synapse_interactions_fn, 'w') as fw: \n",
    "    header = next(fr).decode()\n",
    "    for line in fr: \n",
    "        \n",
    "        line = line.decode()\n",
    "        line = line.split()\n",
    "        node1 = line[0]\n",
    "        node2 = line[1]\n",
    "        \n",
    "        node1_name = prot_data[node1][0]\n",
    "        node2_name = prot_data[node2][0]\n",
    "        \n",
    "        #         node, node2, node1_id, node2_id, \\\n",
    "        #         node1_ext_id, node2_ext_id, nbr_on_chrom, gene_fusion, \\\n",
    "        #         phylo_co, homology, coexpression, exp_interaction, \\\n",
    "        #         database_anno, auto_textmine, combined_score = line.split('\\t')\n",
    "        \n",
    "        if node1_name in combined_synapse_genes or \\\n",
    "                node2_name in combined_synapse_genes: \n",
    "                \n",
    "            combined_score = float(line[-1]) / 1000\n",
    "            \n",
    "            if combined_score >= confidence_score: \n",
    "                s = [node1_name, node2_name, combined_score]\n",
    "                s = [str(x) for x in s]\n",
    "                s = '\\t'.join(s) + '\\n'\n",
    "                fw.write(s)\n",
    "        "
   ]
  },
  {
   "cell_type": "markdown",
   "metadata": {},
   "source": [
    "## Investigating the number of genes "
   ]
  },
  {
   "cell_type": "code",
   "execution_count": 74,
   "metadata": {},
   "outputs": [],
   "source": [
    "confidence_score = 0.0\n",
    "synapse_interactions_fn = os.path.join(output_dir, 'string_synapse_interactions_{}.tsv')\n",
    "synapse_interactions_fn = synapse_interactions_fn.format(confidence_score)\n",
    "\n",
    "final_stringdb_genes = set()\n",
    "with open(synapse_interactions_fn, 'r') as f:\n",
    "    \n",
    "    for line in f: \n",
    "        \n",
    "        line = line.split()\n",
    "        node1 = line[0]\n",
    "        node2 = line[1]        \n",
    "        final_stringdb_genes.add(node1)\n",
    "        final_stringdb_genes.add(node2)\n"
   ]
  },
  {
   "cell_type": "code",
   "execution_count": 75,
   "metadata": {},
   "outputs": [
    {
     "name": "stdout",
     "output_type": "stream",
     "text": [
      "Number of genes in the final StringDB sypnase network: 19169\n"
     ]
    }
   ],
   "source": [
    "msg = 'Number of genes in the final StringDB sypnase network: {}'\n",
    "msg = msg.format(len(final_stringdb_genes))\n",
    "print(msg)"
   ]
  },
  {
   "cell_type": "code",
   "execution_count": 76,
   "metadata": {},
   "outputs": [],
   "source": [
    "ab = len(combined_synapse_genes.intersection(final_stringdb_genes))\n",
    "a = len(combined_synapse_genes) - ab\n",
    "b = len(final_stringdb_genes) - ab"
   ]
  },
  {
   "cell_type": "code",
   "execution_count": 77,
   "metadata": {},
   "outputs": [
    {
     "data": {
      "image/png": "[encoded data removed]",
      "text/plain": [
       "<Figure size 432x288 with 1 Axes>"
      ]
     },
     "metadata": {},
     "output_type": "display_data"
    }
   ],
   "source": [
    "v = matplotlib_venn.venn2(subsets=(a, b, ab), set_labels=['Our list', 'StringDB'])\n"
   ]
  },
  {
   "cell_type": "code",
   "execution_count": 82,
   "metadata": {},
   "outputs": [
    {
     "data": {
      "text/plain": [
       "1460"
      ]
     },
     "execution_count": 82,
     "metadata": {},
     "output_type": "execute_result"
    }
   ],
   "source": [
    "172 + 1288"
   ]
  },
  {
   "cell_type": "markdown",
   "metadata": {},
   "source": [
    "## Investigating combined scores "
   ]
  },
  {
   "cell_type": "markdown",
   "metadata": {},
   "source": [
    "## Investigating Ontology "
   ]
  },
  {
   "cell_type": "code",
   "execution_count": 73,
   "metadata": {},
   "outputs": [
    {
     "name": "stdout",
     "output_type": "stream",
     "text": [
      "/gpfs/data01/glasslab/home/joreyna/projects/BNFO286//synapse_ontology/output/run_clixo//string_synapse_interactions_combined_score.clixo_alpha0.0_beta0.4.txt\n"
     ]
    }
   ],
   "source": [
    "%%bash \n",
    "\n",
    "fn=/gpfs/data01/glasslab/home/joreyna/projects/BNFO286/\n",
    "fn=\"$fn/synapse_ontology/output/run_clixo/\"\n",
    "fn=\"$fn/string_synapse_interactions_combined_score.clixo_alpha0.0_beta0.4.txt\"\n",
    "\n",
    "echo $fn\n",
    "\n",
    "\n"
   ]
  },
  {
   "cell_type": "code",
   "execution_count": null,
   "metadata": {},
   "outputs": [],
   "source": []
  },
  {
   "cell_type": "code",
   "execution_count": null,
   "metadata": {},
   "outputs": [],
   "source": []
  },
  {
   "cell_type": "code",
   "execution_count": null,
   "metadata": {},
   "outputs": [],
   "source": []
  },
  {
   "cell_type": "code",
   "execution_count": null,
   "metadata": {},
   "outputs": [],
   "source": []
  },
  {
   "cell_type": "code",
   "execution_count": null,
   "metadata": {},
   "outputs": [],
   "source": []
  }
 ],
 "metadata": {
  "kernelspec": {
   "display_name": "Python (DNA Shape)",
   "language": "python",
   "name": "dna_shape"
  },
  "language_info": {
   "codemirror_mode": {
    "name": "ipython",
    "version": 3
   },
   "file_extension": ".py",
   "mimetype": "text/x-python",
   "name": "python",
   "nbconvert_exporter": "python",
   "pygments_lexer": "ipython3",
   "version": "3.7.1"
  }
 },
 "nbformat": 4,
 "nbformat_minor": 2
}
