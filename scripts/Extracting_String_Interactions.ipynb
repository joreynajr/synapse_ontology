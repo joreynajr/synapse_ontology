{
 "cells": [
  {
   "cell_type": "code",
   "execution_count": 15,
   "metadata": {},
   "outputs": [],
   "source": [
    "import pandas as pd \n",
    "from matplotlib import pyplot as plt \n",
    "%matplotlib inline \n",
    "import matplotlib_venn\n",
    "import re \n"
   ]
  },
  {
   "cell_type": "markdown",
   "metadata": {},
   "source": [
    "## Loading Protein information "
   ]
  },
  {
   "cell_type": "code",
   "execution_count": 8,
   "metadata": {},
   "outputs": [],
   "source": [
    "prot_fn = '../data/StringDB/9606.protein.info.v11.0.txt'"
   ]
  },
  {
   "cell_type": "code",
   "execution_count": 49,
   "metadata": {},
   "outputs": [],
   "source": [
    "prot_data = {}\n",
    "stringbd_synapse_genes = set()\n",
    "with open(prot_fn) as f: \n",
    "    next(f)\n",
    "    for line in f: \n",
    "        gene_id, gene_name, prot_size, anno = line.strip().split('\\t') \n",
    "        synapse_anno = True if re.search('[Ss]ynap', anno) else False\n",
    "        if synapse_anno: \n",
    "            stringbd_synapse_genes.add(gene_name)\n",
    "        prot_data[gene_id] = [gene_name, prot_size, anno]"
   ]
  },
  {
   "cell_type": "markdown",
   "metadata": {},
   "source": [
    "## Loading synapse gene data"
   ]
  },
  {
   "cell_type": "code",
   "execution_count": 27,
   "metadata": {},
   "outputs": [],
   "source": [
    "synapse_fn = '../data/synapse_genes.txt'\n",
    "with open(synapse_fn) as f:\n",
    "    synapse_genes = set([x.strip() for x in f])"
   ]
  },
  {
   "cell_type": "markdown",
   "metadata": {},
   "source": [
    "## Analyzing the difference between the synapse gene sets "
   ]
  },
  {
   "cell_type": "code",
   "execution_count": 32,
   "metadata": {},
   "outputs": [
    {
     "data": {
      "text/plain": [
       "<matplotlib_venn._common.VennDiagram at 0x7ff2c238e780>"
      ]
     },
     "execution_count": 32,
     "metadata": {},
     "output_type": "execute_result"
    },
    {
     "data": {
      "image/png": "[encoded data removed]",
      "text/plain": [
       "<Figure size 576x432 with 1 Axes>"
      ]
     },
     "metadata": {},
     "output_type": "display_data"
    }
   ],
   "source": [
    "shared = stringbd_synapse_genes.intersection(synapse_genes)\n",
    "num_shared = len(shared)\n",
    "a = len(synapse_genes) - num_shared\n",
    "b = len(stringbd_synapse_genes) - num_shared\n",
    "ab = len(shared)\n",
    "\n",
    "fig, ax = plt.subplots(figsize=(8,6))\n",
    "matplotlib_venn.venn2(subsets=(a, b, ab), set_labels=['Our list', 'StringDB'])"
   ]
  },
  {
   "cell_type": "markdown",
   "metadata": {},
   "source": [
    "## Filtering StringDB interactions for synapse genes "
   ]
  },
  {
   "cell_type": "code",
   "execution_count": 36,
   "metadata": {},
   "outputs": [],
   "source": [
    "stringdb_fn = '../data/StringDB/string_interactions.tsv'\n",
    "combined_synapse_genes = synapse_genes.union(stringbd_synapse_genes)"
   ]
  },
  {
   "cell_type": "code",
   "execution_count": 52,
   "metadata": {},
   "outputs": [],
   "source": [
    "synapse_interactions_fn = '../output/StringDB/string_synapse_interactions.tsv'\n",
    "with open(stringdb_fn) as fr, open(synapse_interactions_fn, 'w') as fw: \n",
    "    next(fr)\n",
    "    for line in fr: \n",
    "        node, node2, node1_id, node2_id, \\\n",
    "        node1_ext_id, node2_ext_id, nbr_on_chrom, gene_fusion, \\\n",
    "        phylo_co, homology, coexpression, exp_interaction, \\\n",
    "        database_anno, auto_textmine, combined_score = line.split('\\t')\n",
    "        \n",
    "        if node in combined_synapse_genes: \n",
    "            fw.write(line)\n",
    "        \n",
    "        elif node2 in combined_synapse_genes:\n",
    "            fw.write(line)"
   ]
  },
  {
   "cell_type": "code",
   "execution_count": null,
   "metadata": {},
   "outputs": [],
   "source": []
  },
  {
   "cell_type": "code",
   "execution_count": null,
   "metadata": {},
   "outputs": [],
   "source": []
  },
  {
   "cell_type": "code",
   "execution_count": null,
   "metadata": {},
   "outputs": [],
   "source": []
  },
  {
   "cell_type": "code",
   "execution_count": null,
   "metadata": {},
   "outputs": [],
   "source": []
  },
  {
   "cell_type": "code",
   "execution_count": null,
   "metadata": {},
   "outputs": [],
   "source": []
  },
  {
   "cell_type": "code",
   "execution_count": null,
   "metadata": {},
   "outputs": [],
   "source": []
  }
 ],
 "metadata": {
  "kernelspec": {
   "display_name": "tf_binding_model",
   "language": "python",
   "name": "tf_binding_model"
  },
  "language_info": {
   "codemirror_mode": {
    "name": "ipython",
    "version": 3
   },
   "file_extension": ".py",
   "mimetype": "text/x-python",
   "name": "python",
   "nbconvert_exporter": "python",
   "pygments_lexer": "ipython3",
   "version": "3.7.1"
  }
 },
 "nbformat": 4,
 "nbformat_minor": 2
}
