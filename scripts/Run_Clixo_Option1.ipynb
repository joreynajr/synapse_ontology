{
 "cells": [
  {
   "cell_type": "code",
   "execution_count": 138,
   "metadata": {},
   "outputs": [],
   "source": [
    "import sys \n",
    "import os\n",
    "import subprocess\n",
    "import numpy as np \n",
    "import time\n",
    "from itertools import product \n",
    "\n",
    "option = 1 \n",
    "output_dir = '../output/run_clixo/option{}'.format(option); \n",
    "if not os.path.exists(output_dir): os.makedirs(output_dir)\n",
    "stringdb_dir = '../output/extracting_string_interactions_subnetworks/'"
   ]
  },
  {
   "cell_type": "code",
   "execution_count": 135,
   "metadata": {},
   "outputs": [
    {
     "data": {
      "text/plain": [
       "'../output/extracting_string_interactions_subnetworks/synapse_inters_option_1.tsv'"
      ]
     },
     "execution_count": 135,
     "metadata": {},
     "output_type": "execute_result"
    }
   ],
   "source": [
    "# Obtaining the clixo program \n",
    "#clixo_script='/mnt/c/Users/Anubhav/Desktop/mhk7-clixo_0.3-0362bea/mhk7-clixo_0.3-0362bea/clixo'\n",
    "clixo_script = '/gpfs/data01/glasslab/home/joreyna/projects/BNFO286/clixo_0.3/clixo'\n",
    "\n",
    "# Listing the string interactions file\n",
    "confidence = 0.4\n",
    "interactions_fn = os.path.join(stringdb_dir, 'synapse_inters_option_{}.tsv')\n",
    "interactions_fn = interactions_fn.format(option)\n",
    "interactions_fn "
   ]
  },
  {
   "cell_type": "markdown",
   "metadata": {},
   "source": [
    "## Code to run a single parameter set \n"
   ]
  },
  {
   "cell_type": "code",
   "execution_count": 137,
   "metadata": {},
   "outputs": [
    {
     "name": "stdout",
     "output_type": "stream",
     "text": [
      "Running: /gpfs/data01/glasslab/home/joreyna/projects/BNFO286/clixo_0.3/clixo ../output/extracting_string_interactions_subnetworks/synapse_inters_option_1.tsv 0.21 0.71 > ../output/run_clixo/string_synapse_interactions_combined_score.clixo_alpha0.21_beta0.71.txt\n",
      "\n",
      "\n"
     ]
    }
   ],
   "source": [
    "alpha = 0.21\n",
    "beta = 0.71\n",
    "\n",
    "# Naming the clixo output (can change if you need)\n",
    "clixo_fn = os.path.join(output_dir, \n",
    "    'string_synapse_interactions_combined_score.clixo_alpha{}_beta{}.txt'.format(alpha, beta))\n",
    "cmd = '{} {} {} {} > {}'.format(clixo_script, interactions_fn, alpha, beta, clixo_fn)\n",
    "print('Running: {}'.format(cmd))\n",
    "\n",
    "if not os.path.exists(clixo_fn): \n",
    "    sp = subprocess.Popen(cmd, stderr=subprocess.PIPE, stdout=subprocess.PIPE, shell=True)\n",
    "    msgs = sp.communicate()\n",
    "    print('\\n'.join([x.decode() for x in msgs]))"
   ]
  },
  {
   "cell_type": "markdown",
   "metadata": {},
   "source": [
    "### Testing different values of alpha and beta"
   ]
  },
  {
   "cell_type": "code",
   "execution_count": 98,
   "metadata": {},
   "outputs": [],
   "source": [
    "def get_alpha_beta(l):\n",
    "    \"\"\"\n",
    "    Yield function to get the correct alpha and beta names.\n",
    "    \n",
    "    \"\"\"\n",
    "    for x in l: \n",
    "        alpha = '{:.1f}'.format(x[0])\n",
    "        beta =  '{:.1f}'.format(x[1])\n",
    "        yield((alpha, beta))\n",
    "        \n",
    "    yield(None, None)"
   ]
  },
  {
   "cell_type": "code",
   "execution_count": 120,
   "metadata": {},
   "outputs": [],
   "source": [
    "# Gathering all the \n",
    "parameters = product(np.arange(0, 1.1, 0.1), np.arange(0, 1.1, 0.1))\n",
    "parameters = get_alpha_beta(parameters)\n",
    "\n",
    "jobs = {}"
   ]
  },
  {
   "cell_type": "code",
   "execution_count": null,
   "metadata": {},
   "outputs": [
    {
     "name": "stdout",
     "output_type": "stream",
     "text": [
      "Running: /gpfs/data01/glasslab/home/joreyna/projects/BNFO286/clixo_0.3/clixo ../output/extracting_string_interactions/string_synapse_interactions.tsv 0.0 1.0 > ../output/run_clixo/string_synapse_interactions_combined_score.clixo_alpha0.0_beta1.0.txt\n",
      "Iteraction number: 0, number of jobs running: 10\n",
      "Iteraction number: 1, number of jobs running: 10\n",
      "Iteraction number: 2, number of jobs running: 10\n",
      "Iteraction number: 3, number of jobs running: 10\n",
      "Iteraction number: 4, number of jobs running: 10\n",
      "Iteraction number: 5, number of jobs running: 10\n",
      "Iteraction number: 6, number of jobs running: 10\n",
      "Iteraction number: 7, number of jobs running: 10\n",
      "Iteraction number: 8, number of jobs running: 10\n",
      "Iteraction number: 9, number of jobs running: 10\n",
      "Running: /gpfs/data01/glasslab/home/joreyna/projects/BNFO286/clixo_0.3/clixo ../output/extracting_string_interactions/string_synapse_interactions.tsv 0.1 0.0 > ../output/run_clixo/string_synapse_interactions_combined_score.clixo_alpha0.1_beta0.0.txt\n",
      "Iteraction number: 10, number of jobs running: 10\n",
      "Iteraction number: 11, number of jobs running: 10\n",
      "Iteraction number: 12, number of jobs running: 10\n",
      "Iteraction number: 13, number of jobs running: 10\n",
      "Iteraction number: 14, number of jobs running: 10\n"
     ]
    }
   ],
   "source": [
    "concurrent_jobs = 10\n",
    "num_loops = 0 \n",
    "while True: \n",
    "    \n",
    "    # Get the status of jobs  \n",
    "    jobs = {job: job.poll() for job in jobs}\n",
    "            \n",
    "    # Remove jobs\n",
    "    job_keys = jobs.keys()\n",
    "    for job_key in list(job_keys):  \n",
    "        status = jobs[job_key]  \n",
    "        # Job is no longer running, remove it \n",
    "        if status != None: \n",
    "            jobs.pop(job_key)      \n",
    "            \n",
    "    # Start new jobs \n",
    "    num_new_jobs = concurrent_jobs - len(jobs)  \n",
    "    \n",
    "    #print('num_new_jobs', num_new_jobs)\n",
    "    \n",
    "    for i in range(num_new_jobs):\n",
    "            \n",
    "        # Pulling the alpha and beta values \n",
    "        alpha, beta = next(parameters)\n",
    "        #print('alpha, beta', alpha, beta)\n",
    "            \n",
    "        # Checking whether there are more parameters to run  \n",
    "        if alpha == None: \n",
    "            break \n",
    "            \n",
    "        # Running CliXo jobs with a new set of parameters\n",
    "        clixo_fn = 'string_synapse_interactions_combined_score'\n",
    "        clixo_fn += '.clixo_alpha{}_beta{}.txt'\n",
    "        clixo_fn = clixo_fn.format(alpha, beta)\n",
    "        clixo_fn = os.path.join(output_dir, clixo_fn)\n",
    "\n",
    "        if not os.path.exists(clixo_fn):\n",
    "            cmd = '{} {} {} {} > {}'.format(clixo_script, \n",
    "                                            interactions_fn, \n",
    "                                            alpha, \n",
    "                                            beta, \n",
    "                                            clixo_fn)\n",
    "            print('Running: {}'.format(cmd))\n",
    "            job = subprocess.Popen(cmd, \n",
    "                                   stderr=subprocess.PIPE, \n",
    "                                   stdout=subprocess.PIPE, \n",
    "                                   shell=True)\n",
    "\n",
    "            # Add the status of the job as running (=None)\n",
    "            jobs[job] = None \n",
    "            \n",
    "    if len(jobs) == concurrent_jobs: \n",
    "        time.sleep(300)\n",
    "    else:\n",
    "        time.sleep(5)\n",
    "        \n",
    "    print('Iteraction number: {}, number of jobs running: {}'.\\\n",
    "          format(num_loops, len(jobs)))\n",
    "    num_loops+= 1"
   ]
  },
  {
   "cell_type": "code",
   "execution_count": null,
   "metadata": {},
   "outputs": [],
   "source": [
    "2 + 2 "
   ]
  },
  {
   "cell_type": "code",
   "execution_count": null,
   "metadata": {},
   "outputs": [],
   "source": []
  },
  {
   "cell_type": "code",
   "execution_count": null,
   "metadata": {},
   "outputs": [],
   "source": []
  },
  {
   "cell_type": "code",
   "execution_count": null,
   "metadata": {},
   "outputs": [],
   "source": []
  },
  {
   "cell_type": "code",
   "execution_count": null,
   "metadata": {},
   "outputs": [],
   "source": []
  },
  {
   "cell_type": "code",
   "execution_count": null,
   "metadata": {},
   "outputs": [],
   "source": []
  },
  {
   "cell_type": "code",
   "execution_count": null,
   "metadata": {},
   "outputs": [],
   "source": []
  }
 ],
 "metadata": {
  "kernelspec": {
   "display_name": "Python (DNA Shape)",
   "language": "python",
   "name": "dna_shape"
  }
 },
 "nbformat": 4,
 "nbformat_minor": 2
}
