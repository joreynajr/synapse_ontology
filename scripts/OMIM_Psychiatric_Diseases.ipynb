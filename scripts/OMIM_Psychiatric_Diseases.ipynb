{
 "cells": [
  {
   "cell_type": "code",
   "execution_count": 1,
   "metadata": {},
   "outputs": [],
   "source": [
    "import os\n",
    "import re "
   ]
  },
  {
   "cell_type": "code",
   "execution_count": 2,
   "metadata": {},
   "outputs": [],
   "source": [
    "diseases = ['autism', 'schizophrenia', 'bipolar', 'mdd', 'adhd']\n",
    "autism_re = re.compile('[Aa]utism')\n",
    "sczc_re = re.compile('[Ss]chizophrenia')\n",
    "\n",
    "bipo_re = re.compile('([Bb]ipolar)|([Mm]anic)|(Major affective disorder)')\n",
    "\n",
    "depress_re = re.compile('([Mm]ajor depressive disorder)|([Dd]epres)')\n",
    "adhd_re = re.compile('ADHD|([Aa]tte)') \n",
    "regexes = {'autism': autism_re, 'schizophrenia': sczc_re, 'bipolar': bipo_re, \n",
    "           'mdd': depress_re, 'adhd': adhd_re}"
   ]
  },
  {
   "cell_type": "code",
   "execution_count": 3,
   "metadata": {},
   "outputs": [],
   "source": [
    "def search_omim_for_disease(omim_db, disease_fn, regex):\n",
    "    \"\"\"\n",
    "    Search the OMIM database file for the regex pattern. \n",
    "    \n",
    "    \"\"\"\n",
    "    \n",
    "    disease_genes = []\n",
    "    with open(omim_db) as f: \n",
    "        for line in f: \n",
    "\n",
    "            # Skipping the header \n",
    "            if line.startswith('#'):\n",
    "                continue\n",
    "\n",
    "            # Parsing lines with info \n",
    "            phenotype, genes, omim_id, cyto = line.strip().split('\\t')\n",
    "            \n",
    "            # Saving a match \n",
    "            if regex.search(phenotype):\n",
    "                genes = genes.replace(' ', '').split(',')\n",
    "                disease_genes.extend(genes)\n",
    "\n",
    "        disease_genes = sorted(set(disease_genes))\n",
    "\n",
    "    with open(disease_genes_fn, 'w') as fw:\n",
    "        for gene in disease_genes:\n",
    "            fw.write('{}\\n'.format(gene))\n",
    "    "
   ]
  },
  {
   "cell_type": "code",
   "execution_count": 4,
   "metadata": {},
   "outputs": [],
   "source": [
    "omim_db = '/gpfs/data01/glasslab/home/joreyna/projects/BNFO286/synapse_ontology/data/omim/morbidmap.txt'\n",
    "output_dir = '../output/omim_psychiatric_disease_genes/'\n",
    "for disease in diseases:\n",
    "    regex = regexes[disease]\n",
    "    disease_genes_fn = os.path.join(output_dir, '{}.txt'.format(disease))\n",
    "    search_omim_for_disease(omim_db, disease_genes_fn, regex)\n",
    "    "
   ]
  },
  {
   "cell_type": "code",
   "execution_count": null,
   "metadata": {},
   "outputs": [],
   "source": []
  },
  {
   "cell_type": "code",
   "execution_count": null,
   "metadata": {},
   "outputs": [],
   "source": []
  },
  {
   "cell_type": "code",
   "execution_count": null,
   "metadata": {},
   "outputs": [],
   "source": []
  },
  {
   "cell_type": "code",
   "execution_count": null,
   "metadata": {},
   "outputs": [],
   "source": []
  },
  {
   "cell_type": "code",
   "execution_count": null,
   "metadata": {},
   "outputs": [],
   "source": []
  }
 ],
 "metadata": {
  "kernelspec": {
   "display_name": "Python 3",
   "language": "python",
   "name": "python3"
  },
  "language_info": {
   "codemirror_mode": {
    "name": "ipython",
    "version": 3
   },
   "file_extension": ".py",
   "mimetype": "text/x-python",
   "name": "python",
   "nbconvert_exporter": "python",
   "pygments_lexer": "ipython3",
   "version": "3.7.1"
  }
 },
 "nbformat": 4,
 "nbformat_minor": 2
}
