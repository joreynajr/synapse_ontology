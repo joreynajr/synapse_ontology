{
 "cells": [
  {
   "cell_type": "code",
   "execution_count": 123,
   "metadata": {},
   "outputs": [],
   "source": [
    "import pandas as pd \n",
    "from matplotlib import pyplot as plt \n",
    "%matplotlib inline \n",
    "import matplotlib_venn\n",
    "import re \n",
    "import numpy as np \n",
    "import glob\n",
    "import gzip \n",
    "\n",
    "import os \n",
    "output_dir = '../output/extracting_string_interactions_subnetworks/'\n",
    "if not os.path.exists(output_dir): os.makedirs(output_dir)"
   ]
  },
  {
   "cell_type": "markdown",
   "metadata": {},
   "source": [
    "## Loading gene list from class"
   ]
  },
  {
   "cell_type": "code",
   "execution_count": 124,
   "metadata": {},
   "outputs": [],
   "source": [
    "synapse_fn = '../data/synapse_genes.txt'\n",
    "with open(synapse_fn) as f:\n",
    "    class_genes = set([x.strip() for x in f])"
   ]
  },
  {
   "cell_type": "markdown",
   "metadata": {},
   "source": [
    "## Loading gene list from OMIM "
   ]
  },
  {
   "cell_type": "code",
   "execution_count": 125,
   "metadata": {},
   "outputs": [],
   "source": [
    "omim_fns = glob.glob('../output/omim_psychiatric_disease_genes/*')\n",
    "omim_disease_genes = []\n",
    "for fn in omim_fns:\n",
    "    with open(fn) as f:\n",
    "        genes = [x.strip() for x in f.readlines()]\n",
    "        omim_disease_genes.extend(genes)\n",
    "omim_disease_genes = set(omim_disease_genes)\n",
    "#print('\\n'.join(omim_disease_genes))\n",
    "class_plus_omim = class_genes.union(set(omim_disease_genes))"
   ]
  },
  {
   "cell_type": "code",
   "execution_count": 126,
   "metadata": {},
   "outputs": [
    {
     "data": {
      "text/plain": [
       "189"
      ]
     },
     "execution_count": 126,
     "metadata": {},
     "output_type": "execute_result"
    }
   ],
   "source": [
    "len(omim_disease_genes)"
   ]
  },
  {
   "cell_type": "markdown",
   "metadata": {},
   "source": [
    "## Loading gene list from StringDB annotation search "
   ]
  },
  {
   "cell_type": "code",
   "execution_count": 128,
   "metadata": {},
   "outputs": [],
   "source": [
    "prot_fn = '../data/StringDB/9606.protein.info.v11.0.txt'\n",
    "prot_data = {}\n",
    "stringdb_anno_genes = set()\n",
    "with open(prot_fn) as f: \n",
    "    next(f)\n",
    "    for line in f: \n",
    "        gene_id, gene_name, prot_size, anno = line.strip().split('\\t') \n",
    "        synapse_anno = True if re.search('[Ss]ynap', anno) else False\n",
    "        if synapse_anno: \n",
    "            stringdb_anno_genes.add(gene_name)\n",
    "        prot_data[gene_id] = [gene_name, prot_size, anno]"
   ]
  },
  {
   "cell_type": "markdown",
   "metadata": {},
   "source": [
    "## Analyzing the difference between the synapse gene sets "
   ]
  },
  {
   "cell_type": "code",
   "execution_count": 129,
   "metadata": {},
   "outputs": [],
   "source": [
    "num_class_genes = len(class_genes)\n",
    "num_omim_genes = len(omim_disease_genes)\n",
    "num_anno_genes = len(stringdb_anno_genes)\n",
    "\n",
    "# Making a union of all gene lists \n",
    "complete_list = class_genes.union(omim_disease_genes, stringdb_anno_genes)\n",
    "num_complete_list = len(complete_list)\n",
    "\n",
    "# Making a dataframe for visualization \n",
    "complete_list_df = \\\n",
    "    pd.DataFrame([num_class_genes, num_omim_genes, num_anno_genes, num_complete_list])\n",
    "complete_list_df.index = ['class', 'omim', 'anno', 'total']"
   ]
  },
  {
   "cell_type": "code",
   "execution_count": 130,
   "metadata": {},
   "outputs": [
    {
     "data": {
      "text/html": [
       "<div>\n",
       "<style scoped>\n",
       "    .dataframe tbody tr th:only-of-type {\n",
       "        vertical-align: middle;\n",
       "    }\n",
       "\n",
       "    .dataframe tbody tr th {\n",
       "        vertical-align: top;\n",
       "    }\n",
       "\n",
       "    .dataframe thead th {\n",
       "        text-align: right;\n",
       "    }\n",
       "</style>\n",
       "<table border=\"1\" class=\"dataframe\">\n",
       "  <thead>\n",
       "    <tr style=\"text-align: right;\">\n",
       "      <th></th>\n",
       "      <th>0</th>\n",
       "    </tr>\n",
       "  </thead>\n",
       "  <tbody>\n",
       "    <tr>\n",
       "      <th>class</th>\n",
       "      <td>1126</td>\n",
       "    </tr>\n",
       "    <tr>\n",
       "      <th>omim</th>\n",
       "      <td>189</td>\n",
       "    </tr>\n",
       "    <tr>\n",
       "      <th>anno</th>\n",
       "      <td>427</td>\n",
       "    </tr>\n",
       "    <tr>\n",
       "      <th>total</th>\n",
       "      <td>1460</td>\n",
       "    </tr>\n",
       "  </tbody>\n",
       "</table>\n",
       "</div>"
      ],
      "text/plain": [
       "          0\n",
       "class  1126\n",
       "omim    189\n",
       "anno    427\n",
       "total  1460"
      ]
     },
     "execution_count": 130,
     "metadata": {},
     "output_type": "execute_result"
    }
   ],
   "source": [
    "complete_list_df"
   ]
  },
  {
   "cell_type": "markdown",
   "metadata": {},
   "source": [
    "## Filtering StringDB interactions for synapse genes "
   ]
  },
  {
   "cell_type": "code",
   "execution_count": 131,
   "metadata": {},
   "outputs": [],
   "source": [
    "stringdb_fn = '../data/StringDB/9606.protein.links.full.v11.0.txt.gz'"
   ]
  },
  {
   "cell_type": "markdown",
   "metadata": {},
   "source": [
    "### Option 1"
   ]
  },
  {
   "cell_type": "markdown",
   "metadata": {},
   "source": [
    "Make a subnetwork of the 1,460 synpase genes "
   ]
  },
  {
   "cell_type": "code",
   "execution_count": 52,
   "metadata": {},
   "outputs": [],
   "source": [
    "inters_fns = {}"
   ]
  },
  {
   "cell_type": "code",
   "execution_count": 53,
   "metadata": {},
   "outputs": [],
   "source": [
    "option = 1 \n",
    "#confidence_score = 0.9\n",
    "inters_fn = os.path.join(output_dir, 'synapse_inters_option_{}.tsv')\n",
    "inters_fn = inters_fn.format(option)\n",
    "inters_fns[option] = inters_fn\n",
    "\n",
    "with gzip.open(stringdb_fn) as fr, open(inters_fn, 'w') as fw: \n",
    "    header = next(fr).decode()\n",
    "    \n",
    "    for line in fr: \n",
    "        \n",
    "        line = line.decode()\n",
    "        line = line.split()\n",
    "        node1 = line[0]\n",
    "        node2 = line[1]\n",
    "        \n",
    "        node1_name = prot_data[node1][0]\n",
    "        node2_name = prot_data[node2][0]\n",
    "        \n",
    "        if node1_name in complete_list and \\\n",
    "                node2_name in complete_list: \n",
    "                \n",
    "            combined_score = float(line[-1]) / 1000\n",
    "            s = [node1_name, node2_name, combined_score]\n",
    "            s = [str(x) for x in s]\n",
    "            s = '\\t'.join(s) + '\\n'\n",
    "            fw.write(s)"
   ]
  },
  {
   "cell_type": "markdown",
   "metadata": {},
   "source": [
    "### Option 2"
   ]
  },
  {
   "cell_type": "markdown",
   "metadata": {},
   "source": [
    "Make a subnetwork of the 1,460 synpase genes, keep interactions with confidence >= 0.4\n"
   ]
  },
  {
   "cell_type": "code",
   "execution_count": 81,
   "metadata": {},
   "outputs": [],
   "source": [
    "option = 2 \n",
    "confidence_score = 0.4\n",
    "inters_fn = os.path.join(output_dir, 'synapse_inters_option_{}.tsv')\n",
    "inters_fn = inters_fn.format(option)\n",
    "inters_fns[option] = inters_fn\n",
    "\n",
    "with gzip.open(stringdb_fn) as fr, open(inters_fn, 'w') as fw: \n",
    "    header = next(fr).decode()\n",
    "    for line in fr: \n",
    "        \n",
    "        line = line.decode()\n",
    "        line = line.split()\n",
    "        node1 = line[0]\n",
    "        node2 = line[1]\n",
    "        \n",
    "        node1_name = prot_data[node1][0]\n",
    "        node2_name = prot_data[node2][0]\n",
    "        \n",
    "        if node1_name in complete_list and \\\n",
    "                node2_name in complete_list: \n",
    "                \n",
    "            combined_score = float(line[-1]) / 1000\n",
    "            if combined_score >= confidence_score: \n",
    "                s = [node1_name, node2_name, combined_score]\n",
    "                s = [str(x) for x in s]\n",
    "                s = '\\t'.join(s) + '\\n'\n",
    "                fw.write(s)\n",
    "        "
   ]
  },
  {
   "cell_type": "markdown",
   "metadata": {},
   "source": [
    "### Option 3"
   ]
  },
  {
   "cell_type": "markdown",
   "metadata": {},
   "source": [
    "Make a subnetwork of the 1,460 synpase genes, add first order interactions where one gene is a synapse and the other is non-symapse if confidence >= 0.9"
   ]
  },
  {
   "cell_type": "code",
   "execution_count": 97,
   "metadata": {},
   "outputs": [],
   "source": [
    "option = 3\n",
    "confidence_score = 0.999\n",
    "inters_fn = os.path.join(output_dir, 'synapse_inters_option_{}.tsv')\n",
    "inters_fn = inters_fn.format(option)\n",
    "inters_fns[option] = inters_fn\n",
    "\n",
    "with gzip.open(stringdb_fn) as fr, open(inters_fn, 'w') as fw: \n",
    "    header = next(fr).decode()\n",
    "    for line in fr: \n",
    "        \n",
    "        line = line.decode()\n",
    "        line = line.split()\n",
    "        node1 = line[0]\n",
    "        node2 = line[1]\n",
    "        \n",
    "        node1_name = prot_data[node1][0]\n",
    "        node2_name = prot_data[node2][0]\n",
    "        \n",
    "        if node1_name in complete_list and \\\n",
    "                node2_name in complete_list: \n",
    "            combined_score = float(line[-1]) / 1000\n",
    "            s = [node1_name, node2_name, combined_score]\n",
    "            s = [str(x) for x in s]\n",
    "            s = '\\t'.join(s) + '\\n'\n",
    "            fw.write(s)\n",
    "                \n",
    "        elif node1_name in complete_list or \\\n",
    "                node2_name in complete_list: \n",
    "                \n",
    "            combined_score = float(line[-1]) / 1000\n",
    "            if combined_score >= confidence_score: \n",
    "                s = [node1_name, node2_name, combined_score]\n",
    "                s = [str(x) for x in s]\n",
    "                s = '\\t'.join(s) + '\\n'\n",
    "                fw.write(s)\n",
    "        "
   ]
  },
  {
   "cell_type": "markdown",
   "metadata": {},
   "source": [
    "### Option 4\n",
    "\n",
    "Make a subnetwork of the 1,460 synpase genes, keep interactions with confidence >= 0.4. Then addd first order interactions where one gene is a synapse and the other is non-symapse if confidence >= 0.999."
   ]
  },
  {
   "cell_type": "code",
   "execution_count": null,
   "metadata": {},
   "outputs": [],
   "source": [
    "option = 4\n",
    "confidence_score_a = 0.4\n",
    "confidence_score_b = 0.999\n",
    "\n",
    "inters_fn = os.path.join(output_dir, 'synapse_inters_option_{}.tsv')\n",
    "inters_fn = inters_fn.format(option)\n",
    "inters_fns[option] = inters_fn\n",
    "\n",
    "with gzip.open(stringdb_fn) as fr, open(inters_fn, 'w') as fw: \n",
    "    header = next(fr).decode()\n",
    "    for line in fr: \n",
    "        \n",
    "        line = line.decode()\n",
    "        line = line.split()\n",
    "        node1 = line[0]\n",
    "        node2 = line[1]\n",
    "        \n",
    "        node1_name = prot_data[node1][0]\n",
    "        node2_name = prot_data[node2][0]\n",
    "        \n",
    "        if node1_name in complete_list and \\\n",
    "                node2_name in complete_list: \n",
    "            \n",
    "            combined_score = float(line[-1]) / 1000\n",
    "            if combined_score >= confidence_score_a: \n",
    "                s = [node1_name, node2_name, combined_score]\n",
    "                s = [str(x) for x in s]\n",
    "                s = '\\t'.join(s) + '\\n'\n",
    "                fw.write(s)\n",
    "                \n",
    "        elif node1_name in complete_list or \\\n",
    "                node2_name in complete_list: \n",
    "                \n",
    "            combined_score = float(line[-1]) / 1000\n",
    "            if combined_score >= confidence_score_b: \n",
    "                s = [node1_name, node2_name, combined_score]\n",
    "                s = [str(x) for x in s]\n",
    "                s = '\\t'.join(s) + '\\n'\n",
    "                fw.write(s)\n",
    "        "
   ]
  },
  {
   "cell_type": "markdown",
   "metadata": {},
   "source": [
    "## Investigating the number of genes "
   ]
  },
  {
   "cell_type": "code",
   "execution_count": 139,
   "metadata": {},
   "outputs": [],
   "source": [
    "def find_genes_in_interactions_file(fn):\n",
    "    \n",
    "    final_stringdb_genes = set()\n",
    "    with open(fn, 'r') as f:\n",
    "\n",
    "        for line in f: \n",
    "\n",
    "            line = line.split()\n",
    "            node1 = line[0]\n",
    "            node2 = line[1]        \n",
    "            final_stringdb_genes.add(node1)\n",
    "            final_stringdb_genes.add(node2)\n",
    "            \n",
    "    return(final_stringdb_genes)"
   ]
  },
  {
   "cell_type": "code",
   "execution_count": 140,
   "metadata": {},
   "outputs": [],
   "source": [
    "op1 = find_genes_in_interactions_file(inters_fns[1])\n",
    "op2 = find_genes_in_interactions_file(inters_fns[2])\n",
    "op3 = find_genes_in_interactions_file(inters_fns[3])\n",
    "op4 = find_genes_in_interactions_file(inters_fns[4])"
   ]
  },
  {
   "cell_type": "code",
   "execution_count": 144,
   "metadata": {},
   "outputs": [
    {
     "data": {
      "text/plain": [
       "'../output/extracting_string_interactions_subnetworks/synapse_inters_option_4.tsv'"
      ]
     },
     "execution_count": 144,
     "metadata": {},
     "output_type": "execute_result"
    }
   ],
   "source": [
    "inters_fns[4]"
   ]
  },
  {
   "cell_type": "code",
   "execution_count": 143,
   "metadata": {},
   "outputs": [
    {
     "data": {
      "text/plain": [
       "1680"
      ]
     },
     "execution_count": 143,
     "metadata": {},
     "output_type": "execute_result"
    }
   ],
   "source": [
    "len(op4)"
   ]
  },
  {
   "cell_type": "code",
   "execution_count": 141,
   "metadata": {},
   "outputs": [],
   "source": [
    "num_genes_in_ops = [len(op1), len(op2), len(op3), len(op4)]"
   ]
  },
  {
   "cell_type": "code",
   "execution_count": 142,
   "metadata": {},
   "outputs": [
    {
     "name": "stdout",
     "output_type": "stream",
     "text": [
      "Number of genes in ops: 1288, 1283, 1685, 1680\n"
     ]
    }
   ],
   "source": [
    "print('Number of genes in ops:' , ', '.join([str(x) for x in num_genes_in_ops]))"
   ]
  },
  {
   "cell_type": "code",
   "execution_count": 135,
   "metadata": {},
   "outputs": [],
   "source": [
    "def count_file_lines(fn):\n",
    "    with open(fn) as f: \n",
    "        return(len(f.readlines()))"
   ]
  },
  {
   "cell_type": "code",
   "execution_count": 136,
   "metadata": {},
   "outputs": [],
   "source": [
    "num_inters_in_ops = [count_file_lines(inters_fns[i]) for i in range(1, 5)]"
   ]
  },
  {
   "cell_type": "code",
   "execution_count": 137,
   "metadata": {},
   "outputs": [
    {
     "name": "stdout",
     "output_type": "stream",
     "text": [
      "Number of interactions in ops: 251066, 52044, 255340, 56318\n"
     ]
    }
   ],
   "source": [
    "print('Number of interactions in ops:' , ', '.join([str(x) for x in num_inters_in_ops]))"
   ]
  },
  {
   "cell_type": "code",
   "execution_count": 138,
   "metadata": {},
   "outputs": [
    {
     "name": "stdout",
     "output_type": "stream",
     "text": [
      "1098 45 426 426\n"
     ]
    }
   ],
   "source": [
    "print(len(class_genes.intersection(op3)),\n",
    "len(omim_disease_genes.intersection(op3)),\n",
    "len(stringdb_anno_genes.intersection(op3)),\n",
    "len(stringdb_anno_genes.intersection(op3)))"
   ]
  },
  {
   "cell_type": "code",
   "execution_count": null,
   "metadata": {},
   "outputs": [],
   "source": []
  },
  {
   "cell_type": "code",
   "execution_count": null,
   "metadata": {},
   "outputs": [],
   "source": []
  },
  {
   "cell_type": "code",
   "execution_count": null,
   "metadata": {},
   "outputs": [],
   "source": []
  },
  {
   "cell_type": "code",
   "execution_count": null,
   "metadata": {},
   "outputs": [],
   "source": []
  },
  {
   "cell_type": "code",
   "execution_count": null,
   "metadata": {},
   "outputs": [],
   "source": []
  },
  {
   "cell_type": "code",
   "execution_count": null,
   "metadata": {},
   "outputs": [],
   "source": []
  },
  {
   "cell_type": "code",
   "execution_count": null,
   "metadata": {},
   "outputs": [],
   "source": []
  },
  {
   "cell_type": "code",
   "execution_count": null,
   "metadata": {},
   "outputs": [],
   "source": []
  },
  {
   "cell_type": "code",
   "execution_count": null,
   "metadata": {},
   "outputs": [],
   "source": []
  }
 ],
 "metadata": {
  "kernelspec": {
   "display_name": "Python (DNA Shape)",
   "language": "python",
   "name": "dna_shape"
  },
  "language_info": {
   "codemirror_mode": {
    "name": "ipython",
    "version": 3
   },
   "file_extension": ".py",
   "mimetype": "text/x-python",
   "name": "python",
   "nbconvert_exporter": "python",
   "pygments_lexer": "ipython3",
   "version": "3.7.1"
  }
 },
 "nbformat": 4,
 "nbformat_minor": 2
}
