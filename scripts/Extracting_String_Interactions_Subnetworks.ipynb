{
 "cells": [
  {
   "cell_type": "code",
   "execution_count": 1,
   "metadata": {},
   "outputs": [],
   "source": [
    "import pandas as pd \n",
    "from matplotlib import pyplot as plt \n",
    "%matplotlib inline \n",
    "import matplotlib_venn\n",
    "import re \n",
    "import numpy as np \n",
    "import glob\n",
    "import gzip \n",
    "\n",
    "import os \n",
    "output_dir = '../output/extracting_string_interactions_subnetworks/'\n",
    "if not os.path.exists(output_dir): os.makedirs(output_dir)"
   ]
  },
  {
   "cell_type": "markdown",
   "metadata": {},
   "source": [
    "## Loading gene list from class"
   ]
  },
  {
   "cell_type": "code",
   "execution_count": 2,
   "metadata": {},
   "outputs": [],
   "source": [
    "synapse_fn = '../data/synapse_genes.txt'\n",
    "with open(synapse_fn) as f:\n",
    "    class_genes = set([x.strip() for x in f])"
   ]
  },
  {
   "cell_type": "markdown",
   "metadata": {},
   "source": [
    "## Loading gene list from OMIM "
   ]
  },
  {
   "cell_type": "code",
   "execution_count": 34,
   "metadata": {},
   "outputs": [],
   "source": [
    "omim_fns = glob.glob('../output/omim_psychiatric_disease_genes/*')\n",
    "omim_disease_genes = []\n",
    "for fn in omim_fns:\n",
    "    with open(fn) as f:\n",
    "        genes = [x.strip() for x in f.readlines()]\n",
    "        omim_disease_genes.extend(genes)\n",
    "omim_disease_genes = set(omim_disease_genes)\n",
    "#print('\\n'.join(omim_disease_genes))\n",
    "class_plus_omim = class_genes.union(set(omim_disease_genes))"
   ]
  },
  {
   "cell_type": "code",
   "execution_count": 62,
   "metadata": {},
   "outputs": [
    {
     "data": {
      "text/plain": [
       "189"
      ]
     },
     "execution_count": 62,
     "metadata": {},
     "output_type": "execute_result"
    }
   ],
   "source": [
    "len(omim_disease_genes)"
   ]
  },
  {
   "cell_type": "code",
   "execution_count": 61,
   "metadata": {},
   "outputs": [
    {
     "name": "stdout",
     "output_type": "stream",
     "text": [
      "RTN4R\n",
      "ASRT7\n",
      "PRODH2\n",
      "ADHD2\n",
      "PRPH2\n",
      "DRD5\n",
      "3PK\n",
      "PTHSL1\n",
      "CHD8\n",
      "AUTS4\n",
      "RAB11B\n",
      "ARIA\n",
      "MDPT2\n",
      "SCZD4\n",
      "XBP1\n",
      "SCZD14\n",
      "EIF4EL1\n",
      "IDDAS\n",
      "TPH2\n",
      "MAFD1\n",
      "MAFD2\n",
      "CHI3L1\n",
      "SCZD11\n",
      "AUTS15\n",
      "COMT\n",
      "SLC1A1\n",
      "AUTSX3\n",
      "AUTSX5\n",
      "AUTS12\n",
      "EIF2B4\n",
      "MD1\n",
      "NTPH\n",
      "MMAC1\n",
      "DRD3\n",
      "LVWM\n",
      "DEL16p11.2\n",
      "NRXN4\n",
      "XBP2\n",
      "SLC9A9\n",
      "KIAA1260\n",
      "TMLHED\n",
      "MDD2\n",
      "QM\n",
      "MAFD9\n",
      "CWS6\n",
      "TMLH\n",
      "SCZD19\n",
      "RP7\n",
      "BPEO\n",
      "RPL10\n",
      "DUP7q36.3\n",
      "CACD2\n",
      "ADHD3\n",
      "ADHD1\n",
      "FKBP51\n",
      "SHANK3\n",
      "RBM12\n",
      "EAAC1\n",
      "AUTS14A\n",
      "AOFMD\n",
      "PTEN\n",
      "HRGA\n",
      "NRG1\n",
      "LDLCQ3\n",
      "C16DUPq36.3\n",
      "MAFD5\n",
      "APOL2\n",
      "DS\n",
      "KIAA1564\n",
      "PTHSL2\n",
      "LADCI\n",
      "SCZD13\n",
      "SCZD6\n",
      "NDAGSCW\n",
      "C16DUPp11.2\n",
      "DISC1\n",
      "AUTS16\n",
      "AUTSX1\n",
      "SCZD9\n",
      "SCZD2\n",
      "AUTS10\n",
      "SYN2\n",
      "FET1\n",
      "MDBS1\n",
      "SHANK2\n",
      "ADHD5\n",
      "CNTNAP2\n",
      "MRXS35\n",
      "PROSAP2\n",
      "AUTS19\n",
      "EIF4E\n",
      "CORTBP1\n",
      "DISC2\n",
      "GLM2\n",
      "DRD1L2\n",
      "HMGCR\n",
      "BPAD\n",
      "AUTS1\n",
      "DRD1B\n",
      "NLGN4\n",
      "ASPGX2\n",
      "MAPKAP3\n",
      "SCZD15\n",
      "MDPT3\n",
      "DUP16p11.2\n",
      "MAFD6\n",
      "ADHD6\n",
      "MDX\n",
      "SCZD1\n",
      "KIAA0765\n",
      "AUTS17\n",
      "GB5\n",
      "GP39\n",
      "FKBP5\n",
      "EIF2B2\n",
      "MECP2\n",
      "GNB5\n",
      "AUTS6\n",
      "SCZD7\n",
      "TBR1\n",
      "G72\n",
      "AUTSX2\n",
      "MTHFR\n",
      "NRXN1\n",
      "YKL40\n",
      "AUTS18\n",
      "MAFD4\n",
      "AUTS3\n",
      "DAOA\n",
      "EIF2B5\n",
      "ETM1\n",
      "MDD1\n",
      "MRXSL\n",
      "CTNNA1\n",
      "PRPH\n",
      "AKT1\n",
      "CWS1\n",
      "AUTS14B\n",
      "SCZD12\n",
      "AVMD\n",
      "SCZD10\n",
      "C16DELp11.2\n",
      "CDFE\n",
      "PTCHD1\n",
      "AUTS13\n",
      "AUTSX6\n",
      "DRD4\n",
      "ADHD4\n",
      "MAFD3\n",
      "EIF2B3\n",
      "EIF2BA\n",
      "DUPLIN\n",
      "DXS648\n",
      "MRX16\n",
      "RTT\n",
      "PSAP2\n",
      "SCZD5\n",
      "PPMX\n",
      "SCZD8\n",
      "CACH\n",
      "SCZD18\n",
      "DEL22q13.3\n",
      "SCZD17\n",
      "AUTS11\n",
      "CASPR2\n",
      "MRX79\n",
      "MAFD8\n",
      "NOGOR\n",
      "PRODH\n",
      "SCZD3\n",
      "SCZD16\n",
      "ADHD7\n",
      "AUTS7\n",
      "HTR2A\n",
      "NLGN3\n",
      "AUTS8\n",
      "HGL\n",
      "KIAA1650\n",
      "IDDCA\n",
      "MRXS13\n",
      "AUTS9\n",
      "BBOX2\n",
      "EIF2B1\n",
      "ASPGX1\n",
      "AUTSX4\n",
      "DCBXA\n",
      "APOL4\n",
      "CLE\n",
      "TMLHE\n"
     ]
    }
   ],
   "source": [
    "print('\\n'.join(omim_disease_genes))\n"
   ]
  },
  {
   "cell_type": "code",
   "execution_count": null,
   "metadata": {},
   "outputs": [],
   "source": []
  },
  {
   "cell_type": "code",
   "execution_count": null,
   "metadata": {},
   "outputs": [],
   "source": []
  },
  {
   "cell_type": "markdown",
   "metadata": {},
   "source": [
    "## Loading gene list from StringDB annotation search "
   ]
  },
  {
   "cell_type": "code",
   "execution_count": 35,
   "metadata": {},
   "outputs": [],
   "source": [
    "prot_fn = '../data/StringDB/9606.protein.info.v11.0.txt'\n",
    "prot_data = {}\n",
    "stringdb_anno_genes = set()\n",
    "with open(prot_fn) as f: \n",
    "    next(f)\n",
    "    for line in f: \n",
    "        gene_id, gene_name, prot_size, anno = line.strip().split('\\t') \n",
    "        synapse_anno = True if re.search('[Ss]ynap', anno) else False\n",
    "        if synapse_anno: \n",
    "            stringdb_anno_genes.add(gene_name)\n",
    "        prot_data[gene_id] = [gene_name, prot_size, anno]"
   ]
  },
  {
   "cell_type": "markdown",
   "metadata": {},
   "source": [
    "## Analyzing the difference between the synapse gene sets "
   ]
  },
  {
   "cell_type": "code",
   "execution_count": 37,
   "metadata": {},
   "outputs": [],
   "source": [
    "num_class_genes = len(class_genes)\n",
    "num_omim_genes = len(omim_disease_genes)\n",
    "num_anno_genes = len(stringdb_anno_genes)\n",
    "\n",
    "# Making a union of all gene lists \n",
    "complete_list = class_genes.union(omim_disease_genes, stringdb_anno_genes)\n",
    "num_complete_list = len(complete_list)\n",
    "\n",
    "# Making a dataframe for visualization \n",
    "complete_list_df = \\\n",
    "    pd.DataFrame([num_class_genes, num_omim_genes, num_anno_genes, num_complete_list])\n",
    "complete_list_df.index = ['class', 'omim', 'anno', 'total']"
   ]
  },
  {
   "cell_type": "code",
   "execution_count": 38,
   "metadata": {},
   "outputs": [
    {
     "data": {
      "text/html": [
       "<div>\n",
       "<style scoped>\n",
       "    .dataframe tbody tr th:only-of-type {\n",
       "        vertical-align: middle;\n",
       "    }\n",
       "\n",
       "    .dataframe tbody tr th {\n",
       "        vertical-align: top;\n",
       "    }\n",
       "\n",
       "    .dataframe thead th {\n",
       "        text-align: right;\n",
       "    }\n",
       "</style>\n",
       "<table border=\"1\" class=\"dataframe\">\n",
       "  <thead>\n",
       "    <tr style=\"text-align: right;\">\n",
       "      <th></th>\n",
       "      <th>0</th>\n",
       "    </tr>\n",
       "  </thead>\n",
       "  <tbody>\n",
       "    <tr>\n",
       "      <th>class</th>\n",
       "      <td>1126</td>\n",
       "    </tr>\n",
       "    <tr>\n",
       "      <th>omim</th>\n",
       "      <td>189</td>\n",
       "    </tr>\n",
       "    <tr>\n",
       "      <th>anno</th>\n",
       "      <td>427</td>\n",
       "    </tr>\n",
       "    <tr>\n",
       "      <th>total</th>\n",
       "      <td>1460</td>\n",
       "    </tr>\n",
       "  </tbody>\n",
       "</table>\n",
       "</div>"
      ],
      "text/plain": [
       "          0\n",
       "class  1126\n",
       "omim    189\n",
       "anno    427\n",
       "total  1460"
      ]
     },
     "execution_count": 38,
     "metadata": {},
     "output_type": "execute_result"
    }
   ],
   "source": [
    "complete_list_df"
   ]
  },
  {
   "cell_type": "markdown",
   "metadata": {},
   "source": [
    "## Filtering StringDB interactions for synapse genes "
   ]
  },
  {
   "cell_type": "code",
   "execution_count": 51,
   "metadata": {},
   "outputs": [],
   "source": [
    "stringdb_fn = '../data/StringDB/9606.protein.links.full.v11.0.txt.gz'"
   ]
  },
  {
   "cell_type": "markdown",
   "metadata": {},
   "source": [
    "### Option 1"
   ]
  },
  {
   "cell_type": "markdown",
   "metadata": {},
   "source": [
    "Make a subnetwork of the 1,460 synpase genes "
   ]
  },
  {
   "cell_type": "code",
   "execution_count": 52,
   "metadata": {},
   "outputs": [],
   "source": [
    "inters_fns = {}"
   ]
  },
  {
   "cell_type": "code",
   "execution_count": 53,
   "metadata": {},
   "outputs": [],
   "source": [
    "option = 1 \n",
    "#confidence_score = 0.9\n",
    "inters_fn = os.path.join(output_dir, 'synapse_inters_option_{}.tsv')\n",
    "inters_fn = inters_fn.format(option)\n",
    "inters_fns[option] = inters_fn\n",
    "\n",
    "with gzip.open(stringdb_fn) as fr, open(inters_fn, 'w') as fw: \n",
    "    header = next(fr).decode()\n",
    "    \n",
    "    for line in fr: \n",
    "        \n",
    "        line = line.decode()\n",
    "        line = line.split()\n",
    "        node1 = line[0]\n",
    "        node2 = line[1]\n",
    "        \n",
    "        node1_name = prot_data[node1][0]\n",
    "        node2_name = prot_data[node2][0]\n",
    "        \n",
    "        if node1_name in complete_list and \\\n",
    "                node2_name in complete_list: \n",
    "                \n",
    "            combined_score = float(line[-1]) / 1000\n",
    "            s = [node1_name, node2_name, combined_score]\n",
    "            s = [str(x) for x in s]\n",
    "            s = '\\t'.join(s) + '\\n'\n",
    "            fw.write(s)"
   ]
  },
  {
   "cell_type": "markdown",
   "metadata": {},
   "source": [
    "### Option 2"
   ]
  },
  {
   "cell_type": "markdown",
   "metadata": {},
   "source": [
    "Make a subnetwork of the 1,460 synpase genes, keep interactions with confidence >= 0.4\n"
   ]
  },
  {
   "cell_type": "code",
   "execution_count": 81,
   "metadata": {},
   "outputs": [],
   "source": [
    "option = 2 \n",
    "confidence_score = 0.4\n",
    "inters_fn = os.path.join(output_dir, 'synapse_inters_option_{}.tsv')\n",
    "inters_fn = inters_fn.format(option)\n",
    "inters_fns[option] = inters_fn\n",
    "\n",
    "with gzip.open(stringdb_fn) as fr, open(inters_fn, 'w') as fw: \n",
    "    header = next(fr).decode()\n",
    "    for line in fr: \n",
    "        \n",
    "        line = line.decode()\n",
    "        line = line.split()\n",
    "        node1 = line[0]\n",
    "        node2 = line[1]\n",
    "        \n",
    "        node1_name = prot_data[node1][0]\n",
    "        node2_name = prot_data[node2][0]\n",
    "        \n",
    "        if node1_name in complete_list and \\\n",
    "                node2_name in complete_list: \n",
    "                \n",
    "            combined_score = float(line[-1]) / 1000\n",
    "            if combined_score >= confidence_score: \n",
    "                s = [node1_name, node2_name, combined_score]\n",
    "                s = [str(x) for x in s]\n",
    "                s = '\\t'.join(s) + '\\n'\n",
    "                fw.write(s)\n",
    "        "
   ]
  },
  {
   "cell_type": "markdown",
   "metadata": {},
   "source": [
    "### Option 3"
   ]
  },
  {
   "cell_type": "markdown",
   "metadata": {},
   "source": [
    "Make a subnetwork of the 1,460 synpase genes, add first order interactions where one gene is a synapse and the other is non-symapse if confidence >= 0.9"
   ]
  },
  {
   "cell_type": "code",
   "execution_count": 97,
   "metadata": {},
   "outputs": [],
   "source": [
    "option = 3\n",
    "confidence_score = 0.999\n",
    "inters_fn = os.path.join(output_dir, 'synapse_inters_option_{}.tsv')\n",
    "inters_fn = inters_fn.format(option)\n",
    "inters_fns[option] = inters_fn\n",
    "\n",
    "with gzip.open(stringdb_fn) as fr, open(inters_fn, 'w') as fw: \n",
    "    header = next(fr).decode()\n",
    "    for line in fr: \n",
    "        \n",
    "        line = line.decode()\n",
    "        line = line.split()\n",
    "        node1 = line[0]\n",
    "        node2 = line[1]\n",
    "        \n",
    "        node1_name = prot_data[node1][0]\n",
    "        node2_name = prot_data[node2][0]\n",
    "        \n",
    "        if node1_name in complete_list and \\\n",
    "                node2_name in complete_list: \n",
    "            combined_score = float(line[-1]) / 1000\n",
    "            s = [node1_name, node2_name, combined_score]\n",
    "            s = [str(x) for x in s]\n",
    "            s = '\\t'.join(s) + '\\n'\n",
    "            fw.write(s)\n",
    "                \n",
    "        elif node1_name in complete_list or \\\n",
    "                node2_name in complete_list: \n",
    "                \n",
    "            combined_score = float(line[-1]) / 1000\n",
    "            if combined_score >= confidence_score: \n",
    "                s = [node1_name, node2_name, combined_score]\n",
    "                s = [str(x) for x in s]\n",
    "                s = '\\t'.join(s) + '\\n'\n",
    "                fw.write(s)\n",
    "        "
   ]
  },
  {
   "cell_type": "markdown",
   "metadata": {},
   "source": [
    "### Option 4"
   ]
  },
  {
   "cell_type": "markdown",
   "metadata": {},
   "source": [
    "Combine 2 + 3 meaning make subnetwork with 1,460 synapse genes with confidence >= 0.4 and then add first order interactions with confidence >= 0.999"
   ]
  },
  {
   "cell_type": "code",
   "execution_count": 103,
   "metadata": {},
   "outputs": [],
   "source": [
    "option = 4\n",
    "confidence_score_a = 0.4\n",
    "confidence_score_b = 0.999\n",
    "\n",
    "inters_fn = os.path.join(output_dir, 'synapse_inters_option_{}.tsv')\n",
    "inters_fn = inters_fn.format(option)\n",
    "inters_fns[option] = inters_fn\n",
    "\n",
    "with gzip.open(stringdb_fn) as fr, open(inters_fn, 'w') as fw: \n",
    "    header = next(fr).decode()\n",
    "    for line in fr: \n",
    "        \n",
    "        line = line.decode()\n",
    "        line = line.split()\n",
    "        node1 = line[0]\n",
    "        node2 = line[1]\n",
    "        \n",
    "        node1_name = prot_data[node1][0]\n",
    "        node2_name = prot_data[node2][0]\n",
    "        \n",
    "        if node1_name in complete_list and \\\n",
    "                node2_name in complete_list: \n",
    "            \n",
    "            combined_score = float(line[-1]) / 1000\n",
    "            if combined_score >= confidence_score_a: \n",
    "                s = [node1_name, node2_name, combined_score]\n",
    "                s = [str(x) for x in s]\n",
    "                s = '\\t'.join(s) + '\\n'\n",
    "                fw.write(s)\n",
    "                \n",
    "        elif node1_name in complete_list or \\\n",
    "                node2_name in complete_list: \n",
    "                \n",
    "            combined_score = float(line[-1]) / 1000\n",
    "            if combined_score >= confidence_score_b: \n",
    "                s = [node1_name, node2_name, combined_score]\n",
    "                s = [str(x) for x in s]\n",
    "                s = '\\t'.join(s) + '\\n'\n",
    "                fw.write(s)\n",
    "        "
   ]
  },
  {
   "cell_type": "markdown",
   "metadata": {},
   "source": [
    "## Investigating the number of genes "
   ]
  },
  {
   "cell_type": "code",
   "execution_count": 104,
   "metadata": {},
   "outputs": [],
   "source": [
    "def find_genes_in_interactions_file(fn):\n",
    "    \n",
    "    final_stringdb_genes = set()\n",
    "    with open(fn, 'r') as f:\n",
    "\n",
    "        for line in f: \n",
    "\n",
    "            line = line.split()\n",
    "            node1 = line[0]\n",
    "            node2 = line[1]        \n",
    "            final_stringdb_genes.add(node1)\n",
    "            final_stringdb_genes.add(node2)\n",
    "            \n",
    "    return(final_stringdb_genes)"
   ]
  },
  {
   "cell_type": "code",
   "execution_count": 105,
   "metadata": {},
   "outputs": [],
   "source": [
    "op1 = find_genes_in_interactions_file(inters_fns[1])\n",
    "op2 = find_genes_in_interactions_file(inters_fns[2])\n",
    "op3 = find_genes_in_interactions_file(inters_fns[3])\n",
    "op4 = find_genes_in_interactions_file(inters_fns[4])"
   ]
  },
  {
   "cell_type": "code",
   "execution_count": 108,
   "metadata": {},
   "outputs": [],
   "source": [
    "num_genes_in_ops = [len(op1), len(op2), len(op3), len(op4)]"
   ]
  },
  {
   "cell_type": "code",
   "execution_count": 113,
   "metadata": {},
   "outputs": [
    {
     "name": "stdout",
     "output_type": "stream",
     "text": [
      "Number of genes in ops: 1288, 1283, 1685, 1680\n"
     ]
    }
   ],
   "source": [
    "print('Number of genes in ops:' , ', '.join([str(x) for x in num_genes_in_ops]))"
   ]
  },
  {
   "cell_type": "code",
   "execution_count": 115,
   "metadata": {},
   "outputs": [],
   "source": [
    "def count_file_lines(fn):\n",
    "    with open(fn) as f: \n",
    "        return(len(f.readlines()))"
   ]
  },
  {
   "cell_type": "code",
   "execution_count": 118,
   "metadata": {},
   "outputs": [],
   "source": [
    "num_inters_in_ops = [count_file_lines(inters_fns[i]) for i in range(1, 5)]"
   ]
  },
  {
   "cell_type": "code",
   "execution_count": 122,
   "metadata": {},
   "outputs": [
    {
     "name": "stdout",
     "output_type": "stream",
     "text": [
      "Number of interactions in ops: 251066, 52044, 255340, 56318\n"
     ]
    }
   ],
   "source": [
    "print('Number of interactions in ops:' , ', '.join([str(x) for x in num_inters_in_ops]))"
   ]
  },
  {
   "cell_type": "code",
   "execution_count": null,
   "metadata": {},
   "outputs": [],
   "source": []
  },
  {
   "cell_type": "code",
   "execution_count": null,
   "metadata": {},
   "outputs": [],
   "source": []
  },
  {
   "cell_type": "code",
   "execution_count": null,
   "metadata": {},
   "outputs": [],
   "source": []
  },
  {
   "cell_type": "code",
   "execution_count": 107,
   "metadata": {},
   "outputs": [
    {
     "name": "stdout",
     "output_type": "stream",
     "text": [
      "1098 45 426 426\n"
     ]
    }
   ],
   "source": [
    "print(len(class_genes.intersection(op3)),\n",
    "len(omim_disease_genes.intersection(op3)),\n",
    "len(stringdb_anno_genes.intersection(op3)),\n",
    "len(stringdb_anno_genes.intersection(op3)))"
   ]
  },
  {
   "cell_type": "code",
   "execution_count": null,
   "metadata": {},
   "outputs": [],
   "source": []
  },
  {
   "cell_type": "code",
   "execution_count": null,
   "metadata": {},
   "outputs": [],
   "source": []
  },
  {
   "cell_type": "code",
   "execution_count": null,
   "metadata": {},
   "outputs": [],
   "source": []
  },
  {
   "cell_type": "code",
   "execution_count": null,
   "metadata": {},
   "outputs": [],
   "source": []
  },
  {
   "cell_type": "code",
   "execution_count": null,
   "metadata": {},
   "outputs": [],
   "source": []
  },
  {
   "cell_type": "code",
   "execution_count": null,
   "metadata": {},
   "outputs": [],
   "source": []
  },
  {
   "cell_type": "code",
   "execution_count": null,
   "metadata": {},
   "outputs": [],
   "source": []
  },
  {
   "cell_type": "code",
   "execution_count": null,
   "metadata": {},
   "outputs": [],
   "source": []
  },
  {
   "cell_type": "code",
   "execution_count": null,
   "metadata": {},
   "outputs": [],
   "source": []
  }
 ],
 "metadata": {
  "kernelspec": {
   "display_name": "Python (DNA Shape)",
   "language": "python",
   "name": "dna_shape"
  },
  "language_info": {
   "codemirror_mode": {
    "name": "ipython",
    "version": 3
   },
   "file_extension": ".py",
   "mimetype": "text/x-python",
   "name": "python",
   "nbconvert_exporter": "python",
   "pygments_lexer": "ipython3",
   "version": "3.7.1"
  }
 },
 "nbformat": 4,
 "nbformat_minor": 2
}
