{
 "cells": [
  {
   "cell_type": "code",
   "execution_count": 3,
   "metadata": {},
   "outputs": [],
   "source": [
    "import sys \n",
    "import os\n",
    "import subprocess\n",
    "import numpy as np \n",
    "import time\n",
    "from itertools import product \n",
    "\n",
    "option = 2\n",
    "output_dir = '../output/run_clixo/option{}'.format(option); \n",
    "if not os.path.exists(output_dir): os.makedirs(output_dir)\n",
    "stringdb_dir = '../output/extracting_string_interactions_subnetworks/'"
   ]
  },
  {
   "cell_type": "code",
   "execution_count": 4,
   "metadata": {},
   "outputs": [
    {
     "data": {
      "text/plain": [
       "'../output/extracting_string_interactions_subnetworks/synapse_inters_option_2.tsv'"
      ]
     },
     "execution_count": 4,
     "metadata": {},
     "output_type": "execute_result"
    }
   ],
   "source": [
    "# Obtaining the clixo program \n",
    "clixo_script = '/gpfs/data01/glasslab/home/joreyna/projects/BNFO286/clixo_0.3/clixo'\n",
    "\n",
    "# Listing the string interactions file\n",
    "interactions_fn = os.path.join(stringdb_dir, 'synapse_inters_option_{}.tsv')\n",
    "interactions_fn = interactions_fn.format(option)\n",
    "interactions_fn "
   ]
  },
  {
   "cell_type": "markdown",
   "metadata": {},
   "source": [
    "## Code to run a single parameter set \n"
   ]
  },
  {
   "cell_type": "code",
   "execution_count": 38,
   "metadata": {},
   "outputs": [
    {
     "name": "stdout",
     "output_type": "stream",
     "text": [
      "Running: /gpfs/data01/glasslab/home/joreyna/projects/BNFO286/clixo_0.3/clixo ../output/extracting_string_interactions_subnetworks/synapse_inters_option_2.tsv 0.01 0.2 > ../output/run_clixo/option2/string_synapse_interactions_combined_score.clixo_alpha0.01_beta0.2.txt\n"
     ]
    }
   ],
   "source": [
    "alpha = 0.01\n",
    "beta = 0.2\n",
    "\n",
    "# Naming the clixo output (can change if you need)\n",
    "clixo_fn = os.path.join(output_dir, \n",
    "    'string_synapse_interactions_combined_score.clixo_alpha{}_beta{}.txt'.format(alpha, beta))\n",
    "cmd = '{} {} {} {} > {}'.format(clixo_script, interactions_fn, alpha, beta, clixo_fn)\n",
    "print('Running: {}'.format(cmd))\n",
    "\n",
    "if not os.path.exists(clixo_fn): \n",
    "    sp = subprocess.Popen(cmd, stderr=subprocess.PIPE, stdout=subprocess.PIPE, shell=True)\n",
    "    msgs = sp.communicate()\n",
    "    print('\\n'.join([x.decode() for x in msgs]))"
   ]
  },
  {
   "cell_type": "markdown",
   "metadata": {},
   "source": [
    "### Testing different values of alpha and beta"
   ]
  },
  {
   "cell_type": "code",
   "execution_count": 17,
   "metadata": {},
   "outputs": [],
   "source": [
    "def get_alpha_beta(l):\n",
    "    \"\"\"\n",
    "    Yield function to get the correct alpha and beta names.\n",
    "    \n",
    "    \"\"\"\n",
    "    for x in l: \n",
    "        alpha = '{:.2f}'.format(x[0])\n",
    "        beta =  '{:.2f}'.format(x[1])\n",
    "        yield((alpha, beta))\n",
    "        \n",
    "    yield(None, None)"
   ]
  },
  {
   "cell_type": "code",
   "execution_count": null,
   "metadata": {},
   "outputs": [],
   "source": [
    "# import shutil"
   ]
  },
  {
   "cell_type": "code",
   "execution_count": 54,
   "metadata": {},
   "outputs": [],
   "source": [
    "# Gathering all the \n",
    "parameters = product(np.arange(0.01, 0.05, 0.01), np.arange(0.3, 0.5, 0.01))\n",
    "parameters = get_alpha_beta(parameters)\n",
    "\n",
    "# for alpha, beta in parameters:\n",
    "    \n",
    "#     # Running CliXo jobs with a new set of parameters\n",
    "#     clixo_fn = 'string_synapse_interactions_combined_score'\n",
    "#     clixo_fn += '.clixo_alpha{}_beta{}.txt'\n",
    "#     clixo_fn = clixo_fn.format(alpha, beta)\n",
    "#     clixo_fn = os.path.join(output_dir + '/archive/', clixo_fn)\n",
    "    \n",
    "#     if os.path.exists(clixo_fn):\n",
    "#         shutil.move(clixo_fn, output_dir)"
   ]
  },
  {
   "cell_type": "code",
   "execution_count": 55,
   "metadata": {
    "scrolled": false
   },
   "outputs": [
    {
     "name": "stdout",
     "output_type": "stream",
     "text": [
      "Running: /gpfs/data01/glasslab/home/joreyna/projects/BNFO286/clixo_0.3/clixo ../output/extracting_string_interactions_subnetworks/synapse_inters_option_2.tsv 0.01 0.41 > ../output/run_clixo/option2/string_synapse_interactions_combined_score.clixo_alpha0.01_beta0.41.txt\n",
      "Running: /gpfs/data01/glasslab/home/joreyna/projects/BNFO286/clixo_0.3/clixo ../output/extracting_string_interactions_subnetworks/synapse_inters_option_2.tsv 0.01 0.42 > ../output/run_clixo/option2/string_synapse_interactions_combined_score.clixo_alpha0.01_beta0.42.txt\n",
      "Running: /gpfs/data01/glasslab/home/joreyna/projects/BNFO286/clixo_0.3/clixo ../output/extracting_string_interactions_subnetworks/synapse_inters_option_2.tsv 0.01 0.43 > ../output/run_clixo/option2/string_synapse_interactions_combined_score.clixo_alpha0.01_beta0.43.txt\n",
      "Running: /gpfs/data01/glasslab/home/joreyna/projects/BNFO286/clixo_0.3/clixo ../output/extracting_string_interactions_subnetworks/synapse_inters_option_2.tsv 0.01 0.44 > ../output/run_clixo/option2/string_synapse_interactions_combined_score.clixo_alpha0.01_beta0.44.txt\n",
      "Running: /gpfs/data01/glasslab/home/joreyna/projects/BNFO286/clixo_0.3/clixo ../output/extracting_string_interactions_subnetworks/synapse_inters_option_2.tsv 0.01 0.45 > ../output/run_clixo/option2/string_synapse_interactions_combined_score.clixo_alpha0.01_beta0.45.txt\n",
      "Running: /gpfs/data01/glasslab/home/joreyna/projects/BNFO286/clixo_0.3/clixo ../output/extracting_string_interactions_subnetworks/synapse_inters_option_2.tsv 0.01 0.46 > ../output/run_clixo/option2/string_synapse_interactions_combined_score.clixo_alpha0.01_beta0.46.txt\n",
      "Running: /gpfs/data01/glasslab/home/joreyna/projects/BNFO286/clixo_0.3/clixo ../output/extracting_string_interactions_subnetworks/synapse_inters_option_2.tsv 0.01 0.47 > ../output/run_clixo/option2/string_synapse_interactions_combined_score.clixo_alpha0.01_beta0.47.txt\n",
      "Running: /gpfs/data01/glasslab/home/joreyna/projects/BNFO286/clixo_0.3/clixo ../output/extracting_string_interactions_subnetworks/synapse_inters_option_2.tsv 0.01 0.48 > ../output/run_clixo/option2/string_synapse_interactions_combined_score.clixo_alpha0.01_beta0.48.txt\n",
      "Running: /gpfs/data01/glasslab/home/joreyna/projects/BNFO286/clixo_0.3/clixo ../output/extracting_string_interactions_subnetworks/synapse_inters_option_2.tsv 0.01 0.49 > ../output/run_clixo/option2/string_synapse_interactions_combined_score.clixo_alpha0.01_beta0.49.txt\n",
      "Iteraction number: 0, number of jobs running: 9\n",
      "Iteraction number: 1, number of jobs running: 9\n",
      "Running: /gpfs/data01/glasslab/home/joreyna/projects/BNFO286/clixo_0.3/clixo ../output/extracting_string_interactions_subnetworks/synapse_inters_option_2.tsv 0.02 0.41 > ../output/run_clixo/option2/string_synapse_interactions_combined_score.clixo_alpha0.02_beta0.41.txt\n",
      "Running: /gpfs/data01/glasslab/home/joreyna/projects/BNFO286/clixo_0.3/clixo ../output/extracting_string_interactions_subnetworks/synapse_inters_option_2.tsv 0.02 0.42 > ../output/run_clixo/option2/string_synapse_interactions_combined_score.clixo_alpha0.02_beta0.42.txt\n",
      "Running: /gpfs/data01/glasslab/home/joreyna/projects/BNFO286/clixo_0.3/clixo ../output/extracting_string_interactions_subnetworks/synapse_inters_option_2.tsv 0.02 0.43 > ../output/run_clixo/option2/string_synapse_interactions_combined_score.clixo_alpha0.02_beta0.43.txt\n",
      "Running: /gpfs/data01/glasslab/home/joreyna/projects/BNFO286/clixo_0.3/clixo ../output/extracting_string_interactions_subnetworks/synapse_inters_option_2.tsv 0.02 0.44 > ../output/run_clixo/option2/string_synapse_interactions_combined_score.clixo_alpha0.02_beta0.44.txt\n",
      "Running: /gpfs/data01/glasslab/home/joreyna/projects/BNFO286/clixo_0.3/clixo ../output/extracting_string_interactions_subnetworks/synapse_inters_option_2.tsv 0.02 0.45 > ../output/run_clixo/option2/string_synapse_interactions_combined_score.clixo_alpha0.02_beta0.45.txt\n",
      "Running: /gpfs/data01/glasslab/home/joreyna/projects/BNFO286/clixo_0.3/clixo ../output/extracting_string_interactions_subnetworks/synapse_inters_option_2.tsv 0.02 0.46 > ../output/run_clixo/option2/string_synapse_interactions_combined_score.clixo_alpha0.02_beta0.46.txt\n",
      "Running: /gpfs/data01/glasslab/home/joreyna/projects/BNFO286/clixo_0.3/clixo ../output/extracting_string_interactions_subnetworks/synapse_inters_option_2.tsv 0.02 0.47 > ../output/run_clixo/option2/string_synapse_interactions_combined_score.clixo_alpha0.02_beta0.47.txt\n",
      "Running: /gpfs/data01/glasslab/home/joreyna/projects/BNFO286/clixo_0.3/clixo ../output/extracting_string_interactions_subnetworks/synapse_inters_option_2.tsv 0.02 0.48 > ../output/run_clixo/option2/string_synapse_interactions_combined_score.clixo_alpha0.02_beta0.48.txt\n",
      "Running: /gpfs/data01/glasslab/home/joreyna/projects/BNFO286/clixo_0.3/clixo ../output/extracting_string_interactions_subnetworks/synapse_inters_option_2.tsv 0.02 0.49 > ../output/run_clixo/option2/string_synapse_interactions_combined_score.clixo_alpha0.02_beta0.49.txt\n",
      "Iteraction number: 2, number of jobs running: 15\n",
      "Running: /gpfs/data01/glasslab/home/joreyna/projects/BNFO286/clixo_0.3/clixo ../output/extracting_string_interactions_subnetworks/synapse_inters_option_2.tsv 0.03 0.41 > ../output/run_clixo/option2/string_synapse_interactions_combined_score.clixo_alpha0.03_beta0.41.txt\n",
      "Running: /gpfs/data01/glasslab/home/joreyna/projects/BNFO286/clixo_0.3/clixo ../output/extracting_string_interactions_subnetworks/synapse_inters_option_2.tsv 0.03 0.42 > ../output/run_clixo/option2/string_synapse_interactions_combined_score.clixo_alpha0.03_beta0.42.txt\n",
      "Iteraction number: 3, number of jobs running: 14\n",
      "Running: /gpfs/data01/glasslab/home/joreyna/projects/BNFO286/clixo_0.3/clixo ../output/extracting_string_interactions_subnetworks/synapse_inters_option_2.tsv 0.03 0.43 > ../output/run_clixo/option2/string_synapse_interactions_combined_score.clixo_alpha0.03_beta0.43.txt\n",
      "Running: /gpfs/data01/glasslab/home/joreyna/projects/BNFO286/clixo_0.3/clixo ../output/extracting_string_interactions_subnetworks/synapse_inters_option_2.tsv 0.03 0.44 > ../output/run_clixo/option2/string_synapse_interactions_combined_score.clixo_alpha0.03_beta0.44.txt\n",
      "Running: /gpfs/data01/glasslab/home/joreyna/projects/BNFO286/clixo_0.3/clixo ../output/extracting_string_interactions_subnetworks/synapse_inters_option_2.tsv 0.03 0.45 > ../output/run_clixo/option2/string_synapse_interactions_combined_score.clixo_alpha0.03_beta0.45.txt\n",
      "Running: /gpfs/data01/glasslab/home/joreyna/projects/BNFO286/clixo_0.3/clixo ../output/extracting_string_interactions_subnetworks/synapse_inters_option_2.tsv 0.03 0.46 > ../output/run_clixo/option2/string_synapse_interactions_combined_score.clixo_alpha0.03_beta0.46.txt\n",
      "Running: /gpfs/data01/glasslab/home/joreyna/projects/BNFO286/clixo_0.3/clixo ../output/extracting_string_interactions_subnetworks/synapse_inters_option_2.tsv 0.03 0.47 > ../output/run_clixo/option2/string_synapse_interactions_combined_score.clixo_alpha0.03_beta0.47.txt\n",
      "Running: /gpfs/data01/glasslab/home/joreyna/projects/BNFO286/clixo_0.3/clixo ../output/extracting_string_interactions_subnetworks/synapse_inters_option_2.tsv 0.03 0.48 > ../output/run_clixo/option2/string_synapse_interactions_combined_score.clixo_alpha0.03_beta0.48.txt\n",
      "Running: /gpfs/data01/glasslab/home/joreyna/projects/BNFO286/clixo_0.3/clixo ../output/extracting_string_interactions_subnetworks/synapse_inters_option_2.tsv 0.03 0.49 > ../output/run_clixo/option2/string_synapse_interactions_combined_score.clixo_alpha0.03_beta0.49.txt\n",
      "Iteraction number: 4, number of jobs running: 18\n",
      "Iteraction number: 5, number of jobs running: 16\n",
      "Running: /gpfs/data01/glasslab/home/joreyna/projects/BNFO286/clixo_0.3/clixo ../output/extracting_string_interactions_subnetworks/synapse_inters_option_2.tsv 0.04 0.41 > ../output/run_clixo/option2/string_synapse_interactions_combined_score.clixo_alpha0.04_beta0.41.txt\n",
      "Running: /gpfs/data01/glasslab/home/joreyna/projects/BNFO286/clixo_0.3/clixo ../output/extracting_string_interactions_subnetworks/synapse_inters_option_2.tsv 0.04 0.42 > ../output/run_clixo/option2/string_synapse_interactions_combined_score.clixo_alpha0.04_beta0.42.txt\n",
      "Iteraction number: 6, number of jobs running: 15\n",
      "Running: /gpfs/data01/glasslab/home/joreyna/projects/BNFO286/clixo_0.3/clixo ../output/extracting_string_interactions_subnetworks/synapse_inters_option_2.tsv 0.04 0.43 > ../output/run_clixo/option2/string_synapse_interactions_combined_score.clixo_alpha0.04_beta0.43.txt\n",
      "Running: /gpfs/data01/glasslab/home/joreyna/projects/BNFO286/clixo_0.3/clixo ../output/extracting_string_interactions_subnetworks/synapse_inters_option_2.tsv 0.04 0.44 > ../output/run_clixo/option2/string_synapse_interactions_combined_score.clixo_alpha0.04_beta0.44.txt\n",
      "Running: /gpfs/data01/glasslab/home/joreyna/projects/BNFO286/clixo_0.3/clixo ../output/extracting_string_interactions_subnetworks/synapse_inters_option_2.tsv 0.04 0.45 > ../output/run_clixo/option2/string_synapse_interactions_combined_score.clixo_alpha0.04_beta0.45.txt\n",
      "Running: /gpfs/data01/glasslab/home/joreyna/projects/BNFO286/clixo_0.3/clixo ../output/extracting_string_interactions_subnetworks/synapse_inters_option_2.tsv 0.04 0.46 > ../output/run_clixo/option2/string_synapse_interactions_combined_score.clixo_alpha0.04_beta0.46.txt\n",
      "Running: /gpfs/data01/glasslab/home/joreyna/projects/BNFO286/clixo_0.3/clixo ../output/extracting_string_interactions_subnetworks/synapse_inters_option_2.tsv 0.04 0.47 > ../output/run_clixo/option2/string_synapse_interactions_combined_score.clixo_alpha0.04_beta0.47.txt\n"
     ]
    },
    {
     "name": "stdout",
     "output_type": "stream",
     "text": [
      "Iteraction number: 7, number of jobs running: 20\n",
      "Running: /gpfs/data01/glasslab/home/joreyna/projects/BNFO286/clixo_0.3/clixo ../output/extracting_string_interactions_subnetworks/synapse_inters_option_2.tsv 0.04 0.48 > ../output/run_clixo/option2/string_synapse_interactions_combined_score.clixo_alpha0.04_beta0.48.txt\n",
      "Running: /gpfs/data01/glasslab/home/joreyna/projects/BNFO286/clixo_0.3/clixo ../output/extracting_string_interactions_subnetworks/synapse_inters_option_2.tsv 0.04 0.49 > ../output/run_clixo/option2/string_synapse_interactions_combined_score.clixo_alpha0.04_beta0.49.txt\n",
      "Iteraction number: 8, number of jobs running: 2\n"
     ]
    },
    {
     "ename": "StopIteration",
     "evalue": "",
     "output_type": "error",
     "traceback": [
      "\u001b[0;31m---------------------------------------------------------------------------\u001b[0m",
      "\u001b[0;31mStopIteration\u001b[0m                             Traceback (most recent call last)",
      "\u001b[0;32m<ipython-input-55-220e9a6abf3f>\u001b[0m in \u001b[0;36m<module>\u001b[0;34m\u001b[0m\n\u001b[1;32m     23\u001b[0m \u001b[0;34m\u001b[0m\u001b[0m\n\u001b[1;32m     24\u001b[0m         \u001b[0;31m# Pulling the alpha and beta values\u001b[0m\u001b[0;34m\u001b[0m\u001b[0;34m\u001b[0m\u001b[0;34m\u001b[0m\u001b[0m\n\u001b[0;32m---> 25\u001b[0;31m         \u001b[0malpha\u001b[0m\u001b[0;34m,\u001b[0m \u001b[0mbeta\u001b[0m \u001b[0;34m=\u001b[0m \u001b[0mnext\u001b[0m\u001b[0;34m(\u001b[0m\u001b[0mparameters\u001b[0m\u001b[0;34m)\u001b[0m\u001b[0;34m\u001b[0m\u001b[0;34m\u001b[0m\u001b[0m\n\u001b[0m\u001b[1;32m     26\u001b[0m         \u001b[0;31m#print('alpha, beta', alpha, beta)\u001b[0m\u001b[0;34m\u001b[0m\u001b[0;34m\u001b[0m\u001b[0;34m\u001b[0m\u001b[0m\n\u001b[1;32m     27\u001b[0m \u001b[0;34m\u001b[0m\u001b[0m\n",
      "\u001b[0;31mStopIteration\u001b[0m: "
     ]
    }
   ],
   "source": [
    "jobs = {}\n",
    "concurrent_jobs = 20\n",
    "num_loops = 0 \n",
    "while True: \n",
    "    \n",
    "    # Get the status of jobs  \n",
    "    jobs = {job: job.poll() for job in jobs}\n",
    "            \n",
    "    # Remove jobs\n",
    "    job_keys = jobs.keys()\n",
    "    for job_key in list(job_keys):  \n",
    "        status = jobs[job_key]  \n",
    "        # Job is no longer running, remove it \n",
    "        if status != None: \n",
    "            jobs.pop(job_key)      \n",
    "            \n",
    "    # Start new jobs \n",
    "    num_new_jobs = concurrent_jobs - len(jobs)  \n",
    "    \n",
    "    #print('num_new_jobs', num_new_jobs)\n",
    "    \n",
    "    for i in range(num_new_jobs):\n",
    "            \n",
    "        # Pulling the alpha and beta values \n",
    "        alpha, beta = next(parameters)\n",
    "        #print('alpha, beta', alpha, beta)\n",
    "            \n",
    "        # Checking whether there are more parameters to run  \n",
    "        if alpha == None: \n",
    "            break \n",
    "            \n",
    "        # Running CliXo jobs with a new set of parameters\n",
    "        clixo_fn = 'string_synapse_interactions_combined_score'\n",
    "        clixo_fn += '.clixo_alpha{}_beta{}.txt'\n",
    "        clixo_fn = clixo_fn.format(alpha, beta)\n",
    "        clixo_fn = os.path.join(output_dir, clixo_fn)\n",
    "\n",
    "        if not os.path.exists(clixo_fn):\n",
    "            cmd = '{} {} {} {} > {}'.format(clixo_script, \n",
    "                                            interactions_fn, \n",
    "                                            alpha, \n",
    "                                            beta, \n",
    "                                            clixo_fn)\n",
    "            print('Running: {}'.format(cmd))\n",
    "            job = subprocess.Popen(cmd, \n",
    "                                   stderr=subprocess.PIPE, \n",
    "                                   stdout=subprocess.PIPE, \n",
    "                                   shell=True)\n",
    "\n",
    "            # Add the status of the job as running (=None)\n",
    "            jobs[job] = None \n",
    "            \n",
    "    if len(jobs) == concurrent_jobs: \n",
    "        time.sleep(180)\n",
    "    else:\n",
    "        time.sleep(5)\n",
    "        \n",
    "    print('Iteraction number: {}, number of jobs running: {}'.\\\n",
    "          format(num_loops, len(jobs)))\n",
    "    num_loops+= 1"
   ]
  },
  {
   "cell_type": "code",
   "execution_count": null,
   "metadata": {},
   "outputs": [],
   "source": []
  },
  {
   "cell_type": "code",
   "execution_count": null,
   "metadata": {},
   "outputs": [],
   "source": []
  },
  {
   "cell_type": "code",
   "execution_count": null,
   "metadata": {},
   "outputs": [],
   "source": []
  },
  {
   "cell_type": "code",
   "execution_count": null,
   "metadata": {},
   "outputs": [],
   "source": []
  },
  {
   "cell_type": "code",
   "execution_count": null,
   "metadata": {},
   "outputs": [],
   "source": []
  },
  {
   "cell_type": "code",
   "execution_count": null,
   "metadata": {},
   "outputs": [],
   "source": []
  },
  {
   "cell_type": "code",
   "execution_count": null,
   "metadata": {},
   "outputs": [],
   "source": []
  },
  {
   "cell_type": "code",
   "execution_count": null,
   "metadata": {},
   "outputs": [],
   "source": []
  },
  {
   "cell_type": "code",
   "execution_count": null,
   "metadata": {},
   "outputs": [],
   "source": []
  }
 ],
 "metadata": {
  "kernelspec": {
   "display_name": "Python (DNA Shape)",
   "language": "python",
   "name": "dna_shape"
  },
  "language_info": {
   "codemirror_mode": {
    "name": "ipython",
    "version": 3
   },
   "file_extension": ".py",
   "mimetype": "text/x-python",
   "name": "python",
   "nbconvert_exporter": "python",
   "pygments_lexer": "ipython3",
   "version": "3.7.1"
  }
 },
 "nbformat": 4,
 "nbformat_minor": 2
}
